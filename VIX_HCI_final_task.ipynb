{
  "nbformat": 4,
  "nbformat_minor": 0,
  "metadata": {
    "colab": {
      "name": "VIX_HCI_final_task.ipynb",
      "provenance": []
    },
    "kernelspec": {
      "name": "python3",
      "display_name": "Python 3"
    },
    "language_info": {
      "name": "python"
    }
  },
  "cells": [
    {
      "cell_type": "markdown",
      "source": [
        "### **Connect to Google Drive**"
      ],
      "metadata": {
        "id": "aIkGutc2qcdQ"
      }
    },
    {
      "cell_type": "code",
      "source": [
        "from google.colab import drive\n",
        "drive.mount('/content/drive')"
      ],
      "metadata": {
        "colab": {
          "base_uri": "https://localhost:8080/"
        },
        "id": "mGVvOfTSqgtw",
        "outputId": "3ddadcaf-1da5-4fd8-f766-3b10a2cfce57"
      },
      "execution_count": 1,
      "outputs": [
        {
          "output_type": "stream",
          "name": "stdout",
          "text": [
            "Mounted at /content/drive\n"
          ]
        }
      ]
    },
    {
      "cell_type": "markdown",
      "source": [
        "### **Import the Libraries**"
      ],
      "metadata": {
        "id": "g4ecZEYkqQnt"
      }
    },
    {
      "cell_type": "code",
      "source": [
        "import numpy as np\n",
        "import pandas as pd\n",
        "import seaborn as sns"
      ],
      "metadata": {
        "id": "rn2Xm7IFqV9q"
      },
      "execution_count": 2,
      "outputs": []
    },
    {
      "cell_type": "markdown",
      "source": [
        "### **Importing the Data**"
      ],
      "metadata": {
        "id": "-kXQNjB6iEoO"
      }
    },
    {
      "cell_type": "markdown",
      "source": [
        "#### POS CASH Balance"
      ],
      "metadata": {
        "id": "zZbvxs04t8JU"
      }
    },
    {
      "cell_type": "code",
      "source": [
        "data_POS = pd.read_csv('/content/drive/MyDrive/VIX Home Credit Indonesia/home-credit-default-risk/POS_CASH_balance.csv')\n",
        "data_POS.head()"
      ],
      "metadata": {
        "colab": {
          "base_uri": "https://localhost:8080/",
          "height": 206
        },
        "id": "r_m1PcLfiO-P",
        "outputId": "13321aae-7790-4a14-eee3-ca8ea00ebca6"
      },
      "execution_count": 3,
      "outputs": [
        {
          "output_type": "execute_result",
          "data": {
            "text/plain": [
              "   SK_ID_PREV  SK_ID_CURR  MONTHS_BALANCE  CNT_INSTALMENT  \\\n",
              "0     1803195      182943             -31            48.0   \n",
              "1     1715348      367990             -33            36.0   \n",
              "2     1784872      397406             -32            12.0   \n",
              "3     1903291      269225             -35            48.0   \n",
              "4     2341044      334279             -35            36.0   \n",
              "\n",
              "   CNT_INSTALMENT_FUTURE NAME_CONTRACT_STATUS  SK_DPD  SK_DPD_DEF  \n",
              "0                   45.0               Active       0           0  \n",
              "1                   35.0               Active       0           0  \n",
              "2                    9.0               Active       0           0  \n",
              "3                   42.0               Active       0           0  \n",
              "4                   35.0               Active       0           0  "
            ],
            "text/html": [
              "\n",
              "  <div id=\"df-f7fa9d9d-823c-4861-a53e-fc4795e028ca\">\n",
              "    <div class=\"colab-df-container\">\n",
              "      <div>\n",
              "<style scoped>\n",
              "    .dataframe tbody tr th:only-of-type {\n",
              "        vertical-align: middle;\n",
              "    }\n",
              "\n",
              "    .dataframe tbody tr th {\n",
              "        vertical-align: top;\n",
              "    }\n",
              "\n",
              "    .dataframe thead th {\n",
              "        text-align: right;\n",
              "    }\n",
              "</style>\n",
              "<table border=\"1\" class=\"dataframe\">\n",
              "  <thead>\n",
              "    <tr style=\"text-align: right;\">\n",
              "      <th></th>\n",
              "      <th>SK_ID_PREV</th>\n",
              "      <th>SK_ID_CURR</th>\n",
              "      <th>MONTHS_BALANCE</th>\n",
              "      <th>CNT_INSTALMENT</th>\n",
              "      <th>CNT_INSTALMENT_FUTURE</th>\n",
              "      <th>NAME_CONTRACT_STATUS</th>\n",
              "      <th>SK_DPD</th>\n",
              "      <th>SK_DPD_DEF</th>\n",
              "    </tr>\n",
              "  </thead>\n",
              "  <tbody>\n",
              "    <tr>\n",
              "      <th>0</th>\n",
              "      <td>1803195</td>\n",
              "      <td>182943</td>\n",
              "      <td>-31</td>\n",
              "      <td>48.0</td>\n",
              "      <td>45.0</td>\n",
              "      <td>Active</td>\n",
              "      <td>0</td>\n",
              "      <td>0</td>\n",
              "    </tr>\n",
              "    <tr>\n",
              "      <th>1</th>\n",
              "      <td>1715348</td>\n",
              "      <td>367990</td>\n",
              "      <td>-33</td>\n",
              "      <td>36.0</td>\n",
              "      <td>35.0</td>\n",
              "      <td>Active</td>\n",
              "      <td>0</td>\n",
              "      <td>0</td>\n",
              "    </tr>\n",
              "    <tr>\n",
              "      <th>2</th>\n",
              "      <td>1784872</td>\n",
              "      <td>397406</td>\n",
              "      <td>-32</td>\n",
              "      <td>12.0</td>\n",
              "      <td>9.0</td>\n",
              "      <td>Active</td>\n",
              "      <td>0</td>\n",
              "      <td>0</td>\n",
              "    </tr>\n",
              "    <tr>\n",
              "      <th>3</th>\n",
              "      <td>1903291</td>\n",
              "      <td>269225</td>\n",
              "      <td>-35</td>\n",
              "      <td>48.0</td>\n",
              "      <td>42.0</td>\n",
              "      <td>Active</td>\n",
              "      <td>0</td>\n",
              "      <td>0</td>\n",
              "    </tr>\n",
              "    <tr>\n",
              "      <th>4</th>\n",
              "      <td>2341044</td>\n",
              "      <td>334279</td>\n",
              "      <td>-35</td>\n",
              "      <td>36.0</td>\n",
              "      <td>35.0</td>\n",
              "      <td>Active</td>\n",
              "      <td>0</td>\n",
              "      <td>0</td>\n",
              "    </tr>\n",
              "  </tbody>\n",
              "</table>\n",
              "</div>\n",
              "      <button class=\"colab-df-convert\" onclick=\"convertToInteractive('df-f7fa9d9d-823c-4861-a53e-fc4795e028ca')\"\n",
              "              title=\"Convert this dataframe to an interactive table.\"\n",
              "              style=\"display:none;\">\n",
              "        \n",
              "  <svg xmlns=\"http://www.w3.org/2000/svg\" height=\"24px\"viewBox=\"0 0 24 24\"\n",
              "       width=\"24px\">\n",
              "    <path d=\"M0 0h24v24H0V0z\" fill=\"none\"/>\n",
              "    <path d=\"M18.56 5.44l.94 2.06.94-2.06 2.06-.94-2.06-.94-.94-2.06-.94 2.06-2.06.94zm-11 1L8.5 8.5l.94-2.06 2.06-.94-2.06-.94L8.5 2.5l-.94 2.06-2.06.94zm10 10l.94 2.06.94-2.06 2.06-.94-2.06-.94-.94-2.06-.94 2.06-2.06.94z\"/><path d=\"M17.41 7.96l-1.37-1.37c-.4-.4-.92-.59-1.43-.59-.52 0-1.04.2-1.43.59L10.3 9.45l-7.72 7.72c-.78.78-.78 2.05 0 2.83L4 21.41c.39.39.9.59 1.41.59.51 0 1.02-.2 1.41-.59l7.78-7.78 2.81-2.81c.8-.78.8-2.07 0-2.86zM5.41 20L4 18.59l7.72-7.72 1.47 1.35L5.41 20z\"/>\n",
              "  </svg>\n",
              "      </button>\n",
              "      \n",
              "  <style>\n",
              "    .colab-df-container {\n",
              "      display:flex;\n",
              "      flex-wrap:wrap;\n",
              "      gap: 12px;\n",
              "    }\n",
              "\n",
              "    .colab-df-convert {\n",
              "      background-color: #E8F0FE;\n",
              "      border: none;\n",
              "      border-radius: 50%;\n",
              "      cursor: pointer;\n",
              "      display: none;\n",
              "      fill: #1967D2;\n",
              "      height: 32px;\n",
              "      padding: 0 0 0 0;\n",
              "      width: 32px;\n",
              "    }\n",
              "\n",
              "    .colab-df-convert:hover {\n",
              "      background-color: #E2EBFA;\n",
              "      box-shadow: 0px 1px 2px rgba(60, 64, 67, 0.3), 0px 1px 3px 1px rgba(60, 64, 67, 0.15);\n",
              "      fill: #174EA6;\n",
              "    }\n",
              "\n",
              "    [theme=dark] .colab-df-convert {\n",
              "      background-color: #3B4455;\n",
              "      fill: #D2E3FC;\n",
              "    }\n",
              "\n",
              "    [theme=dark] .colab-df-convert:hover {\n",
              "      background-color: #434B5C;\n",
              "      box-shadow: 0px 1px 3px 1px rgba(0, 0, 0, 0.15);\n",
              "      filter: drop-shadow(0px 1px 2px rgba(0, 0, 0, 0.3));\n",
              "      fill: #FFFFFF;\n",
              "    }\n",
              "  </style>\n",
              "\n",
              "      <script>\n",
              "        const buttonEl =\n",
              "          document.querySelector('#df-f7fa9d9d-823c-4861-a53e-fc4795e028ca button.colab-df-convert');\n",
              "        buttonEl.style.display =\n",
              "          google.colab.kernel.accessAllowed ? 'block' : 'none';\n",
              "\n",
              "        async function convertToInteractive(key) {\n",
              "          const element = document.querySelector('#df-f7fa9d9d-823c-4861-a53e-fc4795e028ca');\n",
              "          const dataTable =\n",
              "            await google.colab.kernel.invokeFunction('convertToInteractive',\n",
              "                                                     [key], {});\n",
              "          if (!dataTable) return;\n",
              "\n",
              "          const docLinkHtml = 'Like what you see? Visit the ' +\n",
              "            '<a target=\"_blank\" href=https://colab.research.google.com/notebooks/data_table.ipynb>data table notebook</a>'\n",
              "            + ' to learn more about interactive tables.';\n",
              "          element.innerHTML = '';\n",
              "          dataTable['output_type'] = 'display_data';\n",
              "          await google.colab.output.renderOutput(dataTable, element);\n",
              "          const docLink = document.createElement('div');\n",
              "          docLink.innerHTML = docLinkHtml;\n",
              "          element.appendChild(docLink);\n",
              "        }\n",
              "      </script>\n",
              "    </div>\n",
              "  </div>\n",
              "  "
            ]
          },
          "metadata": {},
          "execution_count": 3
        }
      ]
    },
    {
      "cell_type": "markdown",
      "source": [
        "####Application Train"
      ],
      "metadata": {
        "id": "QGtfq_cmuIoG"
      }
    },
    {
      "cell_type": "code",
      "source": [
        "data_train = pd.read_csv(\"/content/drive/MyDrive/VIX Home Credit Indonesia/home-credit-default-risk/application_train.csv\")\n",
        "data_train.head()"
      ],
      "metadata": {
        "colab": {
          "base_uri": "https://localhost:8080/",
          "height": 300
        },
        "id": "J4-aCpoPreAa",
        "outputId": "0197902b-4472-4ee5-e606-640f0d7f22da"
      },
      "execution_count": 4,
      "outputs": [
        {
          "output_type": "execute_result",
          "data": {
            "text/plain": [
              "   SK_ID_CURR  TARGET NAME_CONTRACT_TYPE CODE_GENDER FLAG_OWN_CAR  \\\n",
              "0      100002       1         Cash loans           M            N   \n",
              "1      100003       0         Cash loans           F            N   \n",
              "2      100004       0    Revolving loans           M            Y   \n",
              "3      100006       0         Cash loans           F            N   \n",
              "4      100007       0         Cash loans           M            N   \n",
              "\n",
              "  FLAG_OWN_REALTY  CNT_CHILDREN  AMT_INCOME_TOTAL  AMT_CREDIT  AMT_ANNUITY  \\\n",
              "0               Y             0          202500.0    406597.5      24700.5   \n",
              "1               N             0          270000.0   1293502.5      35698.5   \n",
              "2               Y             0           67500.0    135000.0       6750.0   \n",
              "3               Y             0          135000.0    312682.5      29686.5   \n",
              "4               Y             0          121500.0    513000.0      21865.5   \n",
              "\n",
              "   ...  FLAG_DOCUMENT_18 FLAG_DOCUMENT_19 FLAG_DOCUMENT_20 FLAG_DOCUMENT_21  \\\n",
              "0  ...                 0                0                0                0   \n",
              "1  ...                 0                0                0                0   \n",
              "2  ...                 0                0                0                0   \n",
              "3  ...                 0                0                0                0   \n",
              "4  ...                 0                0                0                0   \n",
              "\n",
              "  AMT_REQ_CREDIT_BUREAU_HOUR AMT_REQ_CREDIT_BUREAU_DAY  \\\n",
              "0                        0.0                       0.0   \n",
              "1                        0.0                       0.0   \n",
              "2                        0.0                       0.0   \n",
              "3                        NaN                       NaN   \n",
              "4                        0.0                       0.0   \n",
              "\n",
              "   AMT_REQ_CREDIT_BUREAU_WEEK  AMT_REQ_CREDIT_BUREAU_MON  \\\n",
              "0                         0.0                        0.0   \n",
              "1                         0.0                        0.0   \n",
              "2                         0.0                        0.0   \n",
              "3                         NaN                        NaN   \n",
              "4                         0.0                        0.0   \n",
              "\n",
              "   AMT_REQ_CREDIT_BUREAU_QRT  AMT_REQ_CREDIT_BUREAU_YEAR  \n",
              "0                        0.0                         1.0  \n",
              "1                        0.0                         0.0  \n",
              "2                        0.0                         0.0  \n",
              "3                        NaN                         NaN  \n",
              "4                        0.0                         0.0  \n",
              "\n",
              "[5 rows x 122 columns]"
            ],
            "text/html": [
              "\n",
              "  <div id=\"df-d22ef4eb-5236-45e9-a27e-f44217064cfc\">\n",
              "    <div class=\"colab-df-container\">\n",
              "      <div>\n",
              "<style scoped>\n",
              "    .dataframe tbody tr th:only-of-type {\n",
              "        vertical-align: middle;\n",
              "    }\n",
              "\n",
              "    .dataframe tbody tr th {\n",
              "        vertical-align: top;\n",
              "    }\n",
              "\n",
              "    .dataframe thead th {\n",
              "        text-align: right;\n",
              "    }\n",
              "</style>\n",
              "<table border=\"1\" class=\"dataframe\">\n",
              "  <thead>\n",
              "    <tr style=\"text-align: right;\">\n",
              "      <th></th>\n",
              "      <th>SK_ID_CURR</th>\n",
              "      <th>TARGET</th>\n",
              "      <th>NAME_CONTRACT_TYPE</th>\n",
              "      <th>CODE_GENDER</th>\n",
              "      <th>FLAG_OWN_CAR</th>\n",
              "      <th>FLAG_OWN_REALTY</th>\n",
              "      <th>CNT_CHILDREN</th>\n",
              "      <th>AMT_INCOME_TOTAL</th>\n",
              "      <th>AMT_CREDIT</th>\n",
              "      <th>AMT_ANNUITY</th>\n",
              "      <th>...</th>\n",
              "      <th>FLAG_DOCUMENT_18</th>\n",
              "      <th>FLAG_DOCUMENT_19</th>\n",
              "      <th>FLAG_DOCUMENT_20</th>\n",
              "      <th>FLAG_DOCUMENT_21</th>\n",
              "      <th>AMT_REQ_CREDIT_BUREAU_HOUR</th>\n",
              "      <th>AMT_REQ_CREDIT_BUREAU_DAY</th>\n",
              "      <th>AMT_REQ_CREDIT_BUREAU_WEEK</th>\n",
              "      <th>AMT_REQ_CREDIT_BUREAU_MON</th>\n",
              "      <th>AMT_REQ_CREDIT_BUREAU_QRT</th>\n",
              "      <th>AMT_REQ_CREDIT_BUREAU_YEAR</th>\n",
              "    </tr>\n",
              "  </thead>\n",
              "  <tbody>\n",
              "    <tr>\n",
              "      <th>0</th>\n",
              "      <td>100002</td>\n",
              "      <td>1</td>\n",
              "      <td>Cash loans</td>\n",
              "      <td>M</td>\n",
              "      <td>N</td>\n",
              "      <td>Y</td>\n",
              "      <td>0</td>\n",
              "      <td>202500.0</td>\n",
              "      <td>406597.5</td>\n",
              "      <td>24700.5</td>\n",
              "      <td>...</td>\n",
              "      <td>0</td>\n",
              "      <td>0</td>\n",
              "      <td>0</td>\n",
              "      <td>0</td>\n",
              "      <td>0.0</td>\n",
              "      <td>0.0</td>\n",
              "      <td>0.0</td>\n",
              "      <td>0.0</td>\n",
              "      <td>0.0</td>\n",
              "      <td>1.0</td>\n",
              "    </tr>\n",
              "    <tr>\n",
              "      <th>1</th>\n",
              "      <td>100003</td>\n",
              "      <td>0</td>\n",
              "      <td>Cash loans</td>\n",
              "      <td>F</td>\n",
              "      <td>N</td>\n",
              "      <td>N</td>\n",
              "      <td>0</td>\n",
              "      <td>270000.0</td>\n",
              "      <td>1293502.5</td>\n",
              "      <td>35698.5</td>\n",
              "      <td>...</td>\n",
              "      <td>0</td>\n",
              "      <td>0</td>\n",
              "      <td>0</td>\n",
              "      <td>0</td>\n",
              "      <td>0.0</td>\n",
              "      <td>0.0</td>\n",
              "      <td>0.0</td>\n",
              "      <td>0.0</td>\n",
              "      <td>0.0</td>\n",
              "      <td>0.0</td>\n",
              "    </tr>\n",
              "    <tr>\n",
              "      <th>2</th>\n",
              "      <td>100004</td>\n",
              "      <td>0</td>\n",
              "      <td>Revolving loans</td>\n",
              "      <td>M</td>\n",
              "      <td>Y</td>\n",
              "      <td>Y</td>\n",
              "      <td>0</td>\n",
              "      <td>67500.0</td>\n",
              "      <td>135000.0</td>\n",
              "      <td>6750.0</td>\n",
              "      <td>...</td>\n",
              "      <td>0</td>\n",
              "      <td>0</td>\n",
              "      <td>0</td>\n",
              "      <td>0</td>\n",
              "      <td>0.0</td>\n",
              "      <td>0.0</td>\n",
              "      <td>0.0</td>\n",
              "      <td>0.0</td>\n",
              "      <td>0.0</td>\n",
              "      <td>0.0</td>\n",
              "    </tr>\n",
              "    <tr>\n",
              "      <th>3</th>\n",
              "      <td>100006</td>\n",
              "      <td>0</td>\n",
              "      <td>Cash loans</td>\n",
              "      <td>F</td>\n",
              "      <td>N</td>\n",
              "      <td>Y</td>\n",
              "      <td>0</td>\n",
              "      <td>135000.0</td>\n",
              "      <td>312682.5</td>\n",
              "      <td>29686.5</td>\n",
              "      <td>...</td>\n",
              "      <td>0</td>\n",
              "      <td>0</td>\n",
              "      <td>0</td>\n",
              "      <td>0</td>\n",
              "      <td>NaN</td>\n",
              "      <td>NaN</td>\n",
              "      <td>NaN</td>\n",
              "      <td>NaN</td>\n",
              "      <td>NaN</td>\n",
              "      <td>NaN</td>\n",
              "    </tr>\n",
              "    <tr>\n",
              "      <th>4</th>\n",
              "      <td>100007</td>\n",
              "      <td>0</td>\n",
              "      <td>Cash loans</td>\n",
              "      <td>M</td>\n",
              "      <td>N</td>\n",
              "      <td>Y</td>\n",
              "      <td>0</td>\n",
              "      <td>121500.0</td>\n",
              "      <td>513000.0</td>\n",
              "      <td>21865.5</td>\n",
              "      <td>...</td>\n",
              "      <td>0</td>\n",
              "      <td>0</td>\n",
              "      <td>0</td>\n",
              "      <td>0</td>\n",
              "      <td>0.0</td>\n",
              "      <td>0.0</td>\n",
              "      <td>0.0</td>\n",
              "      <td>0.0</td>\n",
              "      <td>0.0</td>\n",
              "      <td>0.0</td>\n",
              "    </tr>\n",
              "  </tbody>\n",
              "</table>\n",
              "<p>5 rows × 122 columns</p>\n",
              "</div>\n",
              "      <button class=\"colab-df-convert\" onclick=\"convertToInteractive('df-d22ef4eb-5236-45e9-a27e-f44217064cfc')\"\n",
              "              title=\"Convert this dataframe to an interactive table.\"\n",
              "              style=\"display:none;\">\n",
              "        \n",
              "  <svg xmlns=\"http://www.w3.org/2000/svg\" height=\"24px\"viewBox=\"0 0 24 24\"\n",
              "       width=\"24px\">\n",
              "    <path d=\"M0 0h24v24H0V0z\" fill=\"none\"/>\n",
              "    <path d=\"M18.56 5.44l.94 2.06.94-2.06 2.06-.94-2.06-.94-.94-2.06-.94 2.06-2.06.94zm-11 1L8.5 8.5l.94-2.06 2.06-.94-2.06-.94L8.5 2.5l-.94 2.06-2.06.94zm10 10l.94 2.06.94-2.06 2.06-.94-2.06-.94-.94-2.06-.94 2.06-2.06.94z\"/><path d=\"M17.41 7.96l-1.37-1.37c-.4-.4-.92-.59-1.43-.59-.52 0-1.04.2-1.43.59L10.3 9.45l-7.72 7.72c-.78.78-.78 2.05 0 2.83L4 21.41c.39.39.9.59 1.41.59.51 0 1.02-.2 1.41-.59l7.78-7.78 2.81-2.81c.8-.78.8-2.07 0-2.86zM5.41 20L4 18.59l7.72-7.72 1.47 1.35L5.41 20z\"/>\n",
              "  </svg>\n",
              "      </button>\n",
              "      \n",
              "  <style>\n",
              "    .colab-df-container {\n",
              "      display:flex;\n",
              "      flex-wrap:wrap;\n",
              "      gap: 12px;\n",
              "    }\n",
              "\n",
              "    .colab-df-convert {\n",
              "      background-color: #E8F0FE;\n",
              "      border: none;\n",
              "      border-radius: 50%;\n",
              "      cursor: pointer;\n",
              "      display: none;\n",
              "      fill: #1967D2;\n",
              "      height: 32px;\n",
              "      padding: 0 0 0 0;\n",
              "      width: 32px;\n",
              "    }\n",
              "\n",
              "    .colab-df-convert:hover {\n",
              "      background-color: #E2EBFA;\n",
              "      box-shadow: 0px 1px 2px rgba(60, 64, 67, 0.3), 0px 1px 3px 1px rgba(60, 64, 67, 0.15);\n",
              "      fill: #174EA6;\n",
              "    }\n",
              "\n",
              "    [theme=dark] .colab-df-convert {\n",
              "      background-color: #3B4455;\n",
              "      fill: #D2E3FC;\n",
              "    }\n",
              "\n",
              "    [theme=dark] .colab-df-convert:hover {\n",
              "      background-color: #434B5C;\n",
              "      box-shadow: 0px 1px 3px 1px rgba(0, 0, 0, 0.15);\n",
              "      filter: drop-shadow(0px 1px 2px rgba(0, 0, 0, 0.3));\n",
              "      fill: #FFFFFF;\n",
              "    }\n",
              "  </style>\n",
              "\n",
              "      <script>\n",
              "        const buttonEl =\n",
              "          document.querySelector('#df-d22ef4eb-5236-45e9-a27e-f44217064cfc button.colab-df-convert');\n",
              "        buttonEl.style.display =\n",
              "          google.colab.kernel.accessAllowed ? 'block' : 'none';\n",
              "\n",
              "        async function convertToInteractive(key) {\n",
              "          const element = document.querySelector('#df-d22ef4eb-5236-45e9-a27e-f44217064cfc');\n",
              "          const dataTable =\n",
              "            await google.colab.kernel.invokeFunction('convertToInteractive',\n",
              "                                                     [key], {});\n",
              "          if (!dataTable) return;\n",
              "\n",
              "          const docLinkHtml = 'Like what you see? Visit the ' +\n",
              "            '<a target=\"_blank\" href=https://colab.research.google.com/notebooks/data_table.ipynb>data table notebook</a>'\n",
              "            + ' to learn more about interactive tables.';\n",
              "          element.innerHTML = '';\n",
              "          dataTable['output_type'] = 'display_data';\n",
              "          await google.colab.output.renderOutput(dataTable, element);\n",
              "          const docLink = document.createElement('div');\n",
              "          docLink.innerHTML = docLinkHtml;\n",
              "          element.appendChild(docLink);\n",
              "        }\n",
              "      </script>\n",
              "    </div>\n",
              "  </div>\n",
              "  "
            ]
          },
          "metadata": {},
          "execution_count": 4
        }
      ]
    },
    {
      "cell_type": "markdown",
      "source": [
        "####Bureau"
      ],
      "metadata": {
        "id": "7mVfiDU4uNsw"
      }
    },
    {
      "cell_type": "code",
      "source": [
        "data_bureau = pd.read_csv(\"/content/drive/MyDrive/VIX Home Credit Indonesia/home-credit-default-risk/bureau.csv\")\n",
        "data_bureau.head()"
      ],
      "metadata": {
        "colab": {
          "base_uri": "https://localhost:8080/",
          "height": 322
        },
        "id": "hr8tC5A9tUWS",
        "outputId": "36b3ba25-c81a-45e4-b553-6542c2b501fb"
      },
      "execution_count": 5,
      "outputs": [
        {
          "output_type": "execute_result",
          "data": {
            "text/plain": [
              "   SK_ID_CURR  SK_ID_BUREAU CREDIT_ACTIVE CREDIT_CURRENCY  DAYS_CREDIT  \\\n",
              "0      215354       5714462        Closed      currency 1         -497   \n",
              "1      215354       5714463        Active      currency 1         -208   \n",
              "2      215354       5714464        Active      currency 1         -203   \n",
              "3      215354       5714465        Active      currency 1         -203   \n",
              "4      215354       5714466        Active      currency 1         -629   \n",
              "\n",
              "   CREDIT_DAY_OVERDUE  DAYS_CREDIT_ENDDATE  DAYS_ENDDATE_FACT  \\\n",
              "0                   0               -153.0             -153.0   \n",
              "1                   0               1075.0                NaN   \n",
              "2                   0                528.0                NaN   \n",
              "3                   0                  NaN                NaN   \n",
              "4                   0               1197.0                NaN   \n",
              "\n",
              "   AMT_CREDIT_MAX_OVERDUE  CNT_CREDIT_PROLONG  AMT_CREDIT_SUM  \\\n",
              "0                     NaN                   0         91323.0   \n",
              "1                     NaN                   0        225000.0   \n",
              "2                     NaN                   0        464323.5   \n",
              "3                     NaN                   0         90000.0   \n",
              "4                 77674.5                   0       2700000.0   \n",
              "\n",
              "   AMT_CREDIT_SUM_DEBT  AMT_CREDIT_SUM_LIMIT  AMT_CREDIT_SUM_OVERDUE  \\\n",
              "0                  0.0                   NaN                     0.0   \n",
              "1             171342.0                   NaN                     0.0   \n",
              "2                  NaN                   NaN                     0.0   \n",
              "3                  NaN                   NaN                     0.0   \n",
              "4                  NaN                   NaN                     0.0   \n",
              "\n",
              "       CREDIT_TYPE  DAYS_CREDIT_UPDATE  AMT_ANNUITY  \n",
              "0  Consumer credit                -131          NaN  \n",
              "1      Credit card                 -20          NaN  \n",
              "2  Consumer credit                 -16          NaN  \n",
              "3      Credit card                 -16          NaN  \n",
              "4  Consumer credit                 -21          NaN  "
            ],
            "text/html": [
              "\n",
              "  <div id=\"df-82a7fa27-adb9-421c-85f7-72539bd97f04\">\n",
              "    <div class=\"colab-df-container\">\n",
              "      <div>\n",
              "<style scoped>\n",
              "    .dataframe tbody tr th:only-of-type {\n",
              "        vertical-align: middle;\n",
              "    }\n",
              "\n",
              "    .dataframe tbody tr th {\n",
              "        vertical-align: top;\n",
              "    }\n",
              "\n",
              "    .dataframe thead th {\n",
              "        text-align: right;\n",
              "    }\n",
              "</style>\n",
              "<table border=\"1\" class=\"dataframe\">\n",
              "  <thead>\n",
              "    <tr style=\"text-align: right;\">\n",
              "      <th></th>\n",
              "      <th>SK_ID_CURR</th>\n",
              "      <th>SK_ID_BUREAU</th>\n",
              "      <th>CREDIT_ACTIVE</th>\n",
              "      <th>CREDIT_CURRENCY</th>\n",
              "      <th>DAYS_CREDIT</th>\n",
              "      <th>CREDIT_DAY_OVERDUE</th>\n",
              "      <th>DAYS_CREDIT_ENDDATE</th>\n",
              "      <th>DAYS_ENDDATE_FACT</th>\n",
              "      <th>AMT_CREDIT_MAX_OVERDUE</th>\n",
              "      <th>CNT_CREDIT_PROLONG</th>\n",
              "      <th>AMT_CREDIT_SUM</th>\n",
              "      <th>AMT_CREDIT_SUM_DEBT</th>\n",
              "      <th>AMT_CREDIT_SUM_LIMIT</th>\n",
              "      <th>AMT_CREDIT_SUM_OVERDUE</th>\n",
              "      <th>CREDIT_TYPE</th>\n",
              "      <th>DAYS_CREDIT_UPDATE</th>\n",
              "      <th>AMT_ANNUITY</th>\n",
              "    </tr>\n",
              "  </thead>\n",
              "  <tbody>\n",
              "    <tr>\n",
              "      <th>0</th>\n",
              "      <td>215354</td>\n",
              "      <td>5714462</td>\n",
              "      <td>Closed</td>\n",
              "      <td>currency 1</td>\n",
              "      <td>-497</td>\n",
              "      <td>0</td>\n",
              "      <td>-153.0</td>\n",
              "      <td>-153.0</td>\n",
              "      <td>NaN</td>\n",
              "      <td>0</td>\n",
              "      <td>91323.0</td>\n",
              "      <td>0.0</td>\n",
              "      <td>NaN</td>\n",
              "      <td>0.0</td>\n",
              "      <td>Consumer credit</td>\n",
              "      <td>-131</td>\n",
              "      <td>NaN</td>\n",
              "    </tr>\n",
              "    <tr>\n",
              "      <th>1</th>\n",
              "      <td>215354</td>\n",
              "      <td>5714463</td>\n",
              "      <td>Active</td>\n",
              "      <td>currency 1</td>\n",
              "      <td>-208</td>\n",
              "      <td>0</td>\n",
              "      <td>1075.0</td>\n",
              "      <td>NaN</td>\n",
              "      <td>NaN</td>\n",
              "      <td>0</td>\n",
              "      <td>225000.0</td>\n",
              "      <td>171342.0</td>\n",
              "      <td>NaN</td>\n",
              "      <td>0.0</td>\n",
              "      <td>Credit card</td>\n",
              "      <td>-20</td>\n",
              "      <td>NaN</td>\n",
              "    </tr>\n",
              "    <tr>\n",
              "      <th>2</th>\n",
              "      <td>215354</td>\n",
              "      <td>5714464</td>\n",
              "      <td>Active</td>\n",
              "      <td>currency 1</td>\n",
              "      <td>-203</td>\n",
              "      <td>0</td>\n",
              "      <td>528.0</td>\n",
              "      <td>NaN</td>\n",
              "      <td>NaN</td>\n",
              "      <td>0</td>\n",
              "      <td>464323.5</td>\n",
              "      <td>NaN</td>\n",
              "      <td>NaN</td>\n",
              "      <td>0.0</td>\n",
              "      <td>Consumer credit</td>\n",
              "      <td>-16</td>\n",
              "      <td>NaN</td>\n",
              "    </tr>\n",
              "    <tr>\n",
              "      <th>3</th>\n",
              "      <td>215354</td>\n",
              "      <td>5714465</td>\n",
              "      <td>Active</td>\n",
              "      <td>currency 1</td>\n",
              "      <td>-203</td>\n",
              "      <td>0</td>\n",
              "      <td>NaN</td>\n",
              "      <td>NaN</td>\n",
              "      <td>NaN</td>\n",
              "      <td>0</td>\n",
              "      <td>90000.0</td>\n",
              "      <td>NaN</td>\n",
              "      <td>NaN</td>\n",
              "      <td>0.0</td>\n",
              "      <td>Credit card</td>\n",
              "      <td>-16</td>\n",
              "      <td>NaN</td>\n",
              "    </tr>\n",
              "    <tr>\n",
              "      <th>4</th>\n",
              "      <td>215354</td>\n",
              "      <td>5714466</td>\n",
              "      <td>Active</td>\n",
              "      <td>currency 1</td>\n",
              "      <td>-629</td>\n",
              "      <td>0</td>\n",
              "      <td>1197.0</td>\n",
              "      <td>NaN</td>\n",
              "      <td>77674.5</td>\n",
              "      <td>0</td>\n",
              "      <td>2700000.0</td>\n",
              "      <td>NaN</td>\n",
              "      <td>NaN</td>\n",
              "      <td>0.0</td>\n",
              "      <td>Consumer credit</td>\n",
              "      <td>-21</td>\n",
              "      <td>NaN</td>\n",
              "    </tr>\n",
              "  </tbody>\n",
              "</table>\n",
              "</div>\n",
              "      <button class=\"colab-df-convert\" onclick=\"convertToInteractive('df-82a7fa27-adb9-421c-85f7-72539bd97f04')\"\n",
              "              title=\"Convert this dataframe to an interactive table.\"\n",
              "              style=\"display:none;\">\n",
              "        \n",
              "  <svg xmlns=\"http://www.w3.org/2000/svg\" height=\"24px\"viewBox=\"0 0 24 24\"\n",
              "       width=\"24px\">\n",
              "    <path d=\"M0 0h24v24H0V0z\" fill=\"none\"/>\n",
              "    <path d=\"M18.56 5.44l.94 2.06.94-2.06 2.06-.94-2.06-.94-.94-2.06-.94 2.06-2.06.94zm-11 1L8.5 8.5l.94-2.06 2.06-.94-2.06-.94L8.5 2.5l-.94 2.06-2.06.94zm10 10l.94 2.06.94-2.06 2.06-.94-2.06-.94-.94-2.06-.94 2.06-2.06.94z\"/><path d=\"M17.41 7.96l-1.37-1.37c-.4-.4-.92-.59-1.43-.59-.52 0-1.04.2-1.43.59L10.3 9.45l-7.72 7.72c-.78.78-.78 2.05 0 2.83L4 21.41c.39.39.9.59 1.41.59.51 0 1.02-.2 1.41-.59l7.78-7.78 2.81-2.81c.8-.78.8-2.07 0-2.86zM5.41 20L4 18.59l7.72-7.72 1.47 1.35L5.41 20z\"/>\n",
              "  </svg>\n",
              "      </button>\n",
              "      \n",
              "  <style>\n",
              "    .colab-df-container {\n",
              "      display:flex;\n",
              "      flex-wrap:wrap;\n",
              "      gap: 12px;\n",
              "    }\n",
              "\n",
              "    .colab-df-convert {\n",
              "      background-color: #E8F0FE;\n",
              "      border: none;\n",
              "      border-radius: 50%;\n",
              "      cursor: pointer;\n",
              "      display: none;\n",
              "      fill: #1967D2;\n",
              "      height: 32px;\n",
              "      padding: 0 0 0 0;\n",
              "      width: 32px;\n",
              "    }\n",
              "\n",
              "    .colab-df-convert:hover {\n",
              "      background-color: #E2EBFA;\n",
              "      box-shadow: 0px 1px 2px rgba(60, 64, 67, 0.3), 0px 1px 3px 1px rgba(60, 64, 67, 0.15);\n",
              "      fill: #174EA6;\n",
              "    }\n",
              "\n",
              "    [theme=dark] .colab-df-convert {\n",
              "      background-color: #3B4455;\n",
              "      fill: #D2E3FC;\n",
              "    }\n",
              "\n",
              "    [theme=dark] .colab-df-convert:hover {\n",
              "      background-color: #434B5C;\n",
              "      box-shadow: 0px 1px 3px 1px rgba(0, 0, 0, 0.15);\n",
              "      filter: drop-shadow(0px 1px 2px rgba(0, 0, 0, 0.3));\n",
              "      fill: #FFFFFF;\n",
              "    }\n",
              "  </style>\n",
              "\n",
              "      <script>\n",
              "        const buttonEl =\n",
              "          document.querySelector('#df-82a7fa27-adb9-421c-85f7-72539bd97f04 button.colab-df-convert');\n",
              "        buttonEl.style.display =\n",
              "          google.colab.kernel.accessAllowed ? 'block' : 'none';\n",
              "\n",
              "        async function convertToInteractive(key) {\n",
              "          const element = document.querySelector('#df-82a7fa27-adb9-421c-85f7-72539bd97f04');\n",
              "          const dataTable =\n",
              "            await google.colab.kernel.invokeFunction('convertToInteractive',\n",
              "                                                     [key], {});\n",
              "          if (!dataTable) return;\n",
              "\n",
              "          const docLinkHtml = 'Like what you see? Visit the ' +\n",
              "            '<a target=\"_blank\" href=https://colab.research.google.com/notebooks/data_table.ipynb>data table notebook</a>'\n",
              "            + ' to learn more about interactive tables.';\n",
              "          element.innerHTML = '';\n",
              "          dataTable['output_type'] = 'display_data';\n",
              "          await google.colab.output.renderOutput(dataTable, element);\n",
              "          const docLink = document.createElement('div');\n",
              "          docLink.innerHTML = docLinkHtml;\n",
              "          element.appendChild(docLink);\n",
              "        }\n",
              "      </script>\n",
              "    </div>\n",
              "  </div>\n",
              "  "
            ]
          },
          "metadata": {},
          "execution_count": 5
        }
      ]
    },
    {
      "cell_type": "markdown",
      "source": [
        "####Bureau Balance"
      ],
      "metadata": {
        "id": "D9M4aJNUuSag"
      }
    },
    {
      "cell_type": "code",
      "source": [
        "data_bureau_balance = pd.read_csv(\"/content/drive/MyDrive/VIX Home Credit Indonesia/home-credit-default-risk/bureau_balance.csv\")\n",
        "data_bureau_balance.head()"
      ],
      "metadata": {
        "colab": {
          "base_uri": "https://localhost:8080/",
          "height": 206
        },
        "id": "TnqjcOjXtlpt",
        "outputId": "5247c560-b731-4eb5-b7b6-b4b64583267f"
      },
      "execution_count": 6,
      "outputs": [
        {
          "output_type": "execute_result",
          "data": {
            "text/plain": [
              "   SK_ID_BUREAU  MONTHS_BALANCE STATUS\n",
              "0       5715448               0      C\n",
              "1       5715448              -1      C\n",
              "2       5715448              -2      C\n",
              "3       5715448              -3      C\n",
              "4       5715448              -4      C"
            ],
            "text/html": [
              "\n",
              "  <div id=\"df-a4ef5fb7-c07d-4a31-8c15-2e2c1aceb727\">\n",
              "    <div class=\"colab-df-container\">\n",
              "      <div>\n",
              "<style scoped>\n",
              "    .dataframe tbody tr th:only-of-type {\n",
              "        vertical-align: middle;\n",
              "    }\n",
              "\n",
              "    .dataframe tbody tr th {\n",
              "        vertical-align: top;\n",
              "    }\n",
              "\n",
              "    .dataframe thead th {\n",
              "        text-align: right;\n",
              "    }\n",
              "</style>\n",
              "<table border=\"1\" class=\"dataframe\">\n",
              "  <thead>\n",
              "    <tr style=\"text-align: right;\">\n",
              "      <th></th>\n",
              "      <th>SK_ID_BUREAU</th>\n",
              "      <th>MONTHS_BALANCE</th>\n",
              "      <th>STATUS</th>\n",
              "    </tr>\n",
              "  </thead>\n",
              "  <tbody>\n",
              "    <tr>\n",
              "      <th>0</th>\n",
              "      <td>5715448</td>\n",
              "      <td>0</td>\n",
              "      <td>C</td>\n",
              "    </tr>\n",
              "    <tr>\n",
              "      <th>1</th>\n",
              "      <td>5715448</td>\n",
              "      <td>-1</td>\n",
              "      <td>C</td>\n",
              "    </tr>\n",
              "    <tr>\n",
              "      <th>2</th>\n",
              "      <td>5715448</td>\n",
              "      <td>-2</td>\n",
              "      <td>C</td>\n",
              "    </tr>\n",
              "    <tr>\n",
              "      <th>3</th>\n",
              "      <td>5715448</td>\n",
              "      <td>-3</td>\n",
              "      <td>C</td>\n",
              "    </tr>\n",
              "    <tr>\n",
              "      <th>4</th>\n",
              "      <td>5715448</td>\n",
              "      <td>-4</td>\n",
              "      <td>C</td>\n",
              "    </tr>\n",
              "  </tbody>\n",
              "</table>\n",
              "</div>\n",
              "      <button class=\"colab-df-convert\" onclick=\"convertToInteractive('df-a4ef5fb7-c07d-4a31-8c15-2e2c1aceb727')\"\n",
              "              title=\"Convert this dataframe to an interactive table.\"\n",
              "              style=\"display:none;\">\n",
              "        \n",
              "  <svg xmlns=\"http://www.w3.org/2000/svg\" height=\"24px\"viewBox=\"0 0 24 24\"\n",
              "       width=\"24px\">\n",
              "    <path d=\"M0 0h24v24H0V0z\" fill=\"none\"/>\n",
              "    <path d=\"M18.56 5.44l.94 2.06.94-2.06 2.06-.94-2.06-.94-.94-2.06-.94 2.06-2.06.94zm-11 1L8.5 8.5l.94-2.06 2.06-.94-2.06-.94L8.5 2.5l-.94 2.06-2.06.94zm10 10l.94 2.06.94-2.06 2.06-.94-2.06-.94-.94-2.06-.94 2.06-2.06.94z\"/><path d=\"M17.41 7.96l-1.37-1.37c-.4-.4-.92-.59-1.43-.59-.52 0-1.04.2-1.43.59L10.3 9.45l-7.72 7.72c-.78.78-.78 2.05 0 2.83L4 21.41c.39.39.9.59 1.41.59.51 0 1.02-.2 1.41-.59l7.78-7.78 2.81-2.81c.8-.78.8-2.07 0-2.86zM5.41 20L4 18.59l7.72-7.72 1.47 1.35L5.41 20z\"/>\n",
              "  </svg>\n",
              "      </button>\n",
              "      \n",
              "  <style>\n",
              "    .colab-df-container {\n",
              "      display:flex;\n",
              "      flex-wrap:wrap;\n",
              "      gap: 12px;\n",
              "    }\n",
              "\n",
              "    .colab-df-convert {\n",
              "      background-color: #E8F0FE;\n",
              "      border: none;\n",
              "      border-radius: 50%;\n",
              "      cursor: pointer;\n",
              "      display: none;\n",
              "      fill: #1967D2;\n",
              "      height: 32px;\n",
              "      padding: 0 0 0 0;\n",
              "      width: 32px;\n",
              "    }\n",
              "\n",
              "    .colab-df-convert:hover {\n",
              "      background-color: #E2EBFA;\n",
              "      box-shadow: 0px 1px 2px rgba(60, 64, 67, 0.3), 0px 1px 3px 1px rgba(60, 64, 67, 0.15);\n",
              "      fill: #174EA6;\n",
              "    }\n",
              "\n",
              "    [theme=dark] .colab-df-convert {\n",
              "      background-color: #3B4455;\n",
              "      fill: #D2E3FC;\n",
              "    }\n",
              "\n",
              "    [theme=dark] .colab-df-convert:hover {\n",
              "      background-color: #434B5C;\n",
              "      box-shadow: 0px 1px 3px 1px rgba(0, 0, 0, 0.15);\n",
              "      filter: drop-shadow(0px 1px 2px rgba(0, 0, 0, 0.3));\n",
              "      fill: #FFFFFF;\n",
              "    }\n",
              "  </style>\n",
              "\n",
              "      <script>\n",
              "        const buttonEl =\n",
              "          document.querySelector('#df-a4ef5fb7-c07d-4a31-8c15-2e2c1aceb727 button.colab-df-convert');\n",
              "        buttonEl.style.display =\n",
              "          google.colab.kernel.accessAllowed ? 'block' : 'none';\n",
              "\n",
              "        async function convertToInteractive(key) {\n",
              "          const element = document.querySelector('#df-a4ef5fb7-c07d-4a31-8c15-2e2c1aceb727');\n",
              "          const dataTable =\n",
              "            await google.colab.kernel.invokeFunction('convertToInteractive',\n",
              "                                                     [key], {});\n",
              "          if (!dataTable) return;\n",
              "\n",
              "          const docLinkHtml = 'Like what you see? Visit the ' +\n",
              "            '<a target=\"_blank\" href=https://colab.research.google.com/notebooks/data_table.ipynb>data table notebook</a>'\n",
              "            + ' to learn more about interactive tables.';\n",
              "          element.innerHTML = '';\n",
              "          dataTable['output_type'] = 'display_data';\n",
              "          await google.colab.output.renderOutput(dataTable, element);\n",
              "          const docLink = document.createElement('div');\n",
              "          docLink.innerHTML = docLinkHtml;\n",
              "          element.appendChild(docLink);\n",
              "        }\n",
              "      </script>\n",
              "    </div>\n",
              "  </div>\n",
              "  "
            ]
          },
          "metadata": {},
          "execution_count": 6
        }
      ]
    },
    {
      "cell_type": "markdown",
      "source": [
        "####Credit Card Balance"
      ],
      "metadata": {
        "id": "eOwDk1FuuWjt"
      }
    },
    {
      "cell_type": "code",
      "source": [
        "data_credit_card_balance = pd.read_csv(\"/content/drive/MyDrive/VIX Home Credit Indonesia/home-credit-default-risk/credit_card_balance.csv\")\n",
        "data_credit_card_balance.head()"
      ],
      "metadata": {
        "colab": {
          "base_uri": "https://localhost:8080/",
          "height": 300
        },
        "id": "r2q9w0pAtuzU",
        "outputId": "5914fefa-27e0-4962-f462-a4532e40e8a2"
      },
      "execution_count": 7,
      "outputs": [
        {
          "output_type": "execute_result",
          "data": {
            "text/plain": [
              "   SK_ID_PREV  SK_ID_CURR  MONTHS_BALANCE  AMT_BALANCE  \\\n",
              "0     2562384      378907              -6       56.970   \n",
              "1     2582071      363914              -1    63975.555   \n",
              "2     1740877      371185              -7    31815.225   \n",
              "3     1389973      337855              -4   236572.110   \n",
              "4     1891521      126868              -1   453919.455   \n",
              "\n",
              "   AMT_CREDIT_LIMIT_ACTUAL  AMT_DRAWINGS_ATM_CURRENT  AMT_DRAWINGS_CURRENT  \\\n",
              "0                   135000                       0.0                 877.5   \n",
              "1                    45000                    2250.0                2250.0   \n",
              "2                   450000                       0.0                   0.0   \n",
              "3                   225000                    2250.0                2250.0   \n",
              "4                   450000                       0.0               11547.0   \n",
              "\n",
              "   AMT_DRAWINGS_OTHER_CURRENT  AMT_DRAWINGS_POS_CURRENT  \\\n",
              "0                         0.0                     877.5   \n",
              "1                         0.0                       0.0   \n",
              "2                         0.0                       0.0   \n",
              "3                         0.0                       0.0   \n",
              "4                         0.0                   11547.0   \n",
              "\n",
              "   AMT_INST_MIN_REGULARITY  ...  AMT_RECIVABLE  AMT_TOTAL_RECEIVABLE  \\\n",
              "0                 1700.325  ...          0.000                 0.000   \n",
              "1                 2250.000  ...      64875.555             64875.555   \n",
              "2                 2250.000  ...      31460.085             31460.085   \n",
              "3                11795.760  ...     233048.970            233048.970   \n",
              "4                22924.890  ...     453919.455            453919.455   \n",
              "\n",
              "   CNT_DRAWINGS_ATM_CURRENT  CNT_DRAWINGS_CURRENT  CNT_DRAWINGS_OTHER_CURRENT  \\\n",
              "0                       0.0                     1                         0.0   \n",
              "1                       1.0                     1                         0.0   \n",
              "2                       0.0                     0                         0.0   \n",
              "3                       1.0                     1                         0.0   \n",
              "4                       0.0                     1                         0.0   \n",
              "\n",
              "   CNT_DRAWINGS_POS_CURRENT  CNT_INSTALMENT_MATURE_CUM  NAME_CONTRACT_STATUS  \\\n",
              "0                       1.0                       35.0                Active   \n",
              "1                       0.0                       69.0                Active   \n",
              "2                       0.0                       30.0                Active   \n",
              "3                       0.0                       10.0                Active   \n",
              "4                       1.0                      101.0                Active   \n",
              "\n",
              "   SK_DPD  SK_DPD_DEF  \n",
              "0       0           0  \n",
              "1       0           0  \n",
              "2       0           0  \n",
              "3       0           0  \n",
              "4       0           0  \n",
              "\n",
              "[5 rows x 23 columns]"
            ],
            "text/html": [
              "\n",
              "  <div id=\"df-56a4c3d7-9ec3-4e2b-9eda-6589840d5388\">\n",
              "    <div class=\"colab-df-container\">\n",
              "      <div>\n",
              "<style scoped>\n",
              "    .dataframe tbody tr th:only-of-type {\n",
              "        vertical-align: middle;\n",
              "    }\n",
              "\n",
              "    .dataframe tbody tr th {\n",
              "        vertical-align: top;\n",
              "    }\n",
              "\n",
              "    .dataframe thead th {\n",
              "        text-align: right;\n",
              "    }\n",
              "</style>\n",
              "<table border=\"1\" class=\"dataframe\">\n",
              "  <thead>\n",
              "    <tr style=\"text-align: right;\">\n",
              "      <th></th>\n",
              "      <th>SK_ID_PREV</th>\n",
              "      <th>SK_ID_CURR</th>\n",
              "      <th>MONTHS_BALANCE</th>\n",
              "      <th>AMT_BALANCE</th>\n",
              "      <th>AMT_CREDIT_LIMIT_ACTUAL</th>\n",
              "      <th>AMT_DRAWINGS_ATM_CURRENT</th>\n",
              "      <th>AMT_DRAWINGS_CURRENT</th>\n",
              "      <th>AMT_DRAWINGS_OTHER_CURRENT</th>\n",
              "      <th>AMT_DRAWINGS_POS_CURRENT</th>\n",
              "      <th>AMT_INST_MIN_REGULARITY</th>\n",
              "      <th>...</th>\n",
              "      <th>AMT_RECIVABLE</th>\n",
              "      <th>AMT_TOTAL_RECEIVABLE</th>\n",
              "      <th>CNT_DRAWINGS_ATM_CURRENT</th>\n",
              "      <th>CNT_DRAWINGS_CURRENT</th>\n",
              "      <th>CNT_DRAWINGS_OTHER_CURRENT</th>\n",
              "      <th>CNT_DRAWINGS_POS_CURRENT</th>\n",
              "      <th>CNT_INSTALMENT_MATURE_CUM</th>\n",
              "      <th>NAME_CONTRACT_STATUS</th>\n",
              "      <th>SK_DPD</th>\n",
              "      <th>SK_DPD_DEF</th>\n",
              "    </tr>\n",
              "  </thead>\n",
              "  <tbody>\n",
              "    <tr>\n",
              "      <th>0</th>\n",
              "      <td>2562384</td>\n",
              "      <td>378907</td>\n",
              "      <td>-6</td>\n",
              "      <td>56.970</td>\n",
              "      <td>135000</td>\n",
              "      <td>0.0</td>\n",
              "      <td>877.5</td>\n",
              "      <td>0.0</td>\n",
              "      <td>877.5</td>\n",
              "      <td>1700.325</td>\n",
              "      <td>...</td>\n",
              "      <td>0.000</td>\n",
              "      <td>0.000</td>\n",
              "      <td>0.0</td>\n",
              "      <td>1</td>\n",
              "      <td>0.0</td>\n",
              "      <td>1.0</td>\n",
              "      <td>35.0</td>\n",
              "      <td>Active</td>\n",
              "      <td>0</td>\n",
              "      <td>0</td>\n",
              "    </tr>\n",
              "    <tr>\n",
              "      <th>1</th>\n",
              "      <td>2582071</td>\n",
              "      <td>363914</td>\n",
              "      <td>-1</td>\n",
              "      <td>63975.555</td>\n",
              "      <td>45000</td>\n",
              "      <td>2250.0</td>\n",
              "      <td>2250.0</td>\n",
              "      <td>0.0</td>\n",
              "      <td>0.0</td>\n",
              "      <td>2250.000</td>\n",
              "      <td>...</td>\n",
              "      <td>64875.555</td>\n",
              "      <td>64875.555</td>\n",
              "      <td>1.0</td>\n",
              "      <td>1</td>\n",
              "      <td>0.0</td>\n",
              "      <td>0.0</td>\n",
              "      <td>69.0</td>\n",
              "      <td>Active</td>\n",
              "      <td>0</td>\n",
              "      <td>0</td>\n",
              "    </tr>\n",
              "    <tr>\n",
              "      <th>2</th>\n",
              "      <td>1740877</td>\n",
              "      <td>371185</td>\n",
              "      <td>-7</td>\n",
              "      <td>31815.225</td>\n",
              "      <td>450000</td>\n",
              "      <td>0.0</td>\n",
              "      <td>0.0</td>\n",
              "      <td>0.0</td>\n",
              "      <td>0.0</td>\n",
              "      <td>2250.000</td>\n",
              "      <td>...</td>\n",
              "      <td>31460.085</td>\n",
              "      <td>31460.085</td>\n",
              "      <td>0.0</td>\n",
              "      <td>0</td>\n",
              "      <td>0.0</td>\n",
              "      <td>0.0</td>\n",
              "      <td>30.0</td>\n",
              "      <td>Active</td>\n",
              "      <td>0</td>\n",
              "      <td>0</td>\n",
              "    </tr>\n",
              "    <tr>\n",
              "      <th>3</th>\n",
              "      <td>1389973</td>\n",
              "      <td>337855</td>\n",
              "      <td>-4</td>\n",
              "      <td>236572.110</td>\n",
              "      <td>225000</td>\n",
              "      <td>2250.0</td>\n",
              "      <td>2250.0</td>\n",
              "      <td>0.0</td>\n",
              "      <td>0.0</td>\n",
              "      <td>11795.760</td>\n",
              "      <td>...</td>\n",
              "      <td>233048.970</td>\n",
              "      <td>233048.970</td>\n",
              "      <td>1.0</td>\n",
              "      <td>1</td>\n",
              "      <td>0.0</td>\n",
              "      <td>0.0</td>\n",
              "      <td>10.0</td>\n",
              "      <td>Active</td>\n",
              "      <td>0</td>\n",
              "      <td>0</td>\n",
              "    </tr>\n",
              "    <tr>\n",
              "      <th>4</th>\n",
              "      <td>1891521</td>\n",
              "      <td>126868</td>\n",
              "      <td>-1</td>\n",
              "      <td>453919.455</td>\n",
              "      <td>450000</td>\n",
              "      <td>0.0</td>\n",
              "      <td>11547.0</td>\n",
              "      <td>0.0</td>\n",
              "      <td>11547.0</td>\n",
              "      <td>22924.890</td>\n",
              "      <td>...</td>\n",
              "      <td>453919.455</td>\n",
              "      <td>453919.455</td>\n",
              "      <td>0.0</td>\n",
              "      <td>1</td>\n",
              "      <td>0.0</td>\n",
              "      <td>1.0</td>\n",
              "      <td>101.0</td>\n",
              "      <td>Active</td>\n",
              "      <td>0</td>\n",
              "      <td>0</td>\n",
              "    </tr>\n",
              "  </tbody>\n",
              "</table>\n",
              "<p>5 rows × 23 columns</p>\n",
              "</div>\n",
              "      <button class=\"colab-df-convert\" onclick=\"convertToInteractive('df-56a4c3d7-9ec3-4e2b-9eda-6589840d5388')\"\n",
              "              title=\"Convert this dataframe to an interactive table.\"\n",
              "              style=\"display:none;\">\n",
              "        \n",
              "  <svg xmlns=\"http://www.w3.org/2000/svg\" height=\"24px\"viewBox=\"0 0 24 24\"\n",
              "       width=\"24px\">\n",
              "    <path d=\"M0 0h24v24H0V0z\" fill=\"none\"/>\n",
              "    <path d=\"M18.56 5.44l.94 2.06.94-2.06 2.06-.94-2.06-.94-.94-2.06-.94 2.06-2.06.94zm-11 1L8.5 8.5l.94-2.06 2.06-.94-2.06-.94L8.5 2.5l-.94 2.06-2.06.94zm10 10l.94 2.06.94-2.06 2.06-.94-2.06-.94-.94-2.06-.94 2.06-2.06.94z\"/><path d=\"M17.41 7.96l-1.37-1.37c-.4-.4-.92-.59-1.43-.59-.52 0-1.04.2-1.43.59L10.3 9.45l-7.72 7.72c-.78.78-.78 2.05 0 2.83L4 21.41c.39.39.9.59 1.41.59.51 0 1.02-.2 1.41-.59l7.78-7.78 2.81-2.81c.8-.78.8-2.07 0-2.86zM5.41 20L4 18.59l7.72-7.72 1.47 1.35L5.41 20z\"/>\n",
              "  </svg>\n",
              "      </button>\n",
              "      \n",
              "  <style>\n",
              "    .colab-df-container {\n",
              "      display:flex;\n",
              "      flex-wrap:wrap;\n",
              "      gap: 12px;\n",
              "    }\n",
              "\n",
              "    .colab-df-convert {\n",
              "      background-color: #E8F0FE;\n",
              "      border: none;\n",
              "      border-radius: 50%;\n",
              "      cursor: pointer;\n",
              "      display: none;\n",
              "      fill: #1967D2;\n",
              "      height: 32px;\n",
              "      padding: 0 0 0 0;\n",
              "      width: 32px;\n",
              "    }\n",
              "\n",
              "    .colab-df-convert:hover {\n",
              "      background-color: #E2EBFA;\n",
              "      box-shadow: 0px 1px 2px rgba(60, 64, 67, 0.3), 0px 1px 3px 1px rgba(60, 64, 67, 0.15);\n",
              "      fill: #174EA6;\n",
              "    }\n",
              "\n",
              "    [theme=dark] .colab-df-convert {\n",
              "      background-color: #3B4455;\n",
              "      fill: #D2E3FC;\n",
              "    }\n",
              "\n",
              "    [theme=dark] .colab-df-convert:hover {\n",
              "      background-color: #434B5C;\n",
              "      box-shadow: 0px 1px 3px 1px rgba(0, 0, 0, 0.15);\n",
              "      filter: drop-shadow(0px 1px 2px rgba(0, 0, 0, 0.3));\n",
              "      fill: #FFFFFF;\n",
              "    }\n",
              "  </style>\n",
              "\n",
              "      <script>\n",
              "        const buttonEl =\n",
              "          document.querySelector('#df-56a4c3d7-9ec3-4e2b-9eda-6589840d5388 button.colab-df-convert');\n",
              "        buttonEl.style.display =\n",
              "          google.colab.kernel.accessAllowed ? 'block' : 'none';\n",
              "\n",
              "        async function convertToInteractive(key) {\n",
              "          const element = document.querySelector('#df-56a4c3d7-9ec3-4e2b-9eda-6589840d5388');\n",
              "          const dataTable =\n",
              "            await google.colab.kernel.invokeFunction('convertToInteractive',\n",
              "                                                     [key], {});\n",
              "          if (!dataTable) return;\n",
              "\n",
              "          const docLinkHtml = 'Like what you see? Visit the ' +\n",
              "            '<a target=\"_blank\" href=https://colab.research.google.com/notebooks/data_table.ipynb>data table notebook</a>'\n",
              "            + ' to learn more about interactive tables.';\n",
              "          element.innerHTML = '';\n",
              "          dataTable['output_type'] = 'display_data';\n",
              "          await google.colab.output.renderOutput(dataTable, element);\n",
              "          const docLink = document.createElement('div');\n",
              "          docLink.innerHTML = docLinkHtml;\n",
              "          element.appendChild(docLink);\n",
              "        }\n",
              "      </script>\n",
              "    </div>\n",
              "  </div>\n",
              "  "
            ]
          },
          "metadata": {},
          "execution_count": 7
        }
      ]
    },
    {
      "cell_type": "markdown",
      "source": [
        "####Installments Payments"
      ],
      "metadata": {
        "id": "s8-V99jnurJJ"
      }
    },
    {
      "cell_type": "code",
      "source": [
        "data_installments_payments = pd.read_csv(\"/content/drive/MyDrive/VIX Home Credit Indonesia/home-credit-default-risk/installments_payments.csv\")\n",
        "data_installments_payments.head()"
      ],
      "metadata": {
        "colab": {
          "base_uri": "https://localhost:8080/",
          "height": 270
        },
        "id": "CCZu8IhwuyLS",
        "outputId": "4c3484b4-eeab-4c86-a2b8-b8741cecd52a"
      },
      "execution_count": 8,
      "outputs": [
        {
          "output_type": "execute_result",
          "data": {
            "text/plain": [
              "   SK_ID_PREV  SK_ID_CURR  NUM_INSTALMENT_VERSION  NUM_INSTALMENT_NUMBER  \\\n",
              "0     1054186      161674                     1.0                      6   \n",
              "1     1330831      151639                     0.0                     34   \n",
              "2     2085231      193053                     2.0                      1   \n",
              "3     2452527      199697                     1.0                      3   \n",
              "4     2714724      167756                     1.0                      2   \n",
              "\n",
              "   DAYS_INSTALMENT  DAYS_ENTRY_PAYMENT  AMT_INSTALMENT  AMT_PAYMENT  \n",
              "0          -1180.0             -1187.0        6948.360     6948.360  \n",
              "1          -2156.0             -2156.0        1716.525     1716.525  \n",
              "2            -63.0               -63.0       25425.000    25425.000  \n",
              "3          -2418.0             -2426.0       24350.130    24350.130  \n",
              "4          -1383.0             -1366.0        2165.040     2160.585  "
            ],
            "text/html": [
              "\n",
              "  <div id=\"df-37499580-0822-4f7b-b1f1-fd11aeb4f876\">\n",
              "    <div class=\"colab-df-container\">\n",
              "      <div>\n",
              "<style scoped>\n",
              "    .dataframe tbody tr th:only-of-type {\n",
              "        vertical-align: middle;\n",
              "    }\n",
              "\n",
              "    .dataframe tbody tr th {\n",
              "        vertical-align: top;\n",
              "    }\n",
              "\n",
              "    .dataframe thead th {\n",
              "        text-align: right;\n",
              "    }\n",
              "</style>\n",
              "<table border=\"1\" class=\"dataframe\">\n",
              "  <thead>\n",
              "    <tr style=\"text-align: right;\">\n",
              "      <th></th>\n",
              "      <th>SK_ID_PREV</th>\n",
              "      <th>SK_ID_CURR</th>\n",
              "      <th>NUM_INSTALMENT_VERSION</th>\n",
              "      <th>NUM_INSTALMENT_NUMBER</th>\n",
              "      <th>DAYS_INSTALMENT</th>\n",
              "      <th>DAYS_ENTRY_PAYMENT</th>\n",
              "      <th>AMT_INSTALMENT</th>\n",
              "      <th>AMT_PAYMENT</th>\n",
              "    </tr>\n",
              "  </thead>\n",
              "  <tbody>\n",
              "    <tr>\n",
              "      <th>0</th>\n",
              "      <td>1054186</td>\n",
              "      <td>161674</td>\n",
              "      <td>1.0</td>\n",
              "      <td>6</td>\n",
              "      <td>-1180.0</td>\n",
              "      <td>-1187.0</td>\n",
              "      <td>6948.360</td>\n",
              "      <td>6948.360</td>\n",
              "    </tr>\n",
              "    <tr>\n",
              "      <th>1</th>\n",
              "      <td>1330831</td>\n",
              "      <td>151639</td>\n",
              "      <td>0.0</td>\n",
              "      <td>34</td>\n",
              "      <td>-2156.0</td>\n",
              "      <td>-2156.0</td>\n",
              "      <td>1716.525</td>\n",
              "      <td>1716.525</td>\n",
              "    </tr>\n",
              "    <tr>\n",
              "      <th>2</th>\n",
              "      <td>2085231</td>\n",
              "      <td>193053</td>\n",
              "      <td>2.0</td>\n",
              "      <td>1</td>\n",
              "      <td>-63.0</td>\n",
              "      <td>-63.0</td>\n",
              "      <td>25425.000</td>\n",
              "      <td>25425.000</td>\n",
              "    </tr>\n",
              "    <tr>\n",
              "      <th>3</th>\n",
              "      <td>2452527</td>\n",
              "      <td>199697</td>\n",
              "      <td>1.0</td>\n",
              "      <td>3</td>\n",
              "      <td>-2418.0</td>\n",
              "      <td>-2426.0</td>\n",
              "      <td>24350.130</td>\n",
              "      <td>24350.130</td>\n",
              "    </tr>\n",
              "    <tr>\n",
              "      <th>4</th>\n",
              "      <td>2714724</td>\n",
              "      <td>167756</td>\n",
              "      <td>1.0</td>\n",
              "      <td>2</td>\n",
              "      <td>-1383.0</td>\n",
              "      <td>-1366.0</td>\n",
              "      <td>2165.040</td>\n",
              "      <td>2160.585</td>\n",
              "    </tr>\n",
              "  </tbody>\n",
              "</table>\n",
              "</div>\n",
              "      <button class=\"colab-df-convert\" onclick=\"convertToInteractive('df-37499580-0822-4f7b-b1f1-fd11aeb4f876')\"\n",
              "              title=\"Convert this dataframe to an interactive table.\"\n",
              "              style=\"display:none;\">\n",
              "        \n",
              "  <svg xmlns=\"http://www.w3.org/2000/svg\" height=\"24px\"viewBox=\"0 0 24 24\"\n",
              "       width=\"24px\">\n",
              "    <path d=\"M0 0h24v24H0V0z\" fill=\"none\"/>\n",
              "    <path d=\"M18.56 5.44l.94 2.06.94-2.06 2.06-.94-2.06-.94-.94-2.06-.94 2.06-2.06.94zm-11 1L8.5 8.5l.94-2.06 2.06-.94-2.06-.94L8.5 2.5l-.94 2.06-2.06.94zm10 10l.94 2.06.94-2.06 2.06-.94-2.06-.94-.94-2.06-.94 2.06-2.06.94z\"/><path d=\"M17.41 7.96l-1.37-1.37c-.4-.4-.92-.59-1.43-.59-.52 0-1.04.2-1.43.59L10.3 9.45l-7.72 7.72c-.78.78-.78 2.05 0 2.83L4 21.41c.39.39.9.59 1.41.59.51 0 1.02-.2 1.41-.59l7.78-7.78 2.81-2.81c.8-.78.8-2.07 0-2.86zM5.41 20L4 18.59l7.72-7.72 1.47 1.35L5.41 20z\"/>\n",
              "  </svg>\n",
              "      </button>\n",
              "      \n",
              "  <style>\n",
              "    .colab-df-container {\n",
              "      display:flex;\n",
              "      flex-wrap:wrap;\n",
              "      gap: 12px;\n",
              "    }\n",
              "\n",
              "    .colab-df-convert {\n",
              "      background-color: #E8F0FE;\n",
              "      border: none;\n",
              "      border-radius: 50%;\n",
              "      cursor: pointer;\n",
              "      display: none;\n",
              "      fill: #1967D2;\n",
              "      height: 32px;\n",
              "      padding: 0 0 0 0;\n",
              "      width: 32px;\n",
              "    }\n",
              "\n",
              "    .colab-df-convert:hover {\n",
              "      background-color: #E2EBFA;\n",
              "      box-shadow: 0px 1px 2px rgba(60, 64, 67, 0.3), 0px 1px 3px 1px rgba(60, 64, 67, 0.15);\n",
              "      fill: #174EA6;\n",
              "    }\n",
              "\n",
              "    [theme=dark] .colab-df-convert {\n",
              "      background-color: #3B4455;\n",
              "      fill: #D2E3FC;\n",
              "    }\n",
              "\n",
              "    [theme=dark] .colab-df-convert:hover {\n",
              "      background-color: #434B5C;\n",
              "      box-shadow: 0px 1px 3px 1px rgba(0, 0, 0, 0.15);\n",
              "      filter: drop-shadow(0px 1px 2px rgba(0, 0, 0, 0.3));\n",
              "      fill: #FFFFFF;\n",
              "    }\n",
              "  </style>\n",
              "\n",
              "      <script>\n",
              "        const buttonEl =\n",
              "          document.querySelector('#df-37499580-0822-4f7b-b1f1-fd11aeb4f876 button.colab-df-convert');\n",
              "        buttonEl.style.display =\n",
              "          google.colab.kernel.accessAllowed ? 'block' : 'none';\n",
              "\n",
              "        async function convertToInteractive(key) {\n",
              "          const element = document.querySelector('#df-37499580-0822-4f7b-b1f1-fd11aeb4f876');\n",
              "          const dataTable =\n",
              "            await google.colab.kernel.invokeFunction('convertToInteractive',\n",
              "                                                     [key], {});\n",
              "          if (!dataTable) return;\n",
              "\n",
              "          const docLinkHtml = 'Like what you see? Visit the ' +\n",
              "            '<a target=\"_blank\" href=https://colab.research.google.com/notebooks/data_table.ipynb>data table notebook</a>'\n",
              "            + ' to learn more about interactive tables.';\n",
              "          element.innerHTML = '';\n",
              "          dataTable['output_type'] = 'display_data';\n",
              "          await google.colab.output.renderOutput(dataTable, element);\n",
              "          const docLink = document.createElement('div');\n",
              "          docLink.innerHTML = docLinkHtml;\n",
              "          element.appendChild(docLink);\n",
              "        }\n",
              "      </script>\n",
              "    </div>\n",
              "  </div>\n",
              "  "
            ]
          },
          "metadata": {},
          "execution_count": 8
        }
      ]
    },
    {
      "cell_type": "markdown",
      "source": [
        "####Previous Application"
      ],
      "metadata": {
        "id": "3wokWttovHP9"
      }
    },
    {
      "cell_type": "code",
      "source": [
        "data_previous_application = pd.read_csv(\"/content/drive/MyDrive/VIX Home Credit Indonesia/home-credit-default-risk/previous_application.csv\")\n",
        "data_previous_application.head()"
      ],
      "metadata": {
        "colab": {
          "base_uri": "https://localhost:8080/",
          "height": 317
        },
        "id": "MtXpjcjzvKB1",
        "outputId": "70d5a2f4-d2f8-48d0-f294-b587f8a6a4eb"
      },
      "execution_count": 9,
      "outputs": [
        {
          "output_type": "execute_result",
          "data": {
            "text/plain": [
              "   SK_ID_PREV  SK_ID_CURR NAME_CONTRACT_TYPE  AMT_ANNUITY  AMT_APPLICATION  \\\n",
              "0     2030495      271877     Consumer loans     1730.430          17145.0   \n",
              "1     2802425      108129         Cash loans    25188.615         607500.0   \n",
              "2     2523466      122040         Cash loans    15060.735         112500.0   \n",
              "3     2819243      176158         Cash loans    47041.335         450000.0   \n",
              "4     1784265      202054         Cash loans    31924.395         337500.0   \n",
              "\n",
              "   AMT_CREDIT  AMT_DOWN_PAYMENT  AMT_GOODS_PRICE WEEKDAY_APPR_PROCESS_START  \\\n",
              "0     17145.0               0.0          17145.0                   SATURDAY   \n",
              "1    679671.0               NaN         607500.0                   THURSDAY   \n",
              "2    136444.5               NaN         112500.0                    TUESDAY   \n",
              "3    470790.0               NaN         450000.0                     MONDAY   \n",
              "4    404055.0               NaN         337500.0                   THURSDAY   \n",
              "\n",
              "   HOUR_APPR_PROCESS_START  ... NAME_SELLER_INDUSTRY  CNT_PAYMENT  \\\n",
              "0                       15  ...         Connectivity         12.0   \n",
              "1                       11  ...                  XNA         36.0   \n",
              "2                       11  ...                  XNA         12.0   \n",
              "3                        7  ...                  XNA         12.0   \n",
              "4                        9  ...                  XNA         24.0   \n",
              "\n",
              "   NAME_YIELD_GROUP       PRODUCT_COMBINATION  DAYS_FIRST_DRAWING  \\\n",
              "0            middle  POS mobile with interest            365243.0   \n",
              "1        low_action          Cash X-Sell: low            365243.0   \n",
              "2              high         Cash X-Sell: high            365243.0   \n",
              "3            middle       Cash X-Sell: middle            365243.0   \n",
              "4              high         Cash Street: high                 NaN   \n",
              "\n",
              "  DAYS_FIRST_DUE DAYS_LAST_DUE_1ST_VERSION  DAYS_LAST_DUE DAYS_TERMINATION  \\\n",
              "0          -42.0                     300.0          -42.0            -37.0   \n",
              "1         -134.0                     916.0       365243.0         365243.0   \n",
              "2         -271.0                      59.0       365243.0         365243.0   \n",
              "3         -482.0                    -152.0         -182.0           -177.0   \n",
              "4            NaN                       NaN            NaN              NaN   \n",
              "\n",
              "  NFLAG_INSURED_ON_APPROVAL  \n",
              "0                       0.0  \n",
              "1                       1.0  \n",
              "2                       1.0  \n",
              "3                       1.0  \n",
              "4                       NaN  \n",
              "\n",
              "[5 rows x 37 columns]"
            ],
            "text/html": [
              "\n",
              "  <div id=\"df-d452e5d2-b76e-4438-8cc6-1324ec321528\">\n",
              "    <div class=\"colab-df-container\">\n",
              "      <div>\n",
              "<style scoped>\n",
              "    .dataframe tbody tr th:only-of-type {\n",
              "        vertical-align: middle;\n",
              "    }\n",
              "\n",
              "    .dataframe tbody tr th {\n",
              "        vertical-align: top;\n",
              "    }\n",
              "\n",
              "    .dataframe thead th {\n",
              "        text-align: right;\n",
              "    }\n",
              "</style>\n",
              "<table border=\"1\" class=\"dataframe\">\n",
              "  <thead>\n",
              "    <tr style=\"text-align: right;\">\n",
              "      <th></th>\n",
              "      <th>SK_ID_PREV</th>\n",
              "      <th>SK_ID_CURR</th>\n",
              "      <th>NAME_CONTRACT_TYPE</th>\n",
              "      <th>AMT_ANNUITY</th>\n",
              "      <th>AMT_APPLICATION</th>\n",
              "      <th>AMT_CREDIT</th>\n",
              "      <th>AMT_DOWN_PAYMENT</th>\n",
              "      <th>AMT_GOODS_PRICE</th>\n",
              "      <th>WEEKDAY_APPR_PROCESS_START</th>\n",
              "      <th>HOUR_APPR_PROCESS_START</th>\n",
              "      <th>...</th>\n",
              "      <th>NAME_SELLER_INDUSTRY</th>\n",
              "      <th>CNT_PAYMENT</th>\n",
              "      <th>NAME_YIELD_GROUP</th>\n",
              "      <th>PRODUCT_COMBINATION</th>\n",
              "      <th>DAYS_FIRST_DRAWING</th>\n",
              "      <th>DAYS_FIRST_DUE</th>\n",
              "      <th>DAYS_LAST_DUE_1ST_VERSION</th>\n",
              "      <th>DAYS_LAST_DUE</th>\n",
              "      <th>DAYS_TERMINATION</th>\n",
              "      <th>NFLAG_INSURED_ON_APPROVAL</th>\n",
              "    </tr>\n",
              "  </thead>\n",
              "  <tbody>\n",
              "    <tr>\n",
              "      <th>0</th>\n",
              "      <td>2030495</td>\n",
              "      <td>271877</td>\n",
              "      <td>Consumer loans</td>\n",
              "      <td>1730.430</td>\n",
              "      <td>17145.0</td>\n",
              "      <td>17145.0</td>\n",
              "      <td>0.0</td>\n",
              "      <td>17145.0</td>\n",
              "      <td>SATURDAY</td>\n",
              "      <td>15</td>\n",
              "      <td>...</td>\n",
              "      <td>Connectivity</td>\n",
              "      <td>12.0</td>\n",
              "      <td>middle</td>\n",
              "      <td>POS mobile with interest</td>\n",
              "      <td>365243.0</td>\n",
              "      <td>-42.0</td>\n",
              "      <td>300.0</td>\n",
              "      <td>-42.0</td>\n",
              "      <td>-37.0</td>\n",
              "      <td>0.0</td>\n",
              "    </tr>\n",
              "    <tr>\n",
              "      <th>1</th>\n",
              "      <td>2802425</td>\n",
              "      <td>108129</td>\n",
              "      <td>Cash loans</td>\n",
              "      <td>25188.615</td>\n",
              "      <td>607500.0</td>\n",
              "      <td>679671.0</td>\n",
              "      <td>NaN</td>\n",
              "      <td>607500.0</td>\n",
              "      <td>THURSDAY</td>\n",
              "      <td>11</td>\n",
              "      <td>...</td>\n",
              "      <td>XNA</td>\n",
              "      <td>36.0</td>\n",
              "      <td>low_action</td>\n",
              "      <td>Cash X-Sell: low</td>\n",
              "      <td>365243.0</td>\n",
              "      <td>-134.0</td>\n",
              "      <td>916.0</td>\n",
              "      <td>365243.0</td>\n",
              "      <td>365243.0</td>\n",
              "      <td>1.0</td>\n",
              "    </tr>\n",
              "    <tr>\n",
              "      <th>2</th>\n",
              "      <td>2523466</td>\n",
              "      <td>122040</td>\n",
              "      <td>Cash loans</td>\n",
              "      <td>15060.735</td>\n",
              "      <td>112500.0</td>\n",
              "      <td>136444.5</td>\n",
              "      <td>NaN</td>\n",
              "      <td>112500.0</td>\n",
              "      <td>TUESDAY</td>\n",
              "      <td>11</td>\n",
              "      <td>...</td>\n",
              "      <td>XNA</td>\n",
              "      <td>12.0</td>\n",
              "      <td>high</td>\n",
              "      <td>Cash X-Sell: high</td>\n",
              "      <td>365243.0</td>\n",
              "      <td>-271.0</td>\n",
              "      <td>59.0</td>\n",
              "      <td>365243.0</td>\n",
              "      <td>365243.0</td>\n",
              "      <td>1.0</td>\n",
              "    </tr>\n",
              "    <tr>\n",
              "      <th>3</th>\n",
              "      <td>2819243</td>\n",
              "      <td>176158</td>\n",
              "      <td>Cash loans</td>\n",
              "      <td>47041.335</td>\n",
              "      <td>450000.0</td>\n",
              "      <td>470790.0</td>\n",
              "      <td>NaN</td>\n",
              "      <td>450000.0</td>\n",
              "      <td>MONDAY</td>\n",
              "      <td>7</td>\n",
              "      <td>...</td>\n",
              "      <td>XNA</td>\n",
              "      <td>12.0</td>\n",
              "      <td>middle</td>\n",
              "      <td>Cash X-Sell: middle</td>\n",
              "      <td>365243.0</td>\n",
              "      <td>-482.0</td>\n",
              "      <td>-152.0</td>\n",
              "      <td>-182.0</td>\n",
              "      <td>-177.0</td>\n",
              "      <td>1.0</td>\n",
              "    </tr>\n",
              "    <tr>\n",
              "      <th>4</th>\n",
              "      <td>1784265</td>\n",
              "      <td>202054</td>\n",
              "      <td>Cash loans</td>\n",
              "      <td>31924.395</td>\n",
              "      <td>337500.0</td>\n",
              "      <td>404055.0</td>\n",
              "      <td>NaN</td>\n",
              "      <td>337500.0</td>\n",
              "      <td>THURSDAY</td>\n",
              "      <td>9</td>\n",
              "      <td>...</td>\n",
              "      <td>XNA</td>\n",
              "      <td>24.0</td>\n",
              "      <td>high</td>\n",
              "      <td>Cash Street: high</td>\n",
              "      <td>NaN</td>\n",
              "      <td>NaN</td>\n",
              "      <td>NaN</td>\n",
              "      <td>NaN</td>\n",
              "      <td>NaN</td>\n",
              "      <td>NaN</td>\n",
              "    </tr>\n",
              "  </tbody>\n",
              "</table>\n",
              "<p>5 rows × 37 columns</p>\n",
              "</div>\n",
              "      <button class=\"colab-df-convert\" onclick=\"convertToInteractive('df-d452e5d2-b76e-4438-8cc6-1324ec321528')\"\n",
              "              title=\"Convert this dataframe to an interactive table.\"\n",
              "              style=\"display:none;\">\n",
              "        \n",
              "  <svg xmlns=\"http://www.w3.org/2000/svg\" height=\"24px\"viewBox=\"0 0 24 24\"\n",
              "       width=\"24px\">\n",
              "    <path d=\"M0 0h24v24H0V0z\" fill=\"none\"/>\n",
              "    <path d=\"M18.56 5.44l.94 2.06.94-2.06 2.06-.94-2.06-.94-.94-2.06-.94 2.06-2.06.94zm-11 1L8.5 8.5l.94-2.06 2.06-.94-2.06-.94L8.5 2.5l-.94 2.06-2.06.94zm10 10l.94 2.06.94-2.06 2.06-.94-2.06-.94-.94-2.06-.94 2.06-2.06.94z\"/><path d=\"M17.41 7.96l-1.37-1.37c-.4-.4-.92-.59-1.43-.59-.52 0-1.04.2-1.43.59L10.3 9.45l-7.72 7.72c-.78.78-.78 2.05 0 2.83L4 21.41c.39.39.9.59 1.41.59.51 0 1.02-.2 1.41-.59l7.78-7.78 2.81-2.81c.8-.78.8-2.07 0-2.86zM5.41 20L4 18.59l7.72-7.72 1.47 1.35L5.41 20z\"/>\n",
              "  </svg>\n",
              "      </button>\n",
              "      \n",
              "  <style>\n",
              "    .colab-df-container {\n",
              "      display:flex;\n",
              "      flex-wrap:wrap;\n",
              "      gap: 12px;\n",
              "    }\n",
              "\n",
              "    .colab-df-convert {\n",
              "      background-color: #E8F0FE;\n",
              "      border: none;\n",
              "      border-radius: 50%;\n",
              "      cursor: pointer;\n",
              "      display: none;\n",
              "      fill: #1967D2;\n",
              "      height: 32px;\n",
              "      padding: 0 0 0 0;\n",
              "      width: 32px;\n",
              "    }\n",
              "\n",
              "    .colab-df-convert:hover {\n",
              "      background-color: #E2EBFA;\n",
              "      box-shadow: 0px 1px 2px rgba(60, 64, 67, 0.3), 0px 1px 3px 1px rgba(60, 64, 67, 0.15);\n",
              "      fill: #174EA6;\n",
              "    }\n",
              "\n",
              "    [theme=dark] .colab-df-convert {\n",
              "      background-color: #3B4455;\n",
              "      fill: #D2E3FC;\n",
              "    }\n",
              "\n",
              "    [theme=dark] .colab-df-convert:hover {\n",
              "      background-color: #434B5C;\n",
              "      box-shadow: 0px 1px 3px 1px rgba(0, 0, 0, 0.15);\n",
              "      filter: drop-shadow(0px 1px 2px rgba(0, 0, 0, 0.3));\n",
              "      fill: #FFFFFF;\n",
              "    }\n",
              "  </style>\n",
              "\n",
              "      <script>\n",
              "        const buttonEl =\n",
              "          document.querySelector('#df-d452e5d2-b76e-4438-8cc6-1324ec321528 button.colab-df-convert');\n",
              "        buttonEl.style.display =\n",
              "          google.colab.kernel.accessAllowed ? 'block' : 'none';\n",
              "\n",
              "        async function convertToInteractive(key) {\n",
              "          const element = document.querySelector('#df-d452e5d2-b76e-4438-8cc6-1324ec321528');\n",
              "          const dataTable =\n",
              "            await google.colab.kernel.invokeFunction('convertToInteractive',\n",
              "                                                     [key], {});\n",
              "          if (!dataTable) return;\n",
              "\n",
              "          const docLinkHtml = 'Like what you see? Visit the ' +\n",
              "            '<a target=\"_blank\" href=https://colab.research.google.com/notebooks/data_table.ipynb>data table notebook</a>'\n",
              "            + ' to learn more about interactive tables.';\n",
              "          element.innerHTML = '';\n",
              "          dataTable['output_type'] = 'display_data';\n",
              "          await google.colab.output.renderOutput(dataTable, element);\n",
              "          const docLink = document.createElement('div');\n",
              "          docLink.innerHTML = docLinkHtml;\n",
              "          element.appendChild(docLink);\n",
              "        }\n",
              "      </script>\n",
              "    </div>\n",
              "  </div>\n",
              "  "
            ]
          },
          "metadata": {},
          "execution_count": 9
        }
      ]
    },
    {
      "cell_type": "markdown",
      "source": [
        "####Sample Submission"
      ],
      "metadata": {
        "id": "9lEH7IvPvlFt"
      }
    },
    {
      "cell_type": "code",
      "source": [
        "data_sample_submission = pd.read_csv(\"/content/drive/MyDrive/VIX Home Credit Indonesia/home-credit-default-risk/sample_submission.csv\")\n",
        "data_sample_submission.head()"
      ],
      "metadata": {
        "colab": {
          "base_uri": "https://localhost:8080/",
          "height": 270
        },
        "id": "AFF09ciOvnSe",
        "outputId": "0553e1c8-aeb6-4fa4-dce0-cb381370b902"
      },
      "execution_count": 10,
      "outputs": [
        {
          "output_type": "execute_result",
          "data": {
            "text/plain": [
              "   SK_ID_CURR  TARGET\n",
              "0      100001     0.5\n",
              "1      100005     0.5\n",
              "2      100013     0.5\n",
              "3      100028     0.5\n",
              "4      100038     0.5"
            ],
            "text/html": [
              "\n",
              "  <div id=\"df-ef7dc24a-4c47-41de-9849-aa18b994815f\">\n",
              "    <div class=\"colab-df-container\">\n",
              "      <div>\n",
              "<style scoped>\n",
              "    .dataframe tbody tr th:only-of-type {\n",
              "        vertical-align: middle;\n",
              "    }\n",
              "\n",
              "    .dataframe tbody tr th {\n",
              "        vertical-align: top;\n",
              "    }\n",
              "\n",
              "    .dataframe thead th {\n",
              "        text-align: right;\n",
              "    }\n",
              "</style>\n",
              "<table border=\"1\" class=\"dataframe\">\n",
              "  <thead>\n",
              "    <tr style=\"text-align: right;\">\n",
              "      <th></th>\n",
              "      <th>SK_ID_CURR</th>\n",
              "      <th>TARGET</th>\n",
              "    </tr>\n",
              "  </thead>\n",
              "  <tbody>\n",
              "    <tr>\n",
              "      <th>0</th>\n",
              "      <td>100001</td>\n",
              "      <td>0.5</td>\n",
              "    </tr>\n",
              "    <tr>\n",
              "      <th>1</th>\n",
              "      <td>100005</td>\n",
              "      <td>0.5</td>\n",
              "    </tr>\n",
              "    <tr>\n",
              "      <th>2</th>\n",
              "      <td>100013</td>\n",
              "      <td>0.5</td>\n",
              "    </tr>\n",
              "    <tr>\n",
              "      <th>3</th>\n",
              "      <td>100028</td>\n",
              "      <td>0.5</td>\n",
              "    </tr>\n",
              "    <tr>\n",
              "      <th>4</th>\n",
              "      <td>100038</td>\n",
              "      <td>0.5</td>\n",
              "    </tr>\n",
              "  </tbody>\n",
              "</table>\n",
              "</div>\n",
              "      <button class=\"colab-df-convert\" onclick=\"convertToInteractive('df-ef7dc24a-4c47-41de-9849-aa18b994815f')\"\n",
              "              title=\"Convert this dataframe to an interactive table.\"\n",
              "              style=\"display:none;\">\n",
              "        \n",
              "  <svg xmlns=\"http://www.w3.org/2000/svg\" height=\"24px\"viewBox=\"0 0 24 24\"\n",
              "       width=\"24px\">\n",
              "    <path d=\"M0 0h24v24H0V0z\" fill=\"none\"/>\n",
              "    <path d=\"M18.56 5.44l.94 2.06.94-2.06 2.06-.94-2.06-.94-.94-2.06-.94 2.06-2.06.94zm-11 1L8.5 8.5l.94-2.06 2.06-.94-2.06-.94L8.5 2.5l-.94 2.06-2.06.94zm10 10l.94 2.06.94-2.06 2.06-.94-2.06-.94-.94-2.06-.94 2.06-2.06.94z\"/><path d=\"M17.41 7.96l-1.37-1.37c-.4-.4-.92-.59-1.43-.59-.52 0-1.04.2-1.43.59L10.3 9.45l-7.72 7.72c-.78.78-.78 2.05 0 2.83L4 21.41c.39.39.9.59 1.41.59.51 0 1.02-.2 1.41-.59l7.78-7.78 2.81-2.81c.8-.78.8-2.07 0-2.86zM5.41 20L4 18.59l7.72-7.72 1.47 1.35L5.41 20z\"/>\n",
              "  </svg>\n",
              "      </button>\n",
              "      \n",
              "  <style>\n",
              "    .colab-df-container {\n",
              "      display:flex;\n",
              "      flex-wrap:wrap;\n",
              "      gap: 12px;\n",
              "    }\n",
              "\n",
              "    .colab-df-convert {\n",
              "      background-color: #E8F0FE;\n",
              "      border: none;\n",
              "      border-radius: 50%;\n",
              "      cursor: pointer;\n",
              "      display: none;\n",
              "      fill: #1967D2;\n",
              "      height: 32px;\n",
              "      padding: 0 0 0 0;\n",
              "      width: 32px;\n",
              "    }\n",
              "\n",
              "    .colab-df-convert:hover {\n",
              "      background-color: #E2EBFA;\n",
              "      box-shadow: 0px 1px 2px rgba(60, 64, 67, 0.3), 0px 1px 3px 1px rgba(60, 64, 67, 0.15);\n",
              "      fill: #174EA6;\n",
              "    }\n",
              "\n",
              "    [theme=dark] .colab-df-convert {\n",
              "      background-color: #3B4455;\n",
              "      fill: #D2E3FC;\n",
              "    }\n",
              "\n",
              "    [theme=dark] .colab-df-convert:hover {\n",
              "      background-color: #434B5C;\n",
              "      box-shadow: 0px 1px 3px 1px rgba(0, 0, 0, 0.15);\n",
              "      filter: drop-shadow(0px 1px 2px rgba(0, 0, 0, 0.3));\n",
              "      fill: #FFFFFF;\n",
              "    }\n",
              "  </style>\n",
              "\n",
              "      <script>\n",
              "        const buttonEl =\n",
              "          document.querySelector('#df-ef7dc24a-4c47-41de-9849-aa18b994815f button.colab-df-convert');\n",
              "        buttonEl.style.display =\n",
              "          google.colab.kernel.accessAllowed ? 'block' : 'none';\n",
              "\n",
              "        async function convertToInteractive(key) {\n",
              "          const element = document.querySelector('#df-ef7dc24a-4c47-41de-9849-aa18b994815f');\n",
              "          const dataTable =\n",
              "            await google.colab.kernel.invokeFunction('convertToInteractive',\n",
              "                                                     [key], {});\n",
              "          if (!dataTable) return;\n",
              "\n",
              "          const docLinkHtml = 'Like what you see? Visit the ' +\n",
              "            '<a target=\"_blank\" href=https://colab.research.google.com/notebooks/data_table.ipynb>data table notebook</a>'\n",
              "            + ' to learn more about interactive tables.';\n",
              "          element.innerHTML = '';\n",
              "          dataTable['output_type'] = 'display_data';\n",
              "          await google.colab.output.renderOutput(dataTable, element);\n",
              "          const docLink = document.createElement('div');\n",
              "          docLink.innerHTML = docLinkHtml;\n",
              "          element.appendChild(docLink);\n",
              "        }\n",
              "      </script>\n",
              "    </div>\n",
              "  </div>\n",
              "  "
            ]
          },
          "metadata": {},
          "execution_count": 10
        }
      ]
    },
    {
      "cell_type": "markdown",
      "source": [
        "####Application Test"
      ],
      "metadata": {
        "id": "_ubUJIXZv1EX"
      }
    },
    {
      "cell_type": "code",
      "source": [
        "data_test = pd.read_csv(\"/content/drive/MyDrive/VIX Home Credit Indonesia/home-credit-default-risk/application_test.csv\")\n",
        "data_test.head()"
      ],
      "metadata": {
        "colab": {
          "base_uri": "https://localhost:8080/",
          "height": 300
        },
        "id": "KIZT0bqlv4KZ",
        "outputId": "700865df-aaa0-4ae1-f530-f6f5bdb700a6"
      },
      "execution_count": 11,
      "outputs": [
        {
          "output_type": "execute_result",
          "data": {
            "text/plain": [
              "   SK_ID_CURR NAME_CONTRACT_TYPE CODE_GENDER FLAG_OWN_CAR FLAG_OWN_REALTY  \\\n",
              "0      100001         Cash loans           F            N               Y   \n",
              "1      100005         Cash loans           M            N               Y   \n",
              "2      100013         Cash loans           M            Y               Y   \n",
              "3      100028         Cash loans           F            N               Y   \n",
              "4      100038         Cash loans           M            Y               N   \n",
              "\n",
              "   CNT_CHILDREN  AMT_INCOME_TOTAL  AMT_CREDIT  AMT_ANNUITY  AMT_GOODS_PRICE  \\\n",
              "0             0          135000.0    568800.0      20560.5         450000.0   \n",
              "1             0           99000.0    222768.0      17370.0         180000.0   \n",
              "2             0          202500.0    663264.0      69777.0         630000.0   \n",
              "3             2          315000.0   1575000.0      49018.5        1575000.0   \n",
              "4             1          180000.0    625500.0      32067.0         625500.0   \n",
              "\n",
              "   ... FLAG_DOCUMENT_18 FLAG_DOCUMENT_19 FLAG_DOCUMENT_20 FLAG_DOCUMENT_21  \\\n",
              "0  ...                0                0                0                0   \n",
              "1  ...                0                0                0                0   \n",
              "2  ...                0                0                0                0   \n",
              "3  ...                0                0                0                0   \n",
              "4  ...                0                0                0                0   \n",
              "\n",
              "  AMT_REQ_CREDIT_BUREAU_HOUR  AMT_REQ_CREDIT_BUREAU_DAY  \\\n",
              "0                        0.0                        0.0   \n",
              "1                        0.0                        0.0   \n",
              "2                        0.0                        0.0   \n",
              "3                        0.0                        0.0   \n",
              "4                        NaN                        NaN   \n",
              "\n",
              "   AMT_REQ_CREDIT_BUREAU_WEEK  AMT_REQ_CREDIT_BUREAU_MON  \\\n",
              "0                         0.0                        0.0   \n",
              "1                         0.0                        0.0   \n",
              "2                         0.0                        0.0   \n",
              "3                         0.0                        0.0   \n",
              "4                         NaN                        NaN   \n",
              "\n",
              "   AMT_REQ_CREDIT_BUREAU_QRT  AMT_REQ_CREDIT_BUREAU_YEAR  \n",
              "0                        0.0                         0.0  \n",
              "1                        0.0                         3.0  \n",
              "2                        1.0                         4.0  \n",
              "3                        0.0                         3.0  \n",
              "4                        NaN                         NaN  \n",
              "\n",
              "[5 rows x 121 columns]"
            ],
            "text/html": [
              "\n",
              "  <div id=\"df-eed85b90-6cd6-4246-84f8-de9d91570c27\">\n",
              "    <div class=\"colab-df-container\">\n",
              "      <div>\n",
              "<style scoped>\n",
              "    .dataframe tbody tr th:only-of-type {\n",
              "        vertical-align: middle;\n",
              "    }\n",
              "\n",
              "    .dataframe tbody tr th {\n",
              "        vertical-align: top;\n",
              "    }\n",
              "\n",
              "    .dataframe thead th {\n",
              "        text-align: right;\n",
              "    }\n",
              "</style>\n",
              "<table border=\"1\" class=\"dataframe\">\n",
              "  <thead>\n",
              "    <tr style=\"text-align: right;\">\n",
              "      <th></th>\n",
              "      <th>SK_ID_CURR</th>\n",
              "      <th>NAME_CONTRACT_TYPE</th>\n",
              "      <th>CODE_GENDER</th>\n",
              "      <th>FLAG_OWN_CAR</th>\n",
              "      <th>FLAG_OWN_REALTY</th>\n",
              "      <th>CNT_CHILDREN</th>\n",
              "      <th>AMT_INCOME_TOTAL</th>\n",
              "      <th>AMT_CREDIT</th>\n",
              "      <th>AMT_ANNUITY</th>\n",
              "      <th>AMT_GOODS_PRICE</th>\n",
              "      <th>...</th>\n",
              "      <th>FLAG_DOCUMENT_18</th>\n",
              "      <th>FLAG_DOCUMENT_19</th>\n",
              "      <th>FLAG_DOCUMENT_20</th>\n",
              "      <th>FLAG_DOCUMENT_21</th>\n",
              "      <th>AMT_REQ_CREDIT_BUREAU_HOUR</th>\n",
              "      <th>AMT_REQ_CREDIT_BUREAU_DAY</th>\n",
              "      <th>AMT_REQ_CREDIT_BUREAU_WEEK</th>\n",
              "      <th>AMT_REQ_CREDIT_BUREAU_MON</th>\n",
              "      <th>AMT_REQ_CREDIT_BUREAU_QRT</th>\n",
              "      <th>AMT_REQ_CREDIT_BUREAU_YEAR</th>\n",
              "    </tr>\n",
              "  </thead>\n",
              "  <tbody>\n",
              "    <tr>\n",
              "      <th>0</th>\n",
              "      <td>100001</td>\n",
              "      <td>Cash loans</td>\n",
              "      <td>F</td>\n",
              "      <td>N</td>\n",
              "      <td>Y</td>\n",
              "      <td>0</td>\n",
              "      <td>135000.0</td>\n",
              "      <td>568800.0</td>\n",
              "      <td>20560.5</td>\n",
              "      <td>450000.0</td>\n",
              "      <td>...</td>\n",
              "      <td>0</td>\n",
              "      <td>0</td>\n",
              "      <td>0</td>\n",
              "      <td>0</td>\n",
              "      <td>0.0</td>\n",
              "      <td>0.0</td>\n",
              "      <td>0.0</td>\n",
              "      <td>0.0</td>\n",
              "      <td>0.0</td>\n",
              "      <td>0.0</td>\n",
              "    </tr>\n",
              "    <tr>\n",
              "      <th>1</th>\n",
              "      <td>100005</td>\n",
              "      <td>Cash loans</td>\n",
              "      <td>M</td>\n",
              "      <td>N</td>\n",
              "      <td>Y</td>\n",
              "      <td>0</td>\n",
              "      <td>99000.0</td>\n",
              "      <td>222768.0</td>\n",
              "      <td>17370.0</td>\n",
              "      <td>180000.0</td>\n",
              "      <td>...</td>\n",
              "      <td>0</td>\n",
              "      <td>0</td>\n",
              "      <td>0</td>\n",
              "      <td>0</td>\n",
              "      <td>0.0</td>\n",
              "      <td>0.0</td>\n",
              "      <td>0.0</td>\n",
              "      <td>0.0</td>\n",
              "      <td>0.0</td>\n",
              "      <td>3.0</td>\n",
              "    </tr>\n",
              "    <tr>\n",
              "      <th>2</th>\n",
              "      <td>100013</td>\n",
              "      <td>Cash loans</td>\n",
              "      <td>M</td>\n",
              "      <td>Y</td>\n",
              "      <td>Y</td>\n",
              "      <td>0</td>\n",
              "      <td>202500.0</td>\n",
              "      <td>663264.0</td>\n",
              "      <td>69777.0</td>\n",
              "      <td>630000.0</td>\n",
              "      <td>...</td>\n",
              "      <td>0</td>\n",
              "      <td>0</td>\n",
              "      <td>0</td>\n",
              "      <td>0</td>\n",
              "      <td>0.0</td>\n",
              "      <td>0.0</td>\n",
              "      <td>0.0</td>\n",
              "      <td>0.0</td>\n",
              "      <td>1.0</td>\n",
              "      <td>4.0</td>\n",
              "    </tr>\n",
              "    <tr>\n",
              "      <th>3</th>\n",
              "      <td>100028</td>\n",
              "      <td>Cash loans</td>\n",
              "      <td>F</td>\n",
              "      <td>N</td>\n",
              "      <td>Y</td>\n",
              "      <td>2</td>\n",
              "      <td>315000.0</td>\n",
              "      <td>1575000.0</td>\n",
              "      <td>49018.5</td>\n",
              "      <td>1575000.0</td>\n",
              "      <td>...</td>\n",
              "      <td>0</td>\n",
              "      <td>0</td>\n",
              "      <td>0</td>\n",
              "      <td>0</td>\n",
              "      <td>0.0</td>\n",
              "      <td>0.0</td>\n",
              "      <td>0.0</td>\n",
              "      <td>0.0</td>\n",
              "      <td>0.0</td>\n",
              "      <td>3.0</td>\n",
              "    </tr>\n",
              "    <tr>\n",
              "      <th>4</th>\n",
              "      <td>100038</td>\n",
              "      <td>Cash loans</td>\n",
              "      <td>M</td>\n",
              "      <td>Y</td>\n",
              "      <td>N</td>\n",
              "      <td>1</td>\n",
              "      <td>180000.0</td>\n",
              "      <td>625500.0</td>\n",
              "      <td>32067.0</td>\n",
              "      <td>625500.0</td>\n",
              "      <td>...</td>\n",
              "      <td>0</td>\n",
              "      <td>0</td>\n",
              "      <td>0</td>\n",
              "      <td>0</td>\n",
              "      <td>NaN</td>\n",
              "      <td>NaN</td>\n",
              "      <td>NaN</td>\n",
              "      <td>NaN</td>\n",
              "      <td>NaN</td>\n",
              "      <td>NaN</td>\n",
              "    </tr>\n",
              "  </tbody>\n",
              "</table>\n",
              "<p>5 rows × 121 columns</p>\n",
              "</div>\n",
              "      <button class=\"colab-df-convert\" onclick=\"convertToInteractive('df-eed85b90-6cd6-4246-84f8-de9d91570c27')\"\n",
              "              title=\"Convert this dataframe to an interactive table.\"\n",
              "              style=\"display:none;\">\n",
              "        \n",
              "  <svg xmlns=\"http://www.w3.org/2000/svg\" height=\"24px\"viewBox=\"0 0 24 24\"\n",
              "       width=\"24px\">\n",
              "    <path d=\"M0 0h24v24H0V0z\" fill=\"none\"/>\n",
              "    <path d=\"M18.56 5.44l.94 2.06.94-2.06 2.06-.94-2.06-.94-.94-2.06-.94 2.06-2.06.94zm-11 1L8.5 8.5l.94-2.06 2.06-.94-2.06-.94L8.5 2.5l-.94 2.06-2.06.94zm10 10l.94 2.06.94-2.06 2.06-.94-2.06-.94-.94-2.06-.94 2.06-2.06.94z\"/><path d=\"M17.41 7.96l-1.37-1.37c-.4-.4-.92-.59-1.43-.59-.52 0-1.04.2-1.43.59L10.3 9.45l-7.72 7.72c-.78.78-.78 2.05 0 2.83L4 21.41c.39.39.9.59 1.41.59.51 0 1.02-.2 1.41-.59l7.78-7.78 2.81-2.81c.8-.78.8-2.07 0-2.86zM5.41 20L4 18.59l7.72-7.72 1.47 1.35L5.41 20z\"/>\n",
              "  </svg>\n",
              "      </button>\n",
              "      \n",
              "  <style>\n",
              "    .colab-df-container {\n",
              "      display:flex;\n",
              "      flex-wrap:wrap;\n",
              "      gap: 12px;\n",
              "    }\n",
              "\n",
              "    .colab-df-convert {\n",
              "      background-color: #E8F0FE;\n",
              "      border: none;\n",
              "      border-radius: 50%;\n",
              "      cursor: pointer;\n",
              "      display: none;\n",
              "      fill: #1967D2;\n",
              "      height: 32px;\n",
              "      padding: 0 0 0 0;\n",
              "      width: 32px;\n",
              "    }\n",
              "\n",
              "    .colab-df-convert:hover {\n",
              "      background-color: #E2EBFA;\n",
              "      box-shadow: 0px 1px 2px rgba(60, 64, 67, 0.3), 0px 1px 3px 1px rgba(60, 64, 67, 0.15);\n",
              "      fill: #174EA6;\n",
              "    }\n",
              "\n",
              "    [theme=dark] .colab-df-convert {\n",
              "      background-color: #3B4455;\n",
              "      fill: #D2E3FC;\n",
              "    }\n",
              "\n",
              "    [theme=dark] .colab-df-convert:hover {\n",
              "      background-color: #434B5C;\n",
              "      box-shadow: 0px 1px 3px 1px rgba(0, 0, 0, 0.15);\n",
              "      filter: drop-shadow(0px 1px 2px rgba(0, 0, 0, 0.3));\n",
              "      fill: #FFFFFF;\n",
              "    }\n",
              "  </style>\n",
              "\n",
              "      <script>\n",
              "        const buttonEl =\n",
              "          document.querySelector('#df-eed85b90-6cd6-4246-84f8-de9d91570c27 button.colab-df-convert');\n",
              "        buttonEl.style.display =\n",
              "          google.colab.kernel.accessAllowed ? 'block' : 'none';\n",
              "\n",
              "        async function convertToInteractive(key) {\n",
              "          const element = document.querySelector('#df-eed85b90-6cd6-4246-84f8-de9d91570c27');\n",
              "          const dataTable =\n",
              "            await google.colab.kernel.invokeFunction('convertToInteractive',\n",
              "                                                     [key], {});\n",
              "          if (!dataTable) return;\n",
              "\n",
              "          const docLinkHtml = 'Like what you see? Visit the ' +\n",
              "            '<a target=\"_blank\" href=https://colab.research.google.com/notebooks/data_table.ipynb>data table notebook</a>'\n",
              "            + ' to learn more about interactive tables.';\n",
              "          element.innerHTML = '';\n",
              "          dataTable['output_type'] = 'display_data';\n",
              "          await google.colab.output.renderOutput(dataTable, element);\n",
              "          const docLink = document.createElement('div');\n",
              "          docLink.innerHTML = docLinkHtml;\n",
              "          element.appendChild(docLink);\n",
              "        }\n",
              "      </script>\n",
              "    </div>\n",
              "  </div>\n",
              "  "
            ]
          },
          "metadata": {},
          "execution_count": 11
        }
      ]
    },
    {
      "cell_type": "markdown",
      "source": [
        "###Data Cleaning"
      ],
      "metadata": {
        "id": "52_mNJjFwW1s"
      }
    },
    {
      "cell_type": "markdown",
      "source": [
        "Mencari nilai Null yang terdapat didalam data, jika ditemukan maka nilai tersebut akan diganti dengan nilai **Mean**.\n",
        "\n",
        "Kenapa tidak dilakukan proses drop? \n",
        "\n",
        "karena kemungkinan besar setiap data memiliki value sehingga jika dilakukan fungsi drop, akan mengurangi akurasi dari analisis."
      ],
      "metadata": {
        "id": "vQ1Jna97xtcP"
      }
    },
    {
      "cell_type": "markdown",
      "source": [
        "####POS CASH Balance"
      ],
      "metadata": {
        "id": "Mo5OYMI6yQXU"
      }
    },
    {
      "cell_type": "code",
      "source": [
        "data_POS.count()"
      ],
      "metadata": {
        "colab": {
          "base_uri": "https://localhost:8080/"
        },
        "id": "3_fnJn9G0p-P",
        "outputId": "1c3d676c-dd22-49e7-e70a-2157d632e1f5"
      },
      "execution_count": 12,
      "outputs": [
        {
          "output_type": "execute_result",
          "data": {
            "text/plain": [
              "SK_ID_PREV               10001358\n",
              "SK_ID_CURR               10001358\n",
              "MONTHS_BALANCE           10001358\n",
              "CNT_INSTALMENT            9975287\n",
              "CNT_INSTALMENT_FUTURE     9975271\n",
              "NAME_CONTRACT_STATUS     10001358\n",
              "SK_DPD                   10001358\n",
              "SK_DPD_DEF               10001358\n",
              "dtype: int64"
            ]
          },
          "metadata": {},
          "execution_count": 12
        }
      ]
    },
    {
      "cell_type": "code",
      "source": [
        "data_POS.isnull().sum()"
      ],
      "metadata": {
        "colab": {
          "base_uri": "https://localhost:8080/"
        },
        "id": "c3k3TRy-xbd1",
        "outputId": "b01a999d-827f-49e0-83b3-497e3a71123c"
      },
      "execution_count": 13,
      "outputs": [
        {
          "output_type": "execute_result",
          "data": {
            "text/plain": [
              "SK_ID_PREV                   0\n",
              "SK_ID_CURR                   0\n",
              "MONTHS_BALANCE               0\n",
              "CNT_INSTALMENT           26071\n",
              "CNT_INSTALMENT_FUTURE    26087\n",
              "NAME_CONTRACT_STATUS         0\n",
              "SK_DPD                       0\n",
              "SK_DPD_DEF                   0\n",
              "dtype: int64"
            ]
          },
          "metadata": {},
          "execution_count": 13
        }
      ]
    },
    {
      "cell_type": "code",
      "source": [
        "data_POS['CNT_INSTALMENT'].fillna(data_POS['CNT_INSTALMENT'].mean(), inplace = True)"
      ],
      "metadata": {
        "id": "oU-MADl7yayV"
      },
      "execution_count": 14,
      "outputs": []
    },
    {
      "cell_type": "code",
      "source": [
        "data_POS['CNT_INSTALMENT_FUTURE'].fillna(data_POS['CNT_INSTALMENT_FUTURE'].mean(), inplace = True)"
      ],
      "metadata": {
        "id": "qA6eq-B11Vex"
      },
      "execution_count": 15,
      "outputs": []
    },
    {
      "cell_type": "code",
      "source": [
        "data_POS.isnull().sum()"
      ],
      "metadata": {
        "colab": {
          "base_uri": "https://localhost:8080/"
        },
        "id": "NAVruZTc1hH_",
        "outputId": "ed137e09-7d98-467f-a5d5-6f60cd55966b"
      },
      "execution_count": 16,
      "outputs": [
        {
          "output_type": "execute_result",
          "data": {
            "text/plain": [
              "SK_ID_PREV               0\n",
              "SK_ID_CURR               0\n",
              "MONTHS_BALANCE           0\n",
              "CNT_INSTALMENT           0\n",
              "CNT_INSTALMENT_FUTURE    0\n",
              "NAME_CONTRACT_STATUS     0\n",
              "SK_DPD                   0\n",
              "SK_DPD_DEF               0\n",
              "dtype: int64"
            ]
          },
          "metadata": {},
          "execution_count": 16
        }
      ]
    },
    {
      "cell_type": "markdown",
      "source": [
        "####Bureau"
      ],
      "metadata": {
        "id": "uU-ygAgV8DE3"
      }
    },
    {
      "cell_type": "code",
      "source": [
        "data_bureau.count()"
      ],
      "metadata": {
        "colab": {
          "base_uri": "https://localhost:8080/"
        },
        "id": "YRp2wkd-8K3V",
        "outputId": "d427ef30-2d85-48ec-b589-e69bf5bdecf0"
      },
      "execution_count": 17,
      "outputs": [
        {
          "output_type": "execute_result",
          "data": {
            "text/plain": [
              "SK_ID_CURR                1716428\n",
              "SK_ID_BUREAU              1716428\n",
              "CREDIT_ACTIVE             1716428\n",
              "CREDIT_CURRENCY           1716428\n",
              "DAYS_CREDIT               1716428\n",
              "CREDIT_DAY_OVERDUE        1716428\n",
              "DAYS_CREDIT_ENDDATE       1610875\n",
              "DAYS_ENDDATE_FACT         1082775\n",
              "AMT_CREDIT_MAX_OVERDUE     591940\n",
              "CNT_CREDIT_PROLONG        1716428\n",
              "AMT_CREDIT_SUM            1716415\n",
              "AMT_CREDIT_SUM_DEBT       1458759\n",
              "AMT_CREDIT_SUM_LIMIT      1124648\n",
              "AMT_CREDIT_SUM_OVERDUE    1716428\n",
              "CREDIT_TYPE               1716428\n",
              "DAYS_CREDIT_UPDATE        1716428\n",
              "AMT_ANNUITY                489637\n",
              "dtype: int64"
            ]
          },
          "metadata": {},
          "execution_count": 17
        }
      ]
    },
    {
      "cell_type": "code",
      "source": [
        "data_bureau.isnull().sum()"
      ],
      "metadata": {
        "colab": {
          "base_uri": "https://localhost:8080/"
        },
        "id": "a3SeYn7K8N-S",
        "outputId": "c4041702-a69b-486f-abf8-45bf134c968e"
      },
      "execution_count": 18,
      "outputs": [
        {
          "output_type": "execute_result",
          "data": {
            "text/plain": [
              "SK_ID_CURR                      0\n",
              "SK_ID_BUREAU                    0\n",
              "CREDIT_ACTIVE                   0\n",
              "CREDIT_CURRENCY                 0\n",
              "DAYS_CREDIT                     0\n",
              "CREDIT_DAY_OVERDUE              0\n",
              "DAYS_CREDIT_ENDDATE        105553\n",
              "DAYS_ENDDATE_FACT          633653\n",
              "AMT_CREDIT_MAX_OVERDUE    1124488\n",
              "CNT_CREDIT_PROLONG              0\n",
              "AMT_CREDIT_SUM                 13\n",
              "AMT_CREDIT_SUM_DEBT        257669\n",
              "AMT_CREDIT_SUM_LIMIT       591780\n",
              "AMT_CREDIT_SUM_OVERDUE          0\n",
              "CREDIT_TYPE                     0\n",
              "DAYS_CREDIT_UPDATE              0\n",
              "AMT_ANNUITY               1226791\n",
              "dtype: int64"
            ]
          },
          "metadata": {},
          "execution_count": 18
        }
      ]
    },
    {
      "cell_type": "code",
      "source": [
        "data_bureau['DAYS_CREDIT_ENDDATE'].fillna(data_bureau['DAYS_CREDIT_ENDDATE'].mean(), inplace = True)"
      ],
      "metadata": {
        "id": "lFeJGLh38aqi"
      },
      "execution_count": 19,
      "outputs": []
    },
    {
      "cell_type": "code",
      "source": [
        "data_bureau['DAYS_ENDDATE_FACT'].fillna(data_bureau['DAYS_ENDDATE_FACT'].mean(), inplace = True)"
      ],
      "metadata": {
        "id": "gWt-68Ik8j-H"
      },
      "execution_count": 20,
      "outputs": []
    },
    {
      "cell_type": "code",
      "source": [
        "data_bureau['AMT_CREDIT_MAX_OVERDUE'].fillna(data_bureau['AMT_CREDIT_MAX_OVERDUE'].mean(), inplace = True)"
      ],
      "metadata": {
        "id": "z4KGyXwd8tGn"
      },
      "execution_count": 21,
      "outputs": []
    },
    {
      "cell_type": "code",
      "source": [
        "data_bureau['AMT_CREDIT_SUM'].fillna(data_bureau['AMT_CREDIT_SUM'].mean(), inplace = True)"
      ],
      "metadata": {
        "id": "lyFk0RkW8zfG"
      },
      "execution_count": 22,
      "outputs": []
    },
    {
      "cell_type": "code",
      "source": [
        "data_bureau['AMT_CREDIT_SUM_DEBT'].fillna(data_bureau['AMT_CREDIT_SUM_DEBT'].mean(), inplace = True)"
      ],
      "metadata": {
        "id": "j-Ra1_ZG84jB"
      },
      "execution_count": 23,
      "outputs": []
    },
    {
      "cell_type": "code",
      "source": [
        "data_bureau['AMT_CREDIT_SUM_LIMIT'].fillna(data_bureau['AMT_CREDIT_SUM_LIMIT'].mean(), inplace = True)"
      ],
      "metadata": {
        "id": "_Ghw1KHw9Av3"
      },
      "execution_count": 24,
      "outputs": []
    },
    {
      "cell_type": "code",
      "source": [
        "data_bureau['AMT_ANNUITY'].fillna(data_bureau['AMT_ANNUITY'].mean(), inplace = True)"
      ],
      "metadata": {
        "id": "PDBJBJKA9GN8"
      },
      "execution_count": 25,
      "outputs": []
    },
    {
      "cell_type": "code",
      "source": [
        "data_bureau.isnull().sum()"
      ],
      "metadata": {
        "colab": {
          "base_uri": "https://localhost:8080/"
        },
        "id": "ftMOv9tT9Rti",
        "outputId": "a4b03054-c034-493b-bda4-646fca348dff"
      },
      "execution_count": 26,
      "outputs": [
        {
          "output_type": "execute_result",
          "data": {
            "text/plain": [
              "SK_ID_CURR                0\n",
              "SK_ID_BUREAU              0\n",
              "CREDIT_ACTIVE             0\n",
              "CREDIT_CURRENCY           0\n",
              "DAYS_CREDIT               0\n",
              "CREDIT_DAY_OVERDUE        0\n",
              "DAYS_CREDIT_ENDDATE       0\n",
              "DAYS_ENDDATE_FACT         0\n",
              "AMT_CREDIT_MAX_OVERDUE    0\n",
              "CNT_CREDIT_PROLONG        0\n",
              "AMT_CREDIT_SUM            0\n",
              "AMT_CREDIT_SUM_DEBT       0\n",
              "AMT_CREDIT_SUM_LIMIT      0\n",
              "AMT_CREDIT_SUM_OVERDUE    0\n",
              "CREDIT_TYPE               0\n",
              "DAYS_CREDIT_UPDATE        0\n",
              "AMT_ANNUITY               0\n",
              "dtype: int64"
            ]
          },
          "metadata": {},
          "execution_count": 26
        }
      ]
    },
    {
      "cell_type": "markdown",
      "source": [
        "####Bureau Balance"
      ],
      "metadata": {
        "id": "yJLPtiFK9WZ8"
      }
    },
    {
      "cell_type": "code",
      "source": [
        "data_bureau_balance.isnull().sum()"
      ],
      "metadata": {
        "colab": {
          "base_uri": "https://localhost:8080/"
        },
        "id": "Hc57U2Oy9biW",
        "outputId": "19417d7c-64eb-4261-bac5-f6d7d7f6797f"
      },
      "execution_count": 27,
      "outputs": [
        {
          "output_type": "execute_result",
          "data": {
            "text/plain": [
              "SK_ID_BUREAU      0\n",
              "MONTHS_BALANCE    0\n",
              "STATUS            0\n",
              "dtype: int64"
            ]
          },
          "metadata": {},
          "execution_count": 27
        }
      ]
    },
    {
      "cell_type": "markdown",
      "source": [
        "####Credit Card Balance"
      ],
      "metadata": {
        "id": "ro9iUXMd9hrf"
      }
    },
    {
      "cell_type": "code",
      "source": [
        "data_credit_card_balance.isnull().sum()"
      ],
      "metadata": {
        "colab": {
          "base_uri": "https://localhost:8080/"
        },
        "id": "z25wahae9mwV",
        "outputId": "21671373-3b98-417c-9005-d1b8260049dd"
      },
      "execution_count": 28,
      "outputs": [
        {
          "output_type": "execute_result",
          "data": {
            "text/plain": [
              "SK_ID_PREV                         0\n",
              "SK_ID_CURR                         0\n",
              "MONTHS_BALANCE                     0\n",
              "AMT_BALANCE                        0\n",
              "AMT_CREDIT_LIMIT_ACTUAL            0\n",
              "AMT_DRAWINGS_ATM_CURRENT      749816\n",
              "AMT_DRAWINGS_CURRENT               0\n",
              "AMT_DRAWINGS_OTHER_CURRENT    749816\n",
              "AMT_DRAWINGS_POS_CURRENT      749816\n",
              "AMT_INST_MIN_REGULARITY       305236\n",
              "AMT_PAYMENT_CURRENT           767988\n",
              "AMT_PAYMENT_TOTAL_CURRENT          0\n",
              "AMT_RECEIVABLE_PRINCIPAL           0\n",
              "AMT_RECIVABLE                      0\n",
              "AMT_TOTAL_RECEIVABLE               0\n",
              "CNT_DRAWINGS_ATM_CURRENT      749816\n",
              "CNT_DRAWINGS_CURRENT               0\n",
              "CNT_DRAWINGS_OTHER_CURRENT    749816\n",
              "CNT_DRAWINGS_POS_CURRENT      749816\n",
              "CNT_INSTALMENT_MATURE_CUM     305236\n",
              "NAME_CONTRACT_STATUS               0\n",
              "SK_DPD                             0\n",
              "SK_DPD_DEF                         0\n",
              "dtype: int64"
            ]
          },
          "metadata": {},
          "execution_count": 28
        }
      ]
    },
    {
      "cell_type": "code",
      "source": [
        "data_credit_card_balance['AMT_DRAWINGS_ATM_CURRENT'].fillna(data_credit_card_balance['AMT_DRAWINGS_ATM_CURRENT'].mean(), inplace = True)"
      ],
      "metadata": {
        "id": "rfqnXqnc9rnz"
      },
      "execution_count": 29,
      "outputs": []
    },
    {
      "cell_type": "code",
      "source": [
        "data_credit_card_balance['AMT_DRAWINGS_OTHER_CURRENT'].fillna(data_credit_card_balance['AMT_DRAWINGS_OTHER_CURRENT'].mean(), inplace = True)"
      ],
      "metadata": {
        "id": "uoHSO0MH95Lf"
      },
      "execution_count": 30,
      "outputs": []
    },
    {
      "cell_type": "code",
      "source": [
        "data_credit_card_balance['AMT_DRAWINGS_POS_CURRENT'].fillna(data_credit_card_balance['AMT_DRAWINGS_POS_CURRENT'].mean(), inplace = True)"
      ],
      "metadata": {
        "id": "61InYZqj-A5n"
      },
      "execution_count": 31,
      "outputs": []
    },
    {
      "cell_type": "code",
      "source": [
        "data_credit_card_balance['AMT_INST_MIN_REGULARITY'].fillna(data_credit_card_balance['AMT_INST_MIN_REGULARITY'].mean(), inplace = True)"
      ],
      "metadata": {
        "id": "CGqMTPLr-GLi"
      },
      "execution_count": 32,
      "outputs": []
    },
    {
      "cell_type": "code",
      "source": [
        "data_credit_card_balance['AMT_PAYMENT_CURRENT'].fillna(data_credit_card_balance['AMT_PAYMENT_CURRENT'].mean(), inplace = True)"
      ],
      "metadata": {
        "id": "RXTe1nQW-Pto"
      },
      "execution_count": 33,
      "outputs": []
    },
    {
      "cell_type": "code",
      "source": [
        "data_credit_card_balance['CNT_DRAWINGS_ATM_CURRENT'].fillna(data_credit_card_balance['CNT_DRAWINGS_ATM_CURRENT'].mean(), inplace = True)"
      ],
      "metadata": {
        "id": "lFtWNgzf-VHt"
      },
      "execution_count": 34,
      "outputs": []
    },
    {
      "cell_type": "code",
      "source": [
        "data_credit_card_balance['CNT_DRAWINGS_OTHER_CURRENT'].fillna(data_credit_card_balance['CNT_DRAWINGS_OTHER_CURRENT'].mean(), inplace = True)"
      ],
      "metadata": {
        "id": "XwnOuFe4-dm4"
      },
      "execution_count": 35,
      "outputs": []
    },
    {
      "cell_type": "code",
      "source": [
        "data_credit_card_balance['CNT_DRAWINGS_POS_CURRENT'].fillna(data_credit_card_balance['CNT_DRAWINGS_POS_CURRENT'].mean(), inplace = True)"
      ],
      "metadata": {
        "id": "5pAuSXpT-kp8"
      },
      "execution_count": 36,
      "outputs": []
    },
    {
      "cell_type": "code",
      "source": [
        "data_credit_card_balance['CNT_INSTALMENT_MATURE_CUM'].fillna(data_credit_card_balance['CNT_INSTALMENT_MATURE_CUM'].mean(), inplace = True)"
      ],
      "metadata": {
        "id": "gsHrxrAz-qYE"
      },
      "execution_count": 37,
      "outputs": []
    },
    {
      "cell_type": "code",
      "source": [
        "data_credit_card_balance.isnull().sum()"
      ],
      "metadata": {
        "colab": {
          "base_uri": "https://localhost:8080/"
        },
        "id": "B92epPJ9-z5L",
        "outputId": "9a3112a2-5ab8-4c64-b495-8539414661b8"
      },
      "execution_count": 38,
      "outputs": [
        {
          "output_type": "execute_result",
          "data": {
            "text/plain": [
              "SK_ID_PREV                    0\n",
              "SK_ID_CURR                    0\n",
              "MONTHS_BALANCE                0\n",
              "AMT_BALANCE                   0\n",
              "AMT_CREDIT_LIMIT_ACTUAL       0\n",
              "AMT_DRAWINGS_ATM_CURRENT      0\n",
              "AMT_DRAWINGS_CURRENT          0\n",
              "AMT_DRAWINGS_OTHER_CURRENT    0\n",
              "AMT_DRAWINGS_POS_CURRENT      0\n",
              "AMT_INST_MIN_REGULARITY       0\n",
              "AMT_PAYMENT_CURRENT           0\n",
              "AMT_PAYMENT_TOTAL_CURRENT     0\n",
              "AMT_RECEIVABLE_PRINCIPAL      0\n",
              "AMT_RECIVABLE                 0\n",
              "AMT_TOTAL_RECEIVABLE          0\n",
              "CNT_DRAWINGS_ATM_CURRENT      0\n",
              "CNT_DRAWINGS_CURRENT          0\n",
              "CNT_DRAWINGS_OTHER_CURRENT    0\n",
              "CNT_DRAWINGS_POS_CURRENT      0\n",
              "CNT_INSTALMENT_MATURE_CUM     0\n",
              "NAME_CONTRACT_STATUS          0\n",
              "SK_DPD                        0\n",
              "SK_DPD_DEF                    0\n",
              "dtype: int64"
            ]
          },
          "metadata": {},
          "execution_count": 38
        }
      ]
    },
    {
      "cell_type": "markdown",
      "source": [
        "####Installment Payments"
      ],
      "metadata": {
        "id": "KeEgabD8--s-"
      }
    },
    {
      "cell_type": "code",
      "source": [
        "data_installments_payments.isnull().sum()"
      ],
      "metadata": {
        "colab": {
          "base_uri": "https://localhost:8080/"
        },
        "id": "JpOSGy_x_BEZ",
        "outputId": "318a5c45-5c4a-40f6-de8f-e81b80ab3e44"
      },
      "execution_count": 39,
      "outputs": [
        {
          "output_type": "execute_result",
          "data": {
            "text/plain": [
              "SK_ID_PREV                   0\n",
              "SK_ID_CURR                   0\n",
              "NUM_INSTALMENT_VERSION       0\n",
              "NUM_INSTALMENT_NUMBER        0\n",
              "DAYS_INSTALMENT              0\n",
              "DAYS_ENTRY_PAYMENT        2905\n",
              "AMT_INSTALMENT               0\n",
              "AMT_PAYMENT               2905\n",
              "dtype: int64"
            ]
          },
          "metadata": {},
          "execution_count": 39
        }
      ]
    },
    {
      "cell_type": "code",
      "source": [
        "data_installments_payments['DAYS_ENTRY_PAYMENT'].fillna(data_installments_payments['DAYS_ENTRY_PAYMENT'].mean(), inplace = True)"
      ],
      "metadata": {
        "id": "rv9vT5ZH_OA2"
      },
      "execution_count": 40,
      "outputs": []
    },
    {
      "cell_type": "code",
      "source": [
        "data_installments_payments['AMT_PAYMENT'].fillna(data_installments_payments['AMT_PAYMENT'].mean(), inplace = True)"
      ],
      "metadata": {
        "id": "s8Nxi20E_f7N"
      },
      "execution_count": 41,
      "outputs": []
    },
    {
      "cell_type": "code",
      "source": [
        "data_installments_payments.isnull().sum()"
      ],
      "metadata": {
        "colab": {
          "base_uri": "https://localhost:8080/"
        },
        "id": "PwR_be6t_nzA",
        "outputId": "0cc7c5d7-ecca-48d1-c27b-0233cb585d8a"
      },
      "execution_count": 42,
      "outputs": [
        {
          "output_type": "execute_result",
          "data": {
            "text/plain": [
              "SK_ID_PREV                0\n",
              "SK_ID_CURR                0\n",
              "NUM_INSTALMENT_VERSION    0\n",
              "NUM_INSTALMENT_NUMBER     0\n",
              "DAYS_INSTALMENT           0\n",
              "DAYS_ENTRY_PAYMENT        0\n",
              "AMT_INSTALMENT            0\n",
              "AMT_PAYMENT               0\n",
              "dtype: int64"
            ]
          },
          "metadata": {},
          "execution_count": 42
        }
      ]
    },
    {
      "cell_type": "markdown",
      "source": [
        "####Previous Application"
      ],
      "metadata": {
        "id": "tgDp7qZ4_uSZ"
      }
    },
    {
      "cell_type": "code",
      "source": [
        "data_previous_application.isnull().sum()"
      ],
      "metadata": {
        "colab": {
          "base_uri": "https://localhost:8080/"
        },
        "id": "JcGDaQ9D_wnI",
        "outputId": "fc126d7a-dc1a-4eb8-b538-2386261debf1"
      },
      "execution_count": 43,
      "outputs": [
        {
          "output_type": "execute_result",
          "data": {
            "text/plain": [
              "SK_ID_PREV                           0\n",
              "SK_ID_CURR                           0\n",
              "NAME_CONTRACT_TYPE                   0\n",
              "AMT_ANNUITY                     372235\n",
              "AMT_APPLICATION                      0\n",
              "AMT_CREDIT                           1\n",
              "AMT_DOWN_PAYMENT                895844\n",
              "AMT_GOODS_PRICE                 385515\n",
              "WEEKDAY_APPR_PROCESS_START           0\n",
              "HOUR_APPR_PROCESS_START              0\n",
              "FLAG_LAST_APPL_PER_CONTRACT          0\n",
              "NFLAG_LAST_APPL_IN_DAY               0\n",
              "RATE_DOWN_PAYMENT               895844\n",
              "RATE_INTEREST_PRIMARY          1664263\n",
              "RATE_INTEREST_PRIVILEGED       1664263\n",
              "NAME_CASH_LOAN_PURPOSE               0\n",
              "NAME_CONTRACT_STATUS                 0\n",
              "DAYS_DECISION                        0\n",
              "NAME_PAYMENT_TYPE                    0\n",
              "CODE_REJECT_REASON                   0\n",
              "NAME_TYPE_SUITE                 820405\n",
              "NAME_CLIENT_TYPE                     0\n",
              "NAME_GOODS_CATEGORY                  0\n",
              "NAME_PORTFOLIO                       0\n",
              "NAME_PRODUCT_TYPE                    0\n",
              "CHANNEL_TYPE                         0\n",
              "SELLERPLACE_AREA                     0\n",
              "NAME_SELLER_INDUSTRY                 0\n",
              "CNT_PAYMENT                     372230\n",
              "NAME_YIELD_GROUP                     0\n",
              "PRODUCT_COMBINATION                346\n",
              "DAYS_FIRST_DRAWING              673065\n",
              "DAYS_FIRST_DUE                  673065\n",
              "DAYS_LAST_DUE_1ST_VERSION       673065\n",
              "DAYS_LAST_DUE                   673065\n",
              "DAYS_TERMINATION                673065\n",
              "NFLAG_INSURED_ON_APPROVAL       673065\n",
              "dtype: int64"
            ]
          },
          "metadata": {},
          "execution_count": 43
        }
      ]
    },
    {
      "cell_type": "code",
      "source": [
        "data_previous_application['NAME_TYPE_SUITE'].value_counts()"
      ],
      "metadata": {
        "colab": {
          "base_uri": "https://localhost:8080/"
        },
        "id": "XfHIpabtBK6O",
        "outputId": "e1d3eab0-fdff-4e4c-98f3-d30900557b28"
      },
      "execution_count": 44,
      "outputs": [
        {
          "output_type": "execute_result",
          "data": {
            "text/plain": [
              "Unaccompanied      508970\n",
              "Family             213263\n",
              "Spouse, partner     67069\n",
              "Children            31566\n",
              "Other_B             17624\n",
              "Other_A              9077\n",
              "Group of people      2240\n",
              "Name: NAME_TYPE_SUITE, dtype: int64"
            ]
          },
          "metadata": {},
          "execution_count": 44
        }
      ]
    },
    {
      "cell_type": "code",
      "source": [
        "data_previous_application['AMT_ANNUITY'].fillna(data_previous_application['AMT_ANNUITY'].mean(), inplace = True)"
      ],
      "metadata": {
        "id": "LpcUnVe-_zjM"
      },
      "execution_count": 45,
      "outputs": []
    },
    {
      "cell_type": "code",
      "source": [
        "data_previous_application['AMT_CREDIT'].fillna(data_previous_application['AMT_CREDIT'].mean(), inplace = True)"
      ],
      "metadata": {
        "id": "VVULGPQwAFcZ"
      },
      "execution_count": 46,
      "outputs": []
    },
    {
      "cell_type": "code",
      "source": [
        "data_previous_application['AMT_DOWN_PAYMENT'].fillna(data_previous_application['AMT_DOWN_PAYMENT'].mean(), inplace = True)"
      ],
      "metadata": {
        "id": "G-iTRobhAKW3"
      },
      "execution_count": 47,
      "outputs": []
    },
    {
      "cell_type": "code",
      "source": [
        "data_previous_application['AMT_GOODS_PRICE'].fillna(data_previous_application['AMT_GOODS_PRICE'].mean(), inplace = True)"
      ],
      "metadata": {
        "id": "AsQp4r0XAPcB"
      },
      "execution_count": 48,
      "outputs": []
    },
    {
      "cell_type": "code",
      "source": [
        "data_previous_application['RATE_DOWN_PAYMENT'].fillna(data_previous_application['RATE_DOWN_PAYMENT'].mean(), inplace = True)"
      ],
      "metadata": {
        "id": "6hpPWSYVAWQX"
      },
      "execution_count": 49,
      "outputs": []
    },
    {
      "cell_type": "code",
      "source": [
        "data_previous_application['RATE_INTEREST_PRIMARY'].fillna(data_previous_application['RATE_INTEREST_PRIMARY'].mean(), inplace = True)"
      ],
      "metadata": {
        "id": "sb0y-l1-AdJ_"
      },
      "execution_count": 50,
      "outputs": []
    },
    {
      "cell_type": "code",
      "source": [
        "data_previous_application['RATE_INTEREST_PRIVILEGED'].fillna(data_previous_application['RATE_INTEREST_PRIVILEGED'].mean(), inplace = True)"
      ],
      "metadata": {
        "id": "2-2lC3SUAjEa"
      },
      "execution_count": 51,
      "outputs": []
    },
    {
      "cell_type": "code",
      "source": [
        "data_previous_application['NAME_TYPE_SUITE'] = data_previous_application['NAME_TYPE_SUITE'].fillna('Unknown')"
      ],
      "metadata": {
        "id": "T7KvIMlbApXO"
      },
      "execution_count": 52,
      "outputs": []
    },
    {
      "cell_type": "code",
      "source": [
        "data_previous_application['NAME_TYPE_SUITE'].value_counts()"
      ],
      "metadata": {
        "colab": {
          "base_uri": "https://localhost:8080/"
        },
        "id": "3HzrCvXmCZJx",
        "outputId": "2810b25f-80b8-407b-eb0f-a5e320a41068"
      },
      "execution_count": 53,
      "outputs": [
        {
          "output_type": "execute_result",
          "data": {
            "text/plain": [
              "Unknown            820405\n",
              "Unaccompanied      508970\n",
              "Family             213263\n",
              "Spouse, partner     67069\n",
              "Children            31566\n",
              "Other_B             17624\n",
              "Other_A              9077\n",
              "Group of people      2240\n",
              "Name: NAME_TYPE_SUITE, dtype: int64"
            ]
          },
          "metadata": {},
          "execution_count": 53
        }
      ]
    },
    {
      "cell_type": "code",
      "source": [
        "data_previous_application['CNT_PAYMENT'].fillna(data_previous_application['CNT_PAYMENT'].mean(), inplace = True)"
      ],
      "metadata": {
        "id": "wNjbj4cACf8N"
      },
      "execution_count": 54,
      "outputs": []
    },
    {
      "cell_type": "code",
      "source": [
        "data_previous_application['PRODUCT_COMBINATION'].value_counts()"
      ],
      "metadata": {
        "colab": {
          "base_uri": "https://localhost:8080/"
        },
        "id": "1K4NOJooCvkC",
        "outputId": "cd40775d-3fd3-4754-b1ff-047d502fd584"
      },
      "execution_count": 55,
      "outputs": [
        {
          "output_type": "execute_result",
          "data": {
            "text/plain": [
              "Cash                              285990\n",
              "POS household with interest       263622\n",
              "POS mobile with interest          220670\n",
              "Cash X-Sell: middle               143883\n",
              "Cash X-Sell: low                  130248\n",
              "Card Street                       112582\n",
              "POS industry with interest         98833\n",
              "POS household without interest     82908\n",
              "Card X-Sell                        80582\n",
              "Cash Street: high                  59639\n",
              "Cash X-Sell: high                  59301\n",
              "Cash Street: middle                34658\n",
              "Cash Street: low                   33834\n",
              "POS mobile without interest        24082\n",
              "POS other with interest            23879\n",
              "POS industry without interest      12602\n",
              "POS others without interest         2555\n",
              "Name: PRODUCT_COMBINATION, dtype: int64"
            ]
          },
          "metadata": {},
          "execution_count": 55
        }
      ]
    },
    {
      "cell_type": "code",
      "source": [
        "data_previous_application['PRODUCT_COMBINATION'] = data_previous_application['PRODUCT_COMBINATION'].fillna('Unknown')"
      ],
      "metadata": {
        "id": "jxuK_jW-C4Dd"
      },
      "execution_count": 56,
      "outputs": []
    },
    {
      "cell_type": "code",
      "source": [
        "data_previous_application['PRODUCT_COMBINATION'].value_counts()"
      ],
      "metadata": {
        "colab": {
          "base_uri": "https://localhost:8080/"
        },
        "id": "FyHV9YMQC_Op",
        "outputId": "bcad0fe8-8065-4e76-cc50-5d52e022c5ea"
      },
      "execution_count": 57,
      "outputs": [
        {
          "output_type": "execute_result",
          "data": {
            "text/plain": [
              "Cash                              285990\n",
              "POS household with interest       263622\n",
              "POS mobile with interest          220670\n",
              "Cash X-Sell: middle               143883\n",
              "Cash X-Sell: low                  130248\n",
              "Card Street                       112582\n",
              "POS industry with interest         98833\n",
              "POS household without interest     82908\n",
              "Card X-Sell                        80582\n",
              "Cash Street: high                  59639\n",
              "Cash X-Sell: high                  59301\n",
              "Cash Street: middle                34658\n",
              "Cash Street: low                   33834\n",
              "POS mobile without interest        24082\n",
              "POS other with interest            23879\n",
              "POS industry without interest      12602\n",
              "POS others without interest         2555\n",
              "Unknown                              346\n",
              "Name: PRODUCT_COMBINATION, dtype: int64"
            ]
          },
          "metadata": {},
          "execution_count": 57
        }
      ]
    },
    {
      "cell_type": "code",
      "source": [
        "data_previous_application['DAYS_FIRST_DRAWING'].fillna(data_previous_application['DAYS_FIRST_DRAWING'].mean(), inplace = True)"
      ],
      "metadata": {
        "id": "QWxTi6bmDRQQ"
      },
      "execution_count": 58,
      "outputs": []
    },
    {
      "cell_type": "code",
      "source": [
        "data_previous_application['DAYS_FIRST_DUE'].fillna(data_previous_application['DAYS_FIRST_DUE'].mean(), inplace = True)"
      ],
      "metadata": {
        "id": "wMQzn0WoDhU4"
      },
      "execution_count": 59,
      "outputs": []
    },
    {
      "cell_type": "code",
      "source": [
        "data_previous_application['DAYS_LAST_DUE_1ST_VERSION'].fillna(data_previous_application['DAYS_LAST_DUE_1ST_VERSION'].mean(), inplace = True)"
      ],
      "metadata": {
        "id": "Ie7s6LhEDnUV"
      },
      "execution_count": 60,
      "outputs": []
    },
    {
      "cell_type": "code",
      "source": [
        "data_previous_application['DAYS_LAST_DUE'].fillna(data_previous_application['DAYS_LAST_DUE'].mean(), inplace = True)"
      ],
      "metadata": {
        "id": "Yw8zVTJYDtWg"
      },
      "execution_count": 61,
      "outputs": []
    },
    {
      "cell_type": "code",
      "source": [
        "data_previous_application['DAYS_TERMINATION'].fillna(data_previous_application['DAYS_TERMINATION'].mean(), inplace = True)"
      ],
      "metadata": {
        "id": "_o4AapOmDzVF"
      },
      "execution_count": 62,
      "outputs": []
    },
    {
      "cell_type": "code",
      "source": [
        "data_previous_application['NFLAG_INSURED_ON_APPROVAL'].fillna(data_previous_application['NFLAG_INSURED_ON_APPROVAL'].mean(), inplace = True)"
      ],
      "metadata": {
        "id": "O8YaEE4oD4jf"
      },
      "execution_count": 63,
      "outputs": []
    },
    {
      "cell_type": "code",
      "source": [
        "data_previous_application.isnull().sum()"
      ],
      "metadata": {
        "colab": {
          "base_uri": "https://localhost:8080/"
        },
        "id": "BWd8xotTD_Z6",
        "outputId": "2bb78594-642f-4b93-b7fe-2fd5719608ef"
      },
      "execution_count": 64,
      "outputs": [
        {
          "output_type": "execute_result",
          "data": {
            "text/plain": [
              "SK_ID_PREV                     0\n",
              "SK_ID_CURR                     0\n",
              "NAME_CONTRACT_TYPE             0\n",
              "AMT_ANNUITY                    0\n",
              "AMT_APPLICATION                0\n",
              "AMT_CREDIT                     0\n",
              "AMT_DOWN_PAYMENT               0\n",
              "AMT_GOODS_PRICE                0\n",
              "WEEKDAY_APPR_PROCESS_START     0\n",
              "HOUR_APPR_PROCESS_START        0\n",
              "FLAG_LAST_APPL_PER_CONTRACT    0\n",
              "NFLAG_LAST_APPL_IN_DAY         0\n",
              "RATE_DOWN_PAYMENT              0\n",
              "RATE_INTEREST_PRIMARY          0\n",
              "RATE_INTEREST_PRIVILEGED       0\n",
              "NAME_CASH_LOAN_PURPOSE         0\n",
              "NAME_CONTRACT_STATUS           0\n",
              "DAYS_DECISION                  0\n",
              "NAME_PAYMENT_TYPE              0\n",
              "CODE_REJECT_REASON             0\n",
              "NAME_TYPE_SUITE                0\n",
              "NAME_CLIENT_TYPE               0\n",
              "NAME_GOODS_CATEGORY            0\n",
              "NAME_PORTFOLIO                 0\n",
              "NAME_PRODUCT_TYPE              0\n",
              "CHANNEL_TYPE                   0\n",
              "SELLERPLACE_AREA               0\n",
              "NAME_SELLER_INDUSTRY           0\n",
              "CNT_PAYMENT                    0\n",
              "NAME_YIELD_GROUP               0\n",
              "PRODUCT_COMBINATION            0\n",
              "DAYS_FIRST_DRAWING             0\n",
              "DAYS_FIRST_DUE                 0\n",
              "DAYS_LAST_DUE_1ST_VERSION      0\n",
              "DAYS_LAST_DUE                  0\n",
              "DAYS_TERMINATION               0\n",
              "NFLAG_INSURED_ON_APPROVAL      0\n",
              "dtype: int64"
            ]
          },
          "metadata": {},
          "execution_count": 64
        }
      ]
    },
    {
      "cell_type": "markdown",
      "source": [
        "####Sample Submission"
      ],
      "metadata": {
        "id": "w7XOVB-LEMot"
      }
    },
    {
      "cell_type": "code",
      "source": [
        "data_sample_submission.isnull().sum()"
      ],
      "metadata": {
        "colab": {
          "base_uri": "https://localhost:8080/"
        },
        "id": "mM6cNE2YEMBz",
        "outputId": "e5fa5c2b-9a5c-4499-93ab-bbae06eda278"
      },
      "execution_count": 65,
      "outputs": [
        {
          "output_type": "execute_result",
          "data": {
            "text/plain": [
              "SK_ID_CURR    0\n",
              "TARGET        0\n",
              "dtype: int64"
            ]
          },
          "metadata": {},
          "execution_count": 65
        }
      ]
    },
    {
      "cell_type": "markdown",
      "source": [
        "####Application Train"
      ],
      "metadata": {
        "id": "ylgNWOm0EV5z"
      }
    },
    {
      "cell_type": "code",
      "source": [
        "data_train.isnull().sum()"
      ],
      "metadata": {
        "colab": {
          "base_uri": "https://localhost:8080/"
        },
        "id": "JvzwobfmEX5C",
        "outputId": "f767b599-1acc-4bca-a5c9-8abed8810142"
      },
      "execution_count": 66,
      "outputs": [
        {
          "output_type": "execute_result",
          "data": {
            "text/plain": [
              "SK_ID_CURR                        0\n",
              "TARGET                            0\n",
              "NAME_CONTRACT_TYPE                0\n",
              "CODE_GENDER                       0\n",
              "FLAG_OWN_CAR                      0\n",
              "                              ...  \n",
              "AMT_REQ_CREDIT_BUREAU_DAY     41519\n",
              "AMT_REQ_CREDIT_BUREAU_WEEK    41519\n",
              "AMT_REQ_CREDIT_BUREAU_MON     41519\n",
              "AMT_REQ_CREDIT_BUREAU_QRT     41519\n",
              "AMT_REQ_CREDIT_BUREAU_YEAR    41519\n",
              "Length: 122, dtype: int64"
            ]
          },
          "metadata": {},
          "execution_count": 66
        }
      ]
    },
    {
      "cell_type": "code",
      "source": [
        "data_train[\"AMT_REQ_CREDIT_BUREAU_HOUR\"].isnull().sum()"
      ],
      "metadata": {
        "colab": {
          "base_uri": "https://localhost:8080/"
        },
        "id": "AY3svdlGEcqm",
        "outputId": "40446b04-8413-4116-bb4b-608a8edff3d5"
      },
      "execution_count": 67,
      "outputs": [
        {
          "output_type": "execute_result",
          "data": {
            "text/plain": [
              "41519"
            ]
          },
          "metadata": {},
          "execution_count": 67
        }
      ]
    },
    {
      "cell_type": "code",
      "source": [
        "data_train['NAME_TYPE_SUITE'].value_counts()"
      ],
      "metadata": {
        "colab": {
          "base_uri": "https://localhost:8080/"
        },
        "id": "Ffe0ahleFdVs",
        "outputId": "fd87a1c3-1f3e-4eaf-cc00-13ae3466581d"
      },
      "execution_count": 68,
      "outputs": [
        {
          "output_type": "execute_result",
          "data": {
            "text/plain": [
              "Unaccompanied      248526\n",
              "Family              40149\n",
              "Spouse, partner     11370\n",
              "Children             3267\n",
              "Other_B              1770\n",
              "Other_A               866\n",
              "Group of people       271\n",
              "Name: NAME_TYPE_SUITE, dtype: int64"
            ]
          },
          "metadata": {},
          "execution_count": 68
        }
      ]
    },
    {
      "cell_type": "code",
      "source": [
        "data_train['AMT_ANNUITY'].fillna(data_train['AMT_ANNUITY'].mean(), inplace = True)"
      ],
      "metadata": {
        "id": "aYBEUTVVE-KW"
      },
      "execution_count": 69,
      "outputs": []
    },
    {
      "cell_type": "code",
      "source": [
        "data_train[\"AMT_ANNUITY\"].isnull().sum()"
      ],
      "metadata": {
        "colab": {
          "base_uri": "https://localhost:8080/"
        },
        "id": "dsyQ20VhFL0R",
        "outputId": "660e16d5-c098-4814-e231-e706ccc5b976"
      },
      "execution_count": 70,
      "outputs": [
        {
          "output_type": "execute_result",
          "data": {
            "text/plain": [
              "0"
            ]
          },
          "metadata": {},
          "execution_count": 70
        }
      ]
    },
    {
      "cell_type": "code",
      "source": [
        "data_train['AMT_GOODS_PRICE'].fillna(data_train['AMT_GOODS_PRICE'].mean(), inplace = True)"
      ],
      "metadata": {
        "id": "7OjAucHBFRm9"
      },
      "execution_count": 71,
      "outputs": []
    },
    {
      "cell_type": "code",
      "source": [
        "data_train[\"AMT_GOODS_PRICE\"].isnull().sum()"
      ],
      "metadata": {
        "colab": {
          "base_uri": "https://localhost:8080/"
        },
        "id": "cAkremOdFW-B",
        "outputId": "0c8909e5-248e-4889-e735-e49fcb17cf44"
      },
      "execution_count": 72,
      "outputs": [
        {
          "output_type": "execute_result",
          "data": {
            "text/plain": [
              "0"
            ]
          },
          "metadata": {},
          "execution_count": 72
        }
      ]
    },
    {
      "cell_type": "code",
      "source": [
        "data_train['NAME_TYPE_SUITE'] = data_train['NAME_TYPE_SUITE'].fillna('Unknown')"
      ],
      "metadata": {
        "id": "7ZAFDl4kFZ1H"
      },
      "execution_count": 73,
      "outputs": []
    },
    {
      "cell_type": "code",
      "source": [
        "data_train['NAME_TYPE_SUITE'].value_counts()"
      ],
      "metadata": {
        "colab": {
          "base_uri": "https://localhost:8080/"
        },
        "id": "Ne0WLcMfF9g1",
        "outputId": "e20b2f44-e42d-4fd5-df6f-f1a8a44e16cc"
      },
      "execution_count": 74,
      "outputs": [
        {
          "output_type": "execute_result",
          "data": {
            "text/plain": [
              "Unaccompanied      248526\n",
              "Family              40149\n",
              "Spouse, partner     11370\n",
              "Children             3267\n",
              "Other_B              1770\n",
              "Unknown              1292\n",
              "Other_A               866\n",
              "Group of people       271\n",
              "Name: NAME_TYPE_SUITE, dtype: int64"
            ]
          },
          "metadata": {},
          "execution_count": 74
        }
      ]
    },
    {
      "cell_type": "code",
      "source": [
        "data_train['OWN_CAR_AGE'].fillna(data_train['OWN_CAR_AGE'].mean(), inplace = True)"
      ],
      "metadata": {
        "id": "YDZ9CQjwGeCl"
      },
      "execution_count": 75,
      "outputs": []
    },
    {
      "cell_type": "code",
      "source": [
        "data_train[\"OCCUPATION_TYPE\"].value_counts()"
      ],
      "metadata": {
        "colab": {
          "base_uri": "https://localhost:8080/"
        },
        "id": "HgwId9dpHAQK",
        "outputId": "769e8d10-a68c-409f-827b-8c14ec4240c3"
      },
      "execution_count": 76,
      "outputs": [
        {
          "output_type": "execute_result",
          "data": {
            "text/plain": [
              "Laborers                 55186\n",
              "Sales staff              32102\n",
              "Core staff               27570\n",
              "Managers                 21371\n",
              "Drivers                  18603\n",
              "High skill tech staff    11380\n",
              "Accountants               9813\n",
              "Medicine staff            8537\n",
              "Security staff            6721\n",
              "Cooking staff             5946\n",
              "Cleaning staff            4653\n",
              "Private service staff     2652\n",
              "Low-skill Laborers        2093\n",
              "Waiters/barmen staff      1348\n",
              "Secretaries               1305\n",
              "Realty agents              751\n",
              "HR staff                   563\n",
              "IT staff                   526\n",
              "Name: OCCUPATION_TYPE, dtype: int64"
            ]
          },
          "metadata": {},
          "execution_count": 76
        }
      ]
    },
    {
      "cell_type": "code",
      "source": [
        "data_train['OCCUPATION_TYPE'] = data_train['OCCUPATION_TYPE'].fillna('Unknown')"
      ],
      "metadata": {
        "id": "tOnLrWqbHCV4"
      },
      "execution_count": 77,
      "outputs": []
    },
    {
      "cell_type": "code",
      "source": [
        "data_train[\"OCCUPATION_TYPE\"].value_counts()"
      ],
      "metadata": {
        "colab": {
          "base_uri": "https://localhost:8080/"
        },
        "id": "WCA2ZaU7HM1L",
        "outputId": "955201bd-ad67-41e6-d6e6-b2f703525edb"
      },
      "execution_count": 78,
      "outputs": [
        {
          "output_type": "execute_result",
          "data": {
            "text/plain": [
              "Unknown                  96391\n",
              "Laborers                 55186\n",
              "Sales staff              32102\n",
              "Core staff               27570\n",
              "Managers                 21371\n",
              "Drivers                  18603\n",
              "High skill tech staff    11380\n",
              "Accountants               9813\n",
              "Medicine staff            8537\n",
              "Security staff            6721\n",
              "Cooking staff             5946\n",
              "Cleaning staff            4653\n",
              "Private service staff     2652\n",
              "Low-skill Laborers        2093\n",
              "Waiters/barmen staff      1348\n",
              "Secretaries               1305\n",
              "Realty agents              751\n",
              "HR staff                   563\n",
              "IT staff                   526\n",
              "Name: OCCUPATION_TYPE, dtype: int64"
            ]
          },
          "metadata": {},
          "execution_count": 78
        }
      ]
    },
    {
      "cell_type": "code",
      "source": [
        "data_train[\"CNT_FAM_MEMBERS\"].fillna(data_train['CNT_FAM_MEMBERS'].mean(), inplace = True)"
      ],
      "metadata": {
        "id": "KNmQe5yjHXYB"
      },
      "execution_count": 79,
      "outputs": []
    },
    {
      "cell_type": "code",
      "source": [
        "data_train[\"EXT_SOURCE_3\"].fillna(data_train['EXT_SOURCE_3'].mean(), inplace = True)"
      ],
      "metadata": {
        "id": "ctINPDufI1kH"
      },
      "execution_count": 80,
      "outputs": []
    },
    {
      "cell_type": "code",
      "source": [
        "data_train[\"APARTMENTS_AVG\"].fillna(data_train[\"APARTMENTS_AVG\"].mean(), inplace = True)"
      ],
      "metadata": {
        "id": "c8_jL-2fJZd3"
      },
      "execution_count": 81,
      "outputs": []
    },
    {
      "cell_type": "code",
      "source": [
        "data_train[\"BASEMENTAREA_AVG\"].fillna(data_train[\"BASEMENTAREA_AVG\"].mean(), inplace = True)"
      ],
      "metadata": {
        "id": "cwNdN_aFJ3dU"
      },
      "execution_count": 82,
      "outputs": []
    },
    {
      "cell_type": "code",
      "source": [
        "data_train[\"YEARS_BEGINEXPLUATATION_AVG\"].fillna(data_train[\"YEARS_BEGINEXPLUATATION_AVG\"].mean(), inplace = True)"
      ],
      "metadata": {
        "id": "9evlX5y3KCj-"
      },
      "execution_count": 83,
      "outputs": []
    },
    {
      "cell_type": "code",
      "source": [
        "data_train[\"YEARS_BUILD_AVG\"].fillna(data_train[\"YEARS_BUILD_AVG\"].mean(), inplace = True)"
      ],
      "metadata": {
        "id": "nosXYbRjKP5l"
      },
      "execution_count": 84,
      "outputs": []
    },
    {
      "cell_type": "code",
      "source": [
        "data_train[\"COMMONAREA_AVG\"].fillna(data_train[\"COMMONAREA_AVG\"].mean(), inplace = True)"
      ],
      "metadata": {
        "id": "OlJrpUcAKaPe"
      },
      "execution_count": 85,
      "outputs": []
    },
    {
      "cell_type": "code",
      "source": [
        "data_train[\"ELEVATORS_AVG\"].fillna(data_train[\"ELEVATORS_AVG\"].mean(), inplace = True)"
      ],
      "metadata": {
        "id": "oILTPoSESpnT"
      },
      "execution_count": 86,
      "outputs": []
    },
    {
      "cell_type": "code",
      "source": [
        "data_train[\"ENTRANCES_AVG\"].fillna(data_train[\"ENTRANCES_AVG\"].mean(), inplace = True)"
      ],
      "metadata": {
        "id": "htD_dUMiS2jl"
      },
      "execution_count": 87,
      "outputs": []
    },
    {
      "cell_type": "code",
      "source": [
        "data_train[\"FLOORSMAX_AVG\"].fillna(data_train[\"FLOORSMAX_AVG\"].mean(), inplace = True)"
      ],
      "metadata": {
        "id": "wL0ZVHldTCGo"
      },
      "execution_count": 88,
      "outputs": []
    },
    {
      "cell_type": "code",
      "source": [
        "data_train[\"FLOORSMIN_AVG\"].fillna(data_train[\"FLOORSMIN_AVG\"].mean(), inplace = True)"
      ],
      "metadata": {
        "id": "GfQJ0n7ITLAO"
      },
      "execution_count": 89,
      "outputs": []
    },
    {
      "cell_type": "code",
      "source": [
        "data_train[\"LANDAREA_AVG\"].fillna(data_train[\"LANDAREA_AVG\"].mean(), inplace = True)"
      ],
      "metadata": {
        "id": "4TIQcStITft3"
      },
      "execution_count": 90,
      "outputs": []
    },
    {
      "cell_type": "code",
      "source": [
        "data_train[\"LIVINGAPARTMENTS_AVG\"].fillna(data_train[\"LIVINGAPARTMENTS_AVG\"].mean(), inplace = True)"
      ],
      "metadata": {
        "id": "Bop6V0BHTpEu"
      },
      "execution_count": 91,
      "outputs": []
    },
    {
      "cell_type": "code",
      "source": [
        "data_train[\"LIVINGAREA_AVG\"].fillna(data_train[\"LIVINGAREA_AVG\"].mean(), inplace = True)"
      ],
      "metadata": {
        "id": "Be7BaPwNT098"
      },
      "execution_count": 92,
      "outputs": []
    },
    {
      "cell_type": "code",
      "source": [
        "data_train[\"NONLIVINGAPARTMENTS_AVG\"].fillna(data_train[\"NONLIVINGAPARTMENTS_AVG\"].mean(), inplace = True)"
      ],
      "metadata": {
        "id": "VPcTvrWHUAHs"
      },
      "execution_count": 93,
      "outputs": []
    },
    {
      "cell_type": "code",
      "source": [
        "data_train[\"NONLIVINGAREA_AVG\"].fillna(data_train[\"NONLIVINGAREA_AVG\"].mean(), inplace = True)"
      ],
      "metadata": {
        "id": "i_iluRzyUU71"
      },
      "execution_count": 94,
      "outputs": []
    },
    {
      "cell_type": "code",
      "source": [
        "data_train[\"APARTMENTS_MODE\"].fillna(data_train[\"APARTMENTS_MODE\"].mean(), inplace = True)"
      ],
      "metadata": {
        "id": "Wbrwsyf2Uegd"
      },
      "execution_count": 95,
      "outputs": []
    },
    {
      "cell_type": "code",
      "source": [
        "data_train[\"BASEMENTAREA_MODE\"].fillna(data_train[\"BASEMENTAREA_MODE\"].mean(), inplace = True)"
      ],
      "metadata": {
        "id": "7ksmT0IDUq0N"
      },
      "execution_count": 96,
      "outputs": []
    },
    {
      "cell_type": "code",
      "source": [
        "data_train[\"YEARS_BEGINEXPLUATATION_MODE\"].fillna(data_train[\"YEARS_BEGINEXPLUATATION_MODE\"].mean(), inplace = True)"
      ],
      "metadata": {
        "id": "nZ2albapU1XV"
      },
      "execution_count": 97,
      "outputs": []
    },
    {
      "cell_type": "code",
      "source": [
        "data_train[\"YEARS_BUILD_MODE\"].fillna(data_train[\"YEARS_BUILD_MODE\"].mean(), inplace = True)"
      ],
      "metadata": {
        "id": "TXm-967pVF1d"
      },
      "execution_count": 98,
      "outputs": []
    },
    {
      "cell_type": "code",
      "source": [
        "data_train[\"COMMONAREA_MODE\"].fillna(data_train[\"COMMONAREA_MODE\"].mean(), inplace = True)"
      ],
      "metadata": {
        "id": "dcbX4XhtVQGd"
      },
      "execution_count": 99,
      "outputs": []
    },
    {
      "cell_type": "code",
      "source": [
        "data_train[\"ELEVATORS_MODE\"].fillna(data_train[\"ELEVATORS_MODE\"].mean(), inplace = True)"
      ],
      "metadata": {
        "id": "84loLFETVaiw"
      },
      "execution_count": 100,
      "outputs": []
    },
    {
      "cell_type": "code",
      "source": [
        "data_train[\"ENTRANCES_MODE\"].fillna(data_train[\"ENTRANCES_MODE\"].mean(), inplace = True)"
      ],
      "metadata": {
        "id": "BijdOV5jVkvF"
      },
      "execution_count": 101,
      "outputs": []
    },
    {
      "cell_type": "code",
      "source": [
        "data_train[\"FLOORSMAX_MODE\"].fillna(data_train[\"FLOORSMAX_MODE\"].mean(), inplace = True)"
      ],
      "metadata": {
        "id": "CvjhkHkSVyV6"
      },
      "execution_count": 102,
      "outputs": []
    },
    {
      "cell_type": "code",
      "source": [
        "data_train[\"FLOORSMIN_MODE\"].fillna(data_train[\"FLOORSMIN_MODE\"].mean(), inplace = True)"
      ],
      "metadata": {
        "id": "k-v2WusSWDjz"
      },
      "execution_count": 103,
      "outputs": []
    },
    {
      "cell_type": "code",
      "source": [
        "data_train[\"LANDAREA_MODE\"].fillna(data_train[\"LANDAREA_MODE\"].mean(), inplace = True)"
      ],
      "metadata": {
        "id": "OChkbinnWMNM"
      },
      "execution_count": 104,
      "outputs": []
    },
    {
      "cell_type": "code",
      "source": [
        "data_train[\"LIVINGAPARTMENTS_MODE\"].fillna(data_train[\"LIVINGAPARTMENTS_MODE\"].mean(), inplace = True)"
      ],
      "metadata": {
        "id": "BhUXe_vuWahT"
      },
      "execution_count": 105,
      "outputs": []
    },
    {
      "cell_type": "code",
      "source": [
        "data_train[\"LIVINGAREA_MODE\"].fillna(data_train[\"LIVINGAREA_MODE\"].mean(), inplace = True)"
      ],
      "metadata": {
        "id": "jA75Ubj-Wh5L"
      },
      "execution_count": 106,
      "outputs": []
    },
    {
      "cell_type": "code",
      "source": [
        "data_train[\"NONLIVINGAPARTMENTS_MODE\"].fillna(data_train[\"NONLIVINGAPARTMENTS_MODE\"].mean(), inplace = True)"
      ],
      "metadata": {
        "id": "y0xMNQMOW1W2"
      },
      "execution_count": 107,
      "outputs": []
    },
    {
      "cell_type": "code",
      "source": [
        "data_train[\"NONLIVINGAREA_MODE\"].fillna(data_train[\"NONLIVINGAREA_MODE\"].mean(), inplace = True)"
      ],
      "metadata": {
        "id": "k_PrbIr0W_r0"
      },
      "execution_count": 108,
      "outputs": []
    },
    {
      "cell_type": "code",
      "source": [
        "data_train[\"APARTMENTS_MEDI\"].fillna(data_train[\"APARTMENTS_MEDI\"].mean(), inplace = True)"
      ],
      "metadata": {
        "id": "GYKIBMKoXNu3"
      },
      "execution_count": 109,
      "outputs": []
    },
    {
      "cell_type": "code",
      "source": [
        "data_train[\"BASEMENTAREA_MEDI\"].fillna(data_train[\"BASEMENTAREA_MEDI\"].mean(), inplace = True)"
      ],
      "metadata": {
        "id": "LxWFSXvFXSgX"
      },
      "execution_count": 110,
      "outputs": []
    },
    {
      "cell_type": "code",
      "source": [
        "data_train[\"YEARS_BEGINEXPLUATATION_MEDI\"].fillna(data_train[\"YEARS_BEGINEXPLUATATION_MEDI\"].mean(), inplace = True)"
      ],
      "metadata": {
        "id": "4FRdGuBiXh5a"
      },
      "execution_count": 111,
      "outputs": []
    },
    {
      "cell_type": "code",
      "source": [
        "data_train[\"YEARS_BUILD_MEDI\"].fillna(data_train[\"YEARS_BUILD_MEDI\"].mean(), inplace = True)"
      ],
      "metadata": {
        "id": "sKzMPb4aXyN_"
      },
      "execution_count": 112,
      "outputs": []
    },
    {
      "cell_type": "code",
      "source": [
        "data_train[\"COMMONAREA_MEDI\"].fillna(data_train[\"COMMONAREA_MEDI\"].mean(), inplace = True)"
      ],
      "metadata": {
        "id": "In7Rpif0X8UL"
      },
      "execution_count": 113,
      "outputs": []
    },
    {
      "cell_type": "code",
      "source": [
        "data_train[\"ELEVATORS_MEDI\"].fillna(data_train[\"ELEVATORS_MEDI\"].mean(), inplace = True)"
      ],
      "metadata": {
        "id": "PJI_yX1SYHRB"
      },
      "execution_count": 114,
      "outputs": []
    },
    {
      "cell_type": "code",
      "source": [
        "data_train[\"ENTRANCES_MEDI\"].fillna(data_train[\"ENTRANCES_MEDI\"].mean(), inplace = True)"
      ],
      "metadata": {
        "id": "PXslfHtiYR-w"
      },
      "execution_count": 115,
      "outputs": []
    },
    {
      "cell_type": "code",
      "source": [
        "data_train[\"FLOORSMAX_MEDI\"].fillna(data_train[\"FLOORSMAX_MEDI\"].mean(), inplace = True)"
      ],
      "metadata": {
        "id": "quWDNgkDYc8p"
      },
      "execution_count": 116,
      "outputs": []
    },
    {
      "cell_type": "code",
      "source": [
        "data_train[\"FLOORSMIN_MEDI\"].fillna(data_train[\"FLOORSMIN_MEDI\"].mean(), inplace = True)"
      ],
      "metadata": {
        "id": "58JEw2LmYtKe"
      },
      "execution_count": 117,
      "outputs": []
    },
    {
      "cell_type": "code",
      "source": [
        "data_train[\"LANDAREA_MEDI\"].fillna(data_train[\"LANDAREA_MEDI\"].mean(), inplace = True)"
      ],
      "metadata": {
        "id": "XiXD8s71YyJd"
      },
      "execution_count": 118,
      "outputs": []
    },
    {
      "cell_type": "code",
      "source": [
        "data_train[\"LIVINGAPARTMENTS_MEDI\"].fillna(data_train[\"LIVINGAPARTMENTS_MEDI\"].mean(), inplace = True)"
      ],
      "metadata": {
        "id": "vXtB1CMEZItL"
      },
      "execution_count": 119,
      "outputs": []
    },
    {
      "cell_type": "code",
      "source": [
        "data_train[\"LIVINGAREA_MEDI\"].fillna(data_train[\"LIVINGAREA_MEDI\"].mean(), inplace = True)"
      ],
      "metadata": {
        "id": "hbhY0uu8ZImH"
      },
      "execution_count": 120,
      "outputs": []
    },
    {
      "cell_type": "code",
      "source": [
        "data_train[\"NONLIVINGAPARTMENTS_MEDI\"].fillna(data_train[\"NONLIVINGAPARTMENTS_MEDI\"].mean(), inplace = True)"
      ],
      "metadata": {
        "id": "bQe-UAUSZeDd"
      },
      "execution_count": 121,
      "outputs": []
    },
    {
      "cell_type": "code",
      "source": [
        "data_train[\"NONLIVINGAREA_MEDI\"].fillna(data_train[\"NONLIVINGAREA_MEDI\"].mean(), inplace = True)"
      ],
      "metadata": {
        "id": "yo5YpcA0Zofd"
      },
      "execution_count": 122,
      "outputs": []
    },
    {
      "cell_type": "code",
      "source": [
        "data_train[\"FONDKAPREMONT_MODE\"].value_counts()"
      ],
      "metadata": {
        "colab": {
          "base_uri": "https://localhost:8080/"
        },
        "id": "9K1CjbhnZy00",
        "outputId": "6f03faae-d009-4188-f755-dd7007c6ae0e"
      },
      "execution_count": 123,
      "outputs": [
        {
          "output_type": "execute_result",
          "data": {
            "text/plain": [
              "reg oper account         73830\n",
              "reg oper spec account    12080\n",
              "not specified             5687\n",
              "org spec account          5619\n",
              "Name: FONDKAPREMONT_MODE, dtype: int64"
            ]
          },
          "metadata": {},
          "execution_count": 123
        }
      ]
    },
    {
      "cell_type": "code",
      "source": [
        "data_train['FONDKAPREMONT_MODE'] = data_train['FONDKAPREMONT_MODE'].fillna('Unknown')"
      ],
      "metadata": {
        "id": "-rjcSDnJZ9FS"
      },
      "execution_count": 124,
      "outputs": []
    },
    {
      "cell_type": "code",
      "source": [
        "data_train[\"HOUSETYPE_MODE\"].value_counts()"
      ],
      "metadata": {
        "colab": {
          "base_uri": "https://localhost:8080/"
        },
        "id": "c8cuC2QvaSvV",
        "outputId": "08e55fd4-bd19-48e3-9a80-8f363bffeab0"
      },
      "execution_count": 125,
      "outputs": [
        {
          "output_type": "execute_result",
          "data": {
            "text/plain": [
              "block of flats      150503\n",
              "specific housing      1499\n",
              "terraced house        1212\n",
              "Name: HOUSETYPE_MODE, dtype: int64"
            ]
          },
          "metadata": {},
          "execution_count": 125
        }
      ]
    },
    {
      "cell_type": "code",
      "source": [
        "data_train['HOUSETYPE_MODE'] = data_train['HOUSETYPE_MODE'].fillna('Unknown')"
      ],
      "metadata": {
        "id": "TsWOunReaXEx"
      },
      "execution_count": 126,
      "outputs": []
    },
    {
      "cell_type": "code",
      "source": [
        "data_train[\"TOTALAREA_MODE\"].fillna(data_train[\"TOTALAREA_MODE\"].mean(), inplace = True)"
      ],
      "metadata": {
        "id": "nZBhJ0VPao4_"
      },
      "execution_count": 127,
      "outputs": []
    },
    {
      "cell_type": "code",
      "source": [
        "data_train[\"WALLSMATERIAL_MODE\"].value_counts()"
      ],
      "metadata": {
        "colab": {
          "base_uri": "https://localhost:8080/"
        },
        "id": "qWyFhUC1a1ES",
        "outputId": "b5807c31-536c-4940-be14-be14f4946314"
      },
      "execution_count": 128,
      "outputs": [
        {
          "output_type": "execute_result",
          "data": {
            "text/plain": [
              "Panel           66040\n",
              "Stone, brick    64815\n",
              "Block            9253\n",
              "Wooden           5362\n",
              "Mixed            2296\n",
              "Monolithic       1779\n",
              "Others           1625\n",
              "Name: WALLSMATERIAL_MODE, dtype: int64"
            ]
          },
          "metadata": {},
          "execution_count": 128
        }
      ]
    },
    {
      "cell_type": "code",
      "source": [
        "data_train['WALLSMATERIAL_MODE'] = data_train['WALLSMATERIAL_MODE'].fillna('Unknown')"
      ],
      "metadata": {
        "id": "m49J5_ACa4QS"
      },
      "execution_count": 129,
      "outputs": []
    },
    {
      "cell_type": "code",
      "source": [
        "data_train['EMERGENCYSTATE_MODE'].value_counts()"
      ],
      "metadata": {
        "colab": {
          "base_uri": "https://localhost:8080/"
        },
        "id": "5jqogigetbOI",
        "outputId": "006dc927-8ea2-4d48-8bea-0538fad69af1"
      },
      "execution_count": 130,
      "outputs": [
        {
          "output_type": "execute_result",
          "data": {
            "text/plain": [
              "No     159428\n",
              "Yes      2328\n",
              "Name: EMERGENCYSTATE_MODE, dtype: int64"
            ]
          },
          "metadata": {},
          "execution_count": 130
        }
      ]
    },
    {
      "cell_type": "code",
      "source": [
        "data_train[\"OBS_30_CNT_SOCIAL_CIRCLE\"].fillna(data_train[\"OBS_30_CNT_SOCIAL_CIRCLE\"].mean(), inplace = True)"
      ],
      "metadata": {
        "id": "FBm-0xtItz39"
      },
      "execution_count": 131,
      "outputs": []
    },
    {
      "cell_type": "code",
      "source": [
        "data_train[\"DEF_60_CNT_SOCIAL_CIRCLE\"].fillna(data_train[\"DEF_60_CNT_SOCIAL_CIRCLE\"].mean(), inplace = True)"
      ],
      "metadata": {
        "id": "M__bCOXXua-s"
      },
      "execution_count": 132,
      "outputs": []
    },
    {
      "cell_type": "code",
      "source": [
        "data_train[\"DAYS_LAST_PHONE_CHANGE\"].fillna(data_train[\"DAYS_LAST_PHONE_CHANGE\"].mean(), inplace = True)"
      ],
      "metadata": {
        "id": "V9Rgmok6umba"
      },
      "execution_count": 133,
      "outputs": []
    },
    {
      "cell_type": "code",
      "source": [
        "data_train[\"AMT_REQ_CREDIT_BUREAU_YEAR\"].fillna(data_train[\"AMT_REQ_CREDIT_BUREAU_YEAR\"].mean(), inplace = True)"
      ],
      "metadata": {
        "id": "oZM4EHBYvBRp"
      },
      "execution_count": 134,
      "outputs": []
    },
    {
      "cell_type": "markdown",
      "source": [
        "####Application Test"
      ],
      "metadata": {
        "id": "wuQ1RlKSwLa9"
      }
    },
    {
      "cell_type": "code",
      "source": [
        "data_test.isnull().sum()"
      ],
      "metadata": {
        "colab": {
          "base_uri": "https://localhost:8080/"
        },
        "id": "jVbhCuBpwNsH",
        "outputId": "8468609b-9e1e-4c50-f90a-abb97c83c891"
      },
      "execution_count": 135,
      "outputs": [
        {
          "output_type": "execute_result",
          "data": {
            "text/plain": [
              "SK_ID_CURR                       0\n",
              "NAME_CONTRACT_TYPE               0\n",
              "CODE_GENDER                      0\n",
              "FLAG_OWN_CAR                     0\n",
              "FLAG_OWN_REALTY                  0\n",
              "                              ... \n",
              "AMT_REQ_CREDIT_BUREAU_DAY     6049\n",
              "AMT_REQ_CREDIT_BUREAU_WEEK    6049\n",
              "AMT_REQ_CREDIT_BUREAU_MON     6049\n",
              "AMT_REQ_CREDIT_BUREAU_QRT     6049\n",
              "AMT_REQ_CREDIT_BUREAU_YEAR    6049\n",
              "Length: 121, dtype: int64"
            ]
          },
          "metadata": {},
          "execution_count": 135
        }
      ]
    },
    {
      "cell_type": "code",
      "source": [
        "data_test[\"LIVINGAREA_MODE\"].isnull().sum()"
      ],
      "metadata": {
        "colab": {
          "base_uri": "https://localhost:8080/"
        },
        "id": "o54deG6jwYUD",
        "outputId": "b2fbbdf0-c56c-475f-e4e1-da1bd64ec8c8"
      },
      "execution_count": 263,
      "outputs": [
        {
          "output_type": "execute_result",
          "data": {
            "text/plain": [
              "0"
            ]
          },
          "metadata": {},
          "execution_count": 263
        }
      ]
    },
    {
      "cell_type": "code",
      "source": [
        "data_test[\"APARTMENTS_MODE\"].value_counts()"
      ],
      "metadata": {
        "colab": {
          "base_uri": "https://localhost:8080/"
        },
        "id": "qpaR3zLKxXdC",
        "outputId": "000b2423-d0ab-4428-dd80-c22785cef7af"
      },
      "execution_count": 228,
      "outputs": [
        {
          "output_type": "execute_result",
          "data": {
            "text/plain": [
              "0.0840    1230\n",
              "0.0630    1212\n",
              "0.0945     821\n",
              "0.0735     680\n",
              "0.0084     549\n",
              "          ... \n",
              "0.5966       1\n",
              "0.4695       1\n",
              "0.6660       1\n",
              "0.6796       1\n",
              "0.7279       1\n",
              "Name: APARTMENTS_MODE, Length: 636, dtype: int64"
            ]
          },
          "metadata": {},
          "execution_count": 228
        }
      ]
    },
    {
      "cell_type": "code",
      "source": [
        "data_test[\"LIVINGAREA_MODE\"].fillna(data_test['LIVINGAREA_MODE'].mean(), inplace = True)"
      ],
      "metadata": {
        "id": "wbEAcI-XxJL6"
      },
      "execution_count": 262,
      "outputs": []
    },
    {
      "cell_type": "code",
      "source": [
        "data_test['OCCUPATION_TYPE'] = data_test['OCCUPATION_TYPE'].fillna('Unknown')"
      ],
      "metadata": {
        "id": "jLy_uKNAxdPH"
      },
      "execution_count": 162,
      "outputs": []
    },
    {
      "cell_type": "code",
      "source": [
        "data_test[\"OWN_CAR_AGE\"].fillna(data_test['OWN_CAR_AGE'].mean(), inplace = True)"
      ],
      "metadata": {
        "id": "xHgnnrYfv9kc"
      },
      "execution_count": 151,
      "outputs": []
    },
    {
      "cell_type": "code",
      "source": [
        ""
      ],
      "metadata": {
        "id": "08R6duc8zPCV"
      },
      "execution_count": null,
      "outputs": []
    },
    {
      "cell_type": "markdown",
      "source": [
        "###Data Explore"
      ],
      "metadata": {
        "id": "j8iJJg9ezQVY"
      }
    },
    {
      "cell_type": "markdown",
      "source": [
        "####POS CASH Balance"
      ],
      "metadata": {
        "id": "dtC7EeVBzX47"
      }
    },
    {
      "cell_type": "markdown",
      "source": [
        "Mencari Monthly Balance POS (Point Of Selling) dan cashloans dari Customer Home Credit Indonesia"
      ],
      "metadata": {
        "id": "JzOUfu1O0Ik1"
      }
    },
    {
      "cell_type": "code",
      "source": [
        "#Importing the library\n",
        "import seaborn as sns\n",
        "import matplotlib.pyplot as plt"
      ],
      "metadata": {
        "id": "jgjovD8OzViM"
      },
      "execution_count": 272,
      "outputs": []
    },
    {
      "cell_type": "code",
      "source": [
        "data_pos = data_POS[['CNT_INSTALMENT_FUTURE','MONTHS_BALANCE','CNT_INSTALMENT','NAME_CONTRACT_STATUS']]\n",
        "data_pos.head()"
      ],
      "metadata": {
        "colab": {
          "base_uri": "https://localhost:8080/",
          "height": 206
        },
        "id": "FVvpX9DJ1uJZ",
        "outputId": "9ad30715-60db-4329-9f56-2c54cebe8b06"
      },
      "execution_count": 270,
      "outputs": [
        {
          "output_type": "execute_result",
          "data": {
            "text/plain": [
              "   CNT_INSTALMENT_FUTURE  MONTHS_BALANCE  CNT_INSTALMENT NAME_CONTRACT_STATUS\n",
              "0                   45.0             -31            48.0               Active\n",
              "1                   35.0             -33            36.0               Active\n",
              "2                    9.0             -32            12.0               Active\n",
              "3                   42.0             -35            48.0               Active\n",
              "4                   35.0             -35            36.0               Active"
            ],
            "text/html": [
              "\n",
              "  <div id=\"df-6f148bca-b632-446b-804d-b731a1c1823c\">\n",
              "    <div class=\"colab-df-container\">\n",
              "      <div>\n",
              "<style scoped>\n",
              "    .dataframe tbody tr th:only-of-type {\n",
              "        vertical-align: middle;\n",
              "    }\n",
              "\n",
              "    .dataframe tbody tr th {\n",
              "        vertical-align: top;\n",
              "    }\n",
              "\n",
              "    .dataframe thead th {\n",
              "        text-align: right;\n",
              "    }\n",
              "</style>\n",
              "<table border=\"1\" class=\"dataframe\">\n",
              "  <thead>\n",
              "    <tr style=\"text-align: right;\">\n",
              "      <th></th>\n",
              "      <th>CNT_INSTALMENT_FUTURE</th>\n",
              "      <th>MONTHS_BALANCE</th>\n",
              "      <th>CNT_INSTALMENT</th>\n",
              "      <th>NAME_CONTRACT_STATUS</th>\n",
              "    </tr>\n",
              "  </thead>\n",
              "  <tbody>\n",
              "    <tr>\n",
              "      <th>0</th>\n",
              "      <td>45.0</td>\n",
              "      <td>-31</td>\n",
              "      <td>48.0</td>\n",
              "      <td>Active</td>\n",
              "    </tr>\n",
              "    <tr>\n",
              "      <th>1</th>\n",
              "      <td>35.0</td>\n",
              "      <td>-33</td>\n",
              "      <td>36.0</td>\n",
              "      <td>Active</td>\n",
              "    </tr>\n",
              "    <tr>\n",
              "      <th>2</th>\n",
              "      <td>9.0</td>\n",
              "      <td>-32</td>\n",
              "      <td>12.0</td>\n",
              "      <td>Active</td>\n",
              "    </tr>\n",
              "    <tr>\n",
              "      <th>3</th>\n",
              "      <td>42.0</td>\n",
              "      <td>-35</td>\n",
              "      <td>48.0</td>\n",
              "      <td>Active</td>\n",
              "    </tr>\n",
              "    <tr>\n",
              "      <th>4</th>\n",
              "      <td>35.0</td>\n",
              "      <td>-35</td>\n",
              "      <td>36.0</td>\n",
              "      <td>Active</td>\n",
              "    </tr>\n",
              "  </tbody>\n",
              "</table>\n",
              "</div>\n",
              "      <button class=\"colab-df-convert\" onclick=\"convertToInteractive('df-6f148bca-b632-446b-804d-b731a1c1823c')\"\n",
              "              title=\"Convert this dataframe to an interactive table.\"\n",
              "              style=\"display:none;\">\n",
              "        \n",
              "  <svg xmlns=\"http://www.w3.org/2000/svg\" height=\"24px\"viewBox=\"0 0 24 24\"\n",
              "       width=\"24px\">\n",
              "    <path d=\"M0 0h24v24H0V0z\" fill=\"none\"/>\n",
              "    <path d=\"M18.56 5.44l.94 2.06.94-2.06 2.06-.94-2.06-.94-.94-2.06-.94 2.06-2.06.94zm-11 1L8.5 8.5l.94-2.06 2.06-.94-2.06-.94L8.5 2.5l-.94 2.06-2.06.94zm10 10l.94 2.06.94-2.06 2.06-.94-2.06-.94-.94-2.06-.94 2.06-2.06.94z\"/><path d=\"M17.41 7.96l-1.37-1.37c-.4-.4-.92-.59-1.43-.59-.52 0-1.04.2-1.43.59L10.3 9.45l-7.72 7.72c-.78.78-.78 2.05 0 2.83L4 21.41c.39.39.9.59 1.41.59.51 0 1.02-.2 1.41-.59l7.78-7.78 2.81-2.81c.8-.78.8-2.07 0-2.86zM5.41 20L4 18.59l7.72-7.72 1.47 1.35L5.41 20z\"/>\n",
              "  </svg>\n",
              "      </button>\n",
              "      \n",
              "  <style>\n",
              "    .colab-df-container {\n",
              "      display:flex;\n",
              "      flex-wrap:wrap;\n",
              "      gap: 12px;\n",
              "    }\n",
              "\n",
              "    .colab-df-convert {\n",
              "      background-color: #E8F0FE;\n",
              "      border: none;\n",
              "      border-radius: 50%;\n",
              "      cursor: pointer;\n",
              "      display: none;\n",
              "      fill: #1967D2;\n",
              "      height: 32px;\n",
              "      padding: 0 0 0 0;\n",
              "      width: 32px;\n",
              "    }\n",
              "\n",
              "    .colab-df-convert:hover {\n",
              "      background-color: #E2EBFA;\n",
              "      box-shadow: 0px 1px 2px rgba(60, 64, 67, 0.3), 0px 1px 3px 1px rgba(60, 64, 67, 0.15);\n",
              "      fill: #174EA6;\n",
              "    }\n",
              "\n",
              "    [theme=dark] .colab-df-convert {\n",
              "      background-color: #3B4455;\n",
              "      fill: #D2E3FC;\n",
              "    }\n",
              "\n",
              "    [theme=dark] .colab-df-convert:hover {\n",
              "      background-color: #434B5C;\n",
              "      box-shadow: 0px 1px 3px 1px rgba(0, 0, 0, 0.15);\n",
              "      filter: drop-shadow(0px 1px 2px rgba(0, 0, 0, 0.3));\n",
              "      fill: #FFFFFF;\n",
              "    }\n",
              "  </style>\n",
              "\n",
              "      <script>\n",
              "        const buttonEl =\n",
              "          document.querySelector('#df-6f148bca-b632-446b-804d-b731a1c1823c button.colab-df-convert');\n",
              "        buttonEl.style.display =\n",
              "          google.colab.kernel.accessAllowed ? 'block' : 'none';\n",
              "\n",
              "        async function convertToInteractive(key) {\n",
              "          const element = document.querySelector('#df-6f148bca-b632-446b-804d-b731a1c1823c');\n",
              "          const dataTable =\n",
              "            await google.colab.kernel.invokeFunction('convertToInteractive',\n",
              "                                                     [key], {});\n",
              "          if (!dataTable) return;\n",
              "\n",
              "          const docLinkHtml = 'Like what you see? Visit the ' +\n",
              "            '<a target=\"_blank\" href=https://colab.research.google.com/notebooks/data_table.ipynb>data table notebook</a>'\n",
              "            + ' to learn more about interactive tables.';\n",
              "          element.innerHTML = '';\n",
              "          dataTable['output_type'] = 'display_data';\n",
              "          await google.colab.output.renderOutput(dataTable, element);\n",
              "          const docLink = document.createElement('div');\n",
              "          docLink.innerHTML = docLinkHtml;\n",
              "          element.appendChild(docLink);\n",
              "        }\n",
              "      </script>\n",
              "    </div>\n",
              "  </div>\n",
              "  "
            ]
          },
          "metadata": {},
          "execution_count": 270
        }
      ]
    },
    {
      "cell_type": "code",
      "source": [
        "data_pos.corr()"
      ],
      "metadata": {
        "colab": {
          "base_uri": "https://localhost:8080/",
          "height": 143
        },
        "id": "_lSX14795USL",
        "outputId": "7fbb6e9a-7ad9-4b91-cd7a-cc48f486dc74"
      },
      "execution_count": 275,
      "outputs": [
        {
          "output_type": "execute_result",
          "data": {
            "text/plain": [
              "                       CNT_INSTALMENT_FUTURE  MONTHS_BALANCE  CNT_INSTALMENT\n",
              "CNT_INSTALMENT_FUTURE               1.000000        0.271381        0.871267\n",
              "MONTHS_BALANCE                      0.271381        1.000000        0.335900\n",
              "CNT_INSTALMENT                      0.871267        0.335900        1.000000"
            ],
            "text/html": [
              "\n",
              "  <div id=\"df-ca2005c7-5b4c-41b3-b120-6fa014f176ab\">\n",
              "    <div class=\"colab-df-container\">\n",
              "      <div>\n",
              "<style scoped>\n",
              "    .dataframe tbody tr th:only-of-type {\n",
              "        vertical-align: middle;\n",
              "    }\n",
              "\n",
              "    .dataframe tbody tr th {\n",
              "        vertical-align: top;\n",
              "    }\n",
              "\n",
              "    .dataframe thead th {\n",
              "        text-align: right;\n",
              "    }\n",
              "</style>\n",
              "<table border=\"1\" class=\"dataframe\">\n",
              "  <thead>\n",
              "    <tr style=\"text-align: right;\">\n",
              "      <th></th>\n",
              "      <th>CNT_INSTALMENT_FUTURE</th>\n",
              "      <th>MONTHS_BALANCE</th>\n",
              "      <th>CNT_INSTALMENT</th>\n",
              "    </tr>\n",
              "  </thead>\n",
              "  <tbody>\n",
              "    <tr>\n",
              "      <th>CNT_INSTALMENT_FUTURE</th>\n",
              "      <td>1.000000</td>\n",
              "      <td>0.271381</td>\n",
              "      <td>0.871267</td>\n",
              "    </tr>\n",
              "    <tr>\n",
              "      <th>MONTHS_BALANCE</th>\n",
              "      <td>0.271381</td>\n",
              "      <td>1.000000</td>\n",
              "      <td>0.335900</td>\n",
              "    </tr>\n",
              "    <tr>\n",
              "      <th>CNT_INSTALMENT</th>\n",
              "      <td>0.871267</td>\n",
              "      <td>0.335900</td>\n",
              "      <td>1.000000</td>\n",
              "    </tr>\n",
              "  </tbody>\n",
              "</table>\n",
              "</div>\n",
              "      <button class=\"colab-df-convert\" onclick=\"convertToInteractive('df-ca2005c7-5b4c-41b3-b120-6fa014f176ab')\"\n",
              "              title=\"Convert this dataframe to an interactive table.\"\n",
              "              style=\"display:none;\">\n",
              "        \n",
              "  <svg xmlns=\"http://www.w3.org/2000/svg\" height=\"24px\"viewBox=\"0 0 24 24\"\n",
              "       width=\"24px\">\n",
              "    <path d=\"M0 0h24v24H0V0z\" fill=\"none\"/>\n",
              "    <path d=\"M18.56 5.44l.94 2.06.94-2.06 2.06-.94-2.06-.94-.94-2.06-.94 2.06-2.06.94zm-11 1L8.5 8.5l.94-2.06 2.06-.94-2.06-.94L8.5 2.5l-.94 2.06-2.06.94zm10 10l.94 2.06.94-2.06 2.06-.94-2.06-.94-.94-2.06-.94 2.06-2.06.94z\"/><path d=\"M17.41 7.96l-1.37-1.37c-.4-.4-.92-.59-1.43-.59-.52 0-1.04.2-1.43.59L10.3 9.45l-7.72 7.72c-.78.78-.78 2.05 0 2.83L4 21.41c.39.39.9.59 1.41.59.51 0 1.02-.2 1.41-.59l7.78-7.78 2.81-2.81c.8-.78.8-2.07 0-2.86zM5.41 20L4 18.59l7.72-7.72 1.47 1.35L5.41 20z\"/>\n",
              "  </svg>\n",
              "      </button>\n",
              "      \n",
              "  <style>\n",
              "    .colab-df-container {\n",
              "      display:flex;\n",
              "      flex-wrap:wrap;\n",
              "      gap: 12px;\n",
              "    }\n",
              "\n",
              "    .colab-df-convert {\n",
              "      background-color: #E8F0FE;\n",
              "      border: none;\n",
              "      border-radius: 50%;\n",
              "      cursor: pointer;\n",
              "      display: none;\n",
              "      fill: #1967D2;\n",
              "      height: 32px;\n",
              "      padding: 0 0 0 0;\n",
              "      width: 32px;\n",
              "    }\n",
              "\n",
              "    .colab-df-convert:hover {\n",
              "      background-color: #E2EBFA;\n",
              "      box-shadow: 0px 1px 2px rgba(60, 64, 67, 0.3), 0px 1px 3px 1px rgba(60, 64, 67, 0.15);\n",
              "      fill: #174EA6;\n",
              "    }\n",
              "\n",
              "    [theme=dark] .colab-df-convert {\n",
              "      background-color: #3B4455;\n",
              "      fill: #D2E3FC;\n",
              "    }\n",
              "\n",
              "    [theme=dark] .colab-df-convert:hover {\n",
              "      background-color: #434B5C;\n",
              "      box-shadow: 0px 1px 3px 1px rgba(0, 0, 0, 0.15);\n",
              "      filter: drop-shadow(0px 1px 2px rgba(0, 0, 0, 0.3));\n",
              "      fill: #FFFFFF;\n",
              "    }\n",
              "  </style>\n",
              "\n",
              "      <script>\n",
              "        const buttonEl =\n",
              "          document.querySelector('#df-ca2005c7-5b4c-41b3-b120-6fa014f176ab button.colab-df-convert');\n",
              "        buttonEl.style.display =\n",
              "          google.colab.kernel.accessAllowed ? 'block' : 'none';\n",
              "\n",
              "        async function convertToInteractive(key) {\n",
              "          const element = document.querySelector('#df-ca2005c7-5b4c-41b3-b120-6fa014f176ab');\n",
              "          const dataTable =\n",
              "            await google.colab.kernel.invokeFunction('convertToInteractive',\n",
              "                                                     [key], {});\n",
              "          if (!dataTable) return;\n",
              "\n",
              "          const docLinkHtml = 'Like what you see? Visit the ' +\n",
              "            '<a target=\"_blank\" href=https://colab.research.google.com/notebooks/data_table.ipynb>data table notebook</a>'\n",
              "            + ' to learn more about interactive tables.';\n",
              "          element.innerHTML = '';\n",
              "          dataTable['output_type'] = 'display_data';\n",
              "          await google.colab.output.renderOutput(dataTable, element);\n",
              "          const docLink = document.createElement('div');\n",
              "          docLink.innerHTML = docLinkHtml;\n",
              "          element.appendChild(docLink);\n",
              "        }\n",
              "      </script>\n",
              "    </div>\n",
              "  </div>\n",
              "  "
            ]
          },
          "metadata": {},
          "execution_count": 275
        }
      ]
    },
    {
      "cell_type": "code",
      "source": [
        "plt.figure(figsize=(8,8))\n",
        "sns.heatmap(data_pos.corr(), annot=True, cmap=\"coolwarm\").set_title('Seaborn')"
      ],
      "metadata": {
        "colab": {
          "base_uri": "https://localhost:8080/",
          "height": 518
        },
        "id": "LQV_IxiP4l5e",
        "outputId": "692330a5-d68f-480a-a6f8-7a3b10818dec"
      },
      "execution_count": 276,
      "outputs": [
        {
          "output_type": "execute_result",
          "data": {
            "text/plain": [
              "Text(0.5, 1.0, 'Seaborn')"
            ]
          },
          "metadata": {},
          "execution_count": 276
        },
        {
          "output_type": "display_data",
          "data": {
            "text/plain": [
              "<Figure size 576x576 with 2 Axes>"
            ],
            "image/png": "[encoded data removed]"
          },
          "metadata": {
            "needs_background": "light"
          }
        }
      ]
    },
    {
      "cell_type": "markdown",
      "source": [
        "####Bureau"
      ],
      "metadata": {
        "id": "seavNNfw8uQ9"
      }
    },
    {
      "cell_type": "code",
      "source": [
        "data_bureau1 = data_bureau[['CREDIT_ACTIVE','CREDIT_CURRENCY','DAYS_CREDIT','CREDIT_DAY_OVERDUE','DAYS_CREDIT_ENDDATE','DAYS_ENDDATE_FACT','AMT_CREDIT_MAX_OVERDUE','CNT_CREDIT_PROLONG','AMT_CREDIT_SUM','AMT_CREDIT_SUM_DEBT','AMT_CREDIT_SUM_LIMIT','AMT_CREDIT_SUM_OVERDUE','CREDIT_TYPE','DAYS_CREDIT_UPDATE','AMT_ANNUITY']]\n",
        "data_bureau1.head()"
      ],
      "metadata": {
        "colab": {
          "base_uri": "https://localhost:8080/",
          "height": 322
        },
        "id": "UJPeuav69zYz",
        "outputId": "ded6e7fd-e841-4b39-a17c-4cf8bfd9948b"
      },
      "execution_count": 277,
      "outputs": [
        {
          "output_type": "execute_result",
          "data": {
            "text/plain": [
              "  CREDIT_ACTIVE CREDIT_CURRENCY  DAYS_CREDIT  CREDIT_DAY_OVERDUE  \\\n",
              "0        Closed      currency 1         -497                   0   \n",
              "1        Active      currency 1         -208                   0   \n",
              "2        Active      currency 1         -203                   0   \n",
              "3        Active      currency 1         -203                   0   \n",
              "4        Active      currency 1         -629                   0   \n",
              "\n",
              "   DAYS_CREDIT_ENDDATE  DAYS_ENDDATE_FACT  AMT_CREDIT_MAX_OVERDUE  \\\n",
              "0          -153.000000        -153.000000             3825.417661   \n",
              "1          1075.000000       -1017.437148             3825.417661   \n",
              "2           528.000000       -1017.437148             3825.417661   \n",
              "3           510.517362       -1017.437148             3825.417661   \n",
              "4          1197.000000       -1017.437148            77674.500000   \n",
              "\n",
              "   CNT_CREDIT_PROLONG  AMT_CREDIT_SUM  AMT_CREDIT_SUM_DEBT  \\\n",
              "0                   0         91323.0             0.000000   \n",
              "1                   0        225000.0        171342.000000   \n",
              "2                   0        464323.5        137085.119952   \n",
              "3                   0         90000.0        137085.119952   \n",
              "4                   0       2700000.0        137085.119952   \n",
              "\n",
              "   AMT_CREDIT_SUM_LIMIT  AMT_CREDIT_SUM_OVERDUE      CREDIT_TYPE  \\\n",
              "0            6229.51498                     0.0  Consumer credit   \n",
              "1            6229.51498                     0.0      Credit card   \n",
              "2            6229.51498                     0.0  Consumer credit   \n",
              "3            6229.51498                     0.0      Credit card   \n",
              "4            6229.51498                     0.0  Consumer credit   \n",
              "\n",
              "   DAYS_CREDIT_UPDATE  AMT_ANNUITY  \n",
              "0                -131   15712.7577  \n",
              "1                 -20   15712.7577  \n",
              "2                 -16   15712.7577  \n",
              "3                 -16   15712.7577  \n",
              "4                 -21   15712.7577  "
            ],
            "text/html": [
              "\n",
              "  <div id=\"df-792470d1-73d8-4217-bdd3-196f08fae5a6\">\n",
              "    <div class=\"colab-df-container\">\n",
              "      <div>\n",
              "<style scoped>\n",
              "    .dataframe tbody tr th:only-of-type {\n",
              "        vertical-align: middle;\n",
              "    }\n",
              "\n",
              "    .dataframe tbody tr th {\n",
              "        vertical-align: top;\n",
              "    }\n",
              "\n",
              "    .dataframe thead th {\n",
              "        text-align: right;\n",
              "    }\n",
              "</style>\n",
              "<table border=\"1\" class=\"dataframe\">\n",
              "  <thead>\n",
              "    <tr style=\"text-align: right;\">\n",
              "      <th></th>\n",
              "      <th>CREDIT_ACTIVE</th>\n",
              "      <th>CREDIT_CURRENCY</th>\n",
              "      <th>DAYS_CREDIT</th>\n",
              "      <th>CREDIT_DAY_OVERDUE</th>\n",
              "      <th>DAYS_CREDIT_ENDDATE</th>\n",
              "      <th>DAYS_ENDDATE_FACT</th>\n",
              "      <th>AMT_CREDIT_MAX_OVERDUE</th>\n",
              "      <th>CNT_CREDIT_PROLONG</th>\n",
              "      <th>AMT_CREDIT_SUM</th>\n",
              "      <th>AMT_CREDIT_SUM_DEBT</th>\n",
              "      <th>AMT_CREDIT_SUM_LIMIT</th>\n",
              "      <th>AMT_CREDIT_SUM_OVERDUE</th>\n",
              "      <th>CREDIT_TYPE</th>\n",
              "      <th>DAYS_CREDIT_UPDATE</th>\n",
              "      <th>AMT_ANNUITY</th>\n",
              "    </tr>\n",
              "  </thead>\n",
              "  <tbody>\n",
              "    <tr>\n",
              "      <th>0</th>\n",
              "      <td>Closed</td>\n",
              "      <td>currency 1</td>\n",
              "      <td>-497</td>\n",
              "      <td>0</td>\n",
              "      <td>-153.000000</td>\n",
              "      <td>-153.000000</td>\n",
              "      <td>3825.417661</td>\n",
              "      <td>0</td>\n",
              "      <td>91323.0</td>\n",
              "      <td>0.000000</td>\n",
              "      <td>6229.51498</td>\n",
              "      <td>0.0</td>\n",
              "      <td>Consumer credit</td>\n",
              "      <td>-131</td>\n",
              "      <td>15712.7577</td>\n",
              "    </tr>\n",
              "    <tr>\n",
              "      <th>1</th>\n",
              "      <td>Active</td>\n",
              "      <td>currency 1</td>\n",
              "      <td>-208</td>\n",
              "      <td>0</td>\n",
              "      <td>1075.000000</td>\n",
              "      <td>-1017.437148</td>\n",
              "      <td>3825.417661</td>\n",
              "      <td>0</td>\n",
              "      <td>225000.0</td>\n",
              "      <td>171342.000000</td>\n",
              "      <td>6229.51498</td>\n",
              "      <td>0.0</td>\n",
              "      <td>Credit card</td>\n",
              "      <td>-20</td>\n",
              "      <td>15712.7577</td>\n",
              "    </tr>\n",
              "    <tr>\n",
              "      <th>2</th>\n",
              "      <td>Active</td>\n",
              "      <td>currency 1</td>\n",
              "      <td>-203</td>\n",
              "      <td>0</td>\n",
              "      <td>528.000000</td>\n",
              "      <td>-1017.437148</td>\n",
              "      <td>3825.417661</td>\n",
              "      <td>0</td>\n",
              "      <td>464323.5</td>\n",
              "      <td>137085.119952</td>\n",
              "      <td>6229.51498</td>\n",
              "      <td>0.0</td>\n",
              "      <td>Consumer credit</td>\n",
              "      <td>-16</td>\n",
              "      <td>15712.7577</td>\n",
              "    </tr>\n",
              "    <tr>\n",
              "      <th>3</th>\n",
              "      <td>Active</td>\n",
              "      <td>currency 1</td>\n",
              "      <td>-203</td>\n",
              "      <td>0</td>\n",
              "      <td>510.517362</td>\n",
              "      <td>-1017.437148</td>\n",
              "      <td>3825.417661</td>\n",
              "      <td>0</td>\n",
              "      <td>90000.0</td>\n",
              "      <td>137085.119952</td>\n",
              "      <td>6229.51498</td>\n",
              "      <td>0.0</td>\n",
              "      <td>Credit card</td>\n",
              "      <td>-16</td>\n",
              "      <td>15712.7577</td>\n",
              "    </tr>\n",
              "    <tr>\n",
              "      <th>4</th>\n",
              "      <td>Active</td>\n",
              "      <td>currency 1</td>\n",
              "      <td>-629</td>\n",
              "      <td>0</td>\n",
              "      <td>1197.000000</td>\n",
              "      <td>-1017.437148</td>\n",
              "      <td>77674.500000</td>\n",
              "      <td>0</td>\n",
              "      <td>2700000.0</td>\n",
              "      <td>137085.119952</td>\n",
              "      <td>6229.51498</td>\n",
              "      <td>0.0</td>\n",
              "      <td>Consumer credit</td>\n",
              "      <td>-21</td>\n",
              "      <td>15712.7577</td>\n",
              "    </tr>\n",
              "  </tbody>\n",
              "</table>\n",
              "</div>\n",
              "      <button class=\"colab-df-convert\" onclick=\"convertToInteractive('df-792470d1-73d8-4217-bdd3-196f08fae5a6')\"\n",
              "              title=\"Convert this dataframe to an interactive table.\"\n",
              "              style=\"display:none;\">\n",
              "        \n",
              "  <svg xmlns=\"http://www.w3.org/2000/svg\" height=\"24px\"viewBox=\"0 0 24 24\"\n",
              "       width=\"24px\">\n",
              "    <path d=\"M0 0h24v24H0V0z\" fill=\"none\"/>\n",
              "    <path d=\"M18.56 5.44l.94 2.06.94-2.06 2.06-.94-2.06-.94-.94-2.06-.94 2.06-2.06.94zm-11 1L8.5 8.5l.94-2.06 2.06-.94-2.06-.94L8.5 2.5l-.94 2.06-2.06.94zm10 10l.94 2.06.94-2.06 2.06-.94-2.06-.94-.94-2.06-.94 2.06-2.06.94z\"/><path d=\"M17.41 7.96l-1.37-1.37c-.4-.4-.92-.59-1.43-.59-.52 0-1.04.2-1.43.59L10.3 9.45l-7.72 7.72c-.78.78-.78 2.05 0 2.83L4 21.41c.39.39.9.59 1.41.59.51 0 1.02-.2 1.41-.59l7.78-7.78 2.81-2.81c.8-.78.8-2.07 0-2.86zM5.41 20L4 18.59l7.72-7.72 1.47 1.35L5.41 20z\"/>\n",
              "  </svg>\n",
              "      </button>\n",
              "      \n",
              "  <style>\n",
              "    .colab-df-container {\n",
              "      display:flex;\n",
              "      flex-wrap:wrap;\n",
              "      gap: 12px;\n",
              "    }\n",
              "\n",
              "    .colab-df-convert {\n",
              "      background-color: #E8F0FE;\n",
              "      border: none;\n",
              "      border-radius: 50%;\n",
              "      cursor: pointer;\n",
              "      display: none;\n",
              "      fill: #1967D2;\n",
              "      height: 32px;\n",
              "      padding: 0 0 0 0;\n",
              "      width: 32px;\n",
              "    }\n",
              "\n",
              "    .colab-df-convert:hover {\n",
              "      background-color: #E2EBFA;\n",
              "      box-shadow: 0px 1px 2px rgba(60, 64, 67, 0.3), 0px 1px 3px 1px rgba(60, 64, 67, 0.15);\n",
              "      fill: #174EA6;\n",
              "    }\n",
              "\n",
              "    [theme=dark] .colab-df-convert {\n",
              "      background-color: #3B4455;\n",
              "      fill: #D2E3FC;\n",
              "    }\n",
              "\n",
              "    [theme=dark] .colab-df-convert:hover {\n",
              "      background-color: #434B5C;\n",
              "      box-shadow: 0px 1px 3px 1px rgba(0, 0, 0, 0.15);\n",
              "      filter: drop-shadow(0px 1px 2px rgba(0, 0, 0, 0.3));\n",
              "      fill: #FFFFFF;\n",
              "    }\n",
              "  </style>\n",
              "\n",
              "      <script>\n",
              "        const buttonEl =\n",
              "          document.querySelector('#df-792470d1-73d8-4217-bdd3-196f08fae5a6 button.colab-df-convert');\n",
              "        buttonEl.style.display =\n",
              "          google.colab.kernel.accessAllowed ? 'block' : 'none';\n",
              "\n",
              "        async function convertToInteractive(key) {\n",
              "          const element = document.querySelector('#df-792470d1-73d8-4217-bdd3-196f08fae5a6');\n",
              "          const dataTable =\n",
              "            await google.colab.kernel.invokeFunction('convertToInteractive',\n",
              "                                                     [key], {});\n",
              "          if (!dataTable) return;\n",
              "\n",
              "          const docLinkHtml = 'Like what you see? Visit the ' +\n",
              "            '<a target=\"_blank\" href=https://colab.research.google.com/notebooks/data_table.ipynb>data table notebook</a>'\n",
              "            + ' to learn more about interactive tables.';\n",
              "          element.innerHTML = '';\n",
              "          dataTable['output_type'] = 'display_data';\n",
              "          await google.colab.output.renderOutput(dataTable, element);\n",
              "          const docLink = document.createElement('div');\n",
              "          docLink.innerHTML = docLinkHtml;\n",
              "          element.appendChild(docLink);\n",
              "        }\n",
              "      </script>\n",
              "    </div>\n",
              "  </div>\n",
              "  "
            ]
          },
          "metadata": {},
          "execution_count": 277
        }
      ]
    },
    {
      "cell_type": "code",
      "source": [
        "data_bureau1.corr()"
      ],
      "metadata": {
        "colab": {
          "base_uri": "https://localhost:8080/",
          "height": 490
        },
        "id": "YxrD2Pfw-qJ3",
        "outputId": "c2b97e73-4b6e-436f-c646-b21c6159704b"
      },
      "execution_count": 278,
      "outputs": [
        {
          "output_type": "execute_result",
          "data": {
            "text/plain": [
              "                        DAYS_CREDIT  CREDIT_DAY_OVERDUE  DAYS_CREDIT_ENDDATE  \\\n",
              "DAYS_CREDIT                1.000000           -0.027266             0.219838   \n",
              "CREDIT_DAY_OVERDUE        -0.027266            1.000000            -0.007288   \n",
              "DAYS_CREDIT_ENDDATE        0.219838           -0.007288             1.000000   \n",
              "DAYS_ENDDATE_FACT          0.667831           -0.003954             0.121392   \n",
              "AMT_CREDIT_MAX_OVERDUE    -0.009007            0.000768             0.000191   \n",
              "CNT_CREDIT_PROLONG        -0.030460            0.002756             0.113298   \n",
              "AMT_CREDIT_SUM             0.050883           -0.003292             0.054194   \n",
              "AMT_CREDIT_SUM_DEBT        0.123523           -0.002033             0.076940   \n",
              "AMT_CREDIT_SUM_LIMIT       0.019978           -0.000285             0.053891   \n",
              "AMT_CREDIT_SUM_OVERDUE    -0.000383            0.090951             0.001054   \n",
              "DAYS_CREDIT_UPDATE         0.688771           -0.018461             0.244416   \n",
              "AMT_ANNUITY                0.002974           -0.000152             0.000263   \n",
              "\n",
              "                        DAYS_ENDDATE_FACT  AMT_CREDIT_MAX_OVERDUE  \\\n",
              "DAYS_CREDIT                      0.667831               -0.009007   \n",
              "CREDIT_DAY_OVERDUE              -0.003954                0.000768   \n",
              "DAYS_CREDIT_ENDDATE              0.121392                0.000191   \n",
              "DAYS_ENDDATE_FACT                1.000000                0.000637   \n",
              "AMT_CREDIT_MAX_OVERDUE           0.000637                1.000000   \n",
              "CNT_CREDIT_PROLONG               0.007051                0.001517   \n",
              "AMT_CREDIT_SUM                   0.042722                0.034186   \n",
              "AMT_CREDIT_SUM_DEBT              0.000711                0.001150   \n",
              "AMT_CREDIT_SUM_LIMIT             0.002215               -0.000710   \n",
              "AMT_CREDIT_SUM_OVERDUE          -0.000085                0.004589   \n",
              "DAYS_CREDIT_UPDATE               0.605661               -0.000554   \n",
              "AMT_ANNUITY                      0.002848                0.000320   \n",
              "\n",
              "                        CNT_CREDIT_PROLONG  AMT_CREDIT_SUM  \\\n",
              "DAYS_CREDIT                      -0.030460        0.050883   \n",
              "CREDIT_DAY_OVERDUE                0.002756       -0.003292   \n",
              "DAYS_CREDIT_ENDDATE               0.113298        0.054194   \n",
              "DAYS_ENDDATE_FACT                 0.007051        0.042722   \n",
              "AMT_CREDIT_MAX_OVERDUE            0.001517        0.034186   \n",
              "CNT_CREDIT_PROLONG                1.000000       -0.008345   \n",
              "AMT_CREDIT_SUM                   -0.008345        1.000000   \n",
              "AMT_CREDIT_SUM_DEBT              -0.001089        0.563441   \n",
              "AMT_CREDIT_SUM_LIMIT              0.058664        0.002713   \n",
              "AMT_CREDIT_SUM_OVERDUE            0.000002        0.006342   \n",
              "DAYS_CREDIT_UPDATE                0.017864        0.104628   \n",
              "AMT_ANNUITY                      -0.000239        0.023718   \n",
              "\n",
              "                        AMT_CREDIT_SUM_DEBT  AMT_CREDIT_SUM_LIMIT  \\\n",
              "DAYS_CREDIT                        0.123523              0.019978   \n",
              "CREDIT_DAY_OVERDUE                -0.002033             -0.000285   \n",
              "DAYS_CREDIT_ENDDATE                0.076940              0.053891   \n",
              "DAYS_ENDDATE_FACT                  0.000711              0.002215   \n",
              "AMT_CREDIT_MAX_OVERDUE             0.001150             -0.000710   \n",
              "CNT_CREDIT_PROLONG                -0.001089              0.058664   \n",
              "AMT_CREDIT_SUM                     0.563441              0.002713   \n",
              "AMT_CREDIT_SUM_DEBT                1.000000             -0.015631   \n",
              "AMT_CREDIT_SUM_LIMIT              -0.015631              1.000000   \n",
              "AMT_CREDIT_SUM_OVERDUE             0.007748             -0.000506   \n",
              "DAYS_CREDIT_UPDATE                 0.128372              0.037031   \n",
              "AMT_ANNUITY                        0.013328              0.001756   \n",
              "\n",
              "                        AMT_CREDIT_SUM_OVERDUE  DAYS_CREDIT_UPDATE  \\\n",
              "DAYS_CREDIT                          -0.000383            0.688771   \n",
              "CREDIT_DAY_OVERDUE                    0.090951           -0.018461   \n",
              "DAYS_CREDIT_ENDDATE                   0.001054            0.244416   \n",
              "DAYS_ENDDATE_FACT                    -0.000085            0.605661   \n",
              "AMT_CREDIT_MAX_OVERDUE                0.004589           -0.000554   \n",
              "CNT_CREDIT_PROLONG                    0.000002            0.017864   \n",
              "AMT_CREDIT_SUM                        0.006342            0.104628   \n",
              "AMT_CREDIT_SUM_DEBT                   0.007748            0.128372   \n",
              "AMT_CREDIT_SUM_LIMIT                 -0.000506            0.037031   \n",
              "AMT_CREDIT_SUM_OVERDUE                1.000000            0.003528   \n",
              "DAYS_CREDIT_UPDATE                    0.003528            1.000000   \n",
              "AMT_ANNUITY                           0.000093            0.003986   \n",
              "\n",
              "                        AMT_ANNUITY  \n",
              "DAYS_CREDIT                0.002974  \n",
              "CREDIT_DAY_OVERDUE        -0.000152  \n",
              "DAYS_CREDIT_ENDDATE        0.000263  \n",
              "DAYS_ENDDATE_FACT          0.002848  \n",
              "AMT_CREDIT_MAX_OVERDUE     0.000320  \n",
              "CNT_CREDIT_PROLONG        -0.000239  \n",
              "AMT_CREDIT_SUM             0.023718  \n",
              "AMT_CREDIT_SUM_DEBT        0.013328  \n",
              "AMT_CREDIT_SUM_LIMIT       0.001756  \n",
              "AMT_CREDIT_SUM_OVERDUE     0.000093  \n",
              "DAYS_CREDIT_UPDATE         0.003986  \n",
              "AMT_ANNUITY                1.000000  "
            ],
            "text/html": [
              "\n",
              "  <div id=\"df-49171901-5287-4c2d-a5b5-e58d4a05e384\">\n",
              "    <div class=\"colab-df-container\">\n",
              "      <div>\n",
              "<style scoped>\n",
              "    .dataframe tbody tr th:only-of-type {\n",
              "        vertical-align: middle;\n",
              "    }\n",
              "\n",
              "    .dataframe tbody tr th {\n",
              "        vertical-align: top;\n",
              "    }\n",
              "\n",
              "    .dataframe thead th {\n",
              "        text-align: right;\n",
              "    }\n",
              "</style>\n",
              "<table border=\"1\" class=\"dataframe\">\n",
              "  <thead>\n",
              "    <tr style=\"text-align: right;\">\n",
              "      <th></th>\n",
              "      <th>DAYS_CREDIT</th>\n",
              "      <th>CREDIT_DAY_OVERDUE</th>\n",
              "      <th>DAYS_CREDIT_ENDDATE</th>\n",
              "      <th>DAYS_ENDDATE_FACT</th>\n",
              "      <th>AMT_CREDIT_MAX_OVERDUE</th>\n",
              "      <th>CNT_CREDIT_PROLONG</th>\n",
              "      <th>AMT_CREDIT_SUM</th>\n",
              "      <th>AMT_CREDIT_SUM_DEBT</th>\n",
              "      <th>AMT_CREDIT_SUM_LIMIT</th>\n",
              "      <th>AMT_CREDIT_SUM_OVERDUE</th>\n",
              "      <th>DAYS_CREDIT_UPDATE</th>\n",
              "      <th>AMT_ANNUITY</th>\n",
              "    </tr>\n",
              "  </thead>\n",
              "  <tbody>\n",
              "    <tr>\n",
              "      <th>DAYS_CREDIT</th>\n",
              "      <td>1.000000</td>\n",
              "      <td>-0.027266</td>\n",
              "      <td>0.219838</td>\n",
              "      <td>0.667831</td>\n",
              "      <td>-0.009007</td>\n",
              "      <td>-0.030460</td>\n",
              "      <td>0.050883</td>\n",
              "      <td>0.123523</td>\n",
              "      <td>0.019978</td>\n",
              "      <td>-0.000383</td>\n",
              "      <td>0.688771</td>\n",
              "      <td>0.002974</td>\n",
              "    </tr>\n",
              "    <tr>\n",
              "      <th>CREDIT_DAY_OVERDUE</th>\n",
              "      <td>-0.027266</td>\n",
              "      <td>1.000000</td>\n",
              "      <td>-0.007288</td>\n",
              "      <td>-0.003954</td>\n",
              "      <td>0.000768</td>\n",
              "      <td>0.002756</td>\n",
              "      <td>-0.003292</td>\n",
              "      <td>-0.002033</td>\n",
              "      <td>-0.000285</td>\n",
              "      <td>0.090951</td>\n",
              "      <td>-0.018461</td>\n",
              "      <td>-0.000152</td>\n",
              "    </tr>\n",
              "    <tr>\n",
              "      <th>DAYS_CREDIT_ENDDATE</th>\n",
              "      <td>0.219838</td>\n",
              "      <td>-0.007288</td>\n",
              "      <td>1.000000</td>\n",
              "      <td>0.121392</td>\n",
              "      <td>0.000191</td>\n",
              "      <td>0.113298</td>\n",
              "      <td>0.054194</td>\n",
              "      <td>0.076940</td>\n",
              "      <td>0.053891</td>\n",
              "      <td>0.001054</td>\n",
              "      <td>0.244416</td>\n",
              "      <td>0.000263</td>\n",
              "    </tr>\n",
              "    <tr>\n",
              "      <th>DAYS_ENDDATE_FACT</th>\n",
              "      <td>0.667831</td>\n",
              "      <td>-0.003954</td>\n",
              "      <td>0.121392</td>\n",
              "      <td>1.000000</td>\n",
              "      <td>0.000637</td>\n",
              "      <td>0.007051</td>\n",
              "      <td>0.042722</td>\n",
              "      <td>0.000711</td>\n",
              "      <td>0.002215</td>\n",
              "      <td>-0.000085</td>\n",
              "      <td>0.605661</td>\n",
              "      <td>0.002848</td>\n",
              "    </tr>\n",
              "    <tr>\n",
              "      <th>AMT_CREDIT_MAX_OVERDUE</th>\n",
              "      <td>-0.009007</td>\n",
              "      <td>0.000768</td>\n",
              "      <td>0.000191</td>\n",
              "      <td>0.000637</td>\n",
              "      <td>1.000000</td>\n",
              "      <td>0.001517</td>\n",
              "      <td>0.034186</td>\n",
              "      <td>0.001150</td>\n",
              "      <td>-0.000710</td>\n",
              "      <td>0.004589</td>\n",
              "      <td>-0.000554</td>\n",
              "      <td>0.000320</td>\n",
              "    </tr>\n",
              "    <tr>\n",
              "      <th>CNT_CREDIT_PROLONG</th>\n",
              "      <td>-0.030460</td>\n",
              "      <td>0.002756</td>\n",
              "      <td>0.113298</td>\n",
              "      <td>0.007051</td>\n",
              "      <td>0.001517</td>\n",
              "      <td>1.000000</td>\n",
              "      <td>-0.008345</td>\n",
              "      <td>-0.001089</td>\n",
              "      <td>0.058664</td>\n",
              "      <td>0.000002</td>\n",
              "      <td>0.017864</td>\n",
              "      <td>-0.000239</td>\n",
              "    </tr>\n",
              "    <tr>\n",
              "      <th>AMT_CREDIT_SUM</th>\n",
              "      <td>0.050883</td>\n",
              "      <td>-0.003292</td>\n",
              "      <td>0.054194</td>\n",
              "      <td>0.042722</td>\n",
              "      <td>0.034186</td>\n",
              "      <td>-0.008345</td>\n",
              "      <td>1.000000</td>\n",
              "      <td>0.563441</td>\n",
              "      <td>0.002713</td>\n",
              "      <td>0.006342</td>\n",
              "      <td>0.104628</td>\n",
              "      <td>0.023718</td>\n",
              "    </tr>\n",
              "    <tr>\n",
              "      <th>AMT_CREDIT_SUM_DEBT</th>\n",
              "      <td>0.123523</td>\n",
              "      <td>-0.002033</td>\n",
              "      <td>0.076940</td>\n",
              "      <td>0.000711</td>\n",
              "      <td>0.001150</td>\n",
              "      <td>-0.001089</td>\n",
              "      <td>0.563441</td>\n",
              "      <td>1.000000</td>\n",
              "      <td>-0.015631</td>\n",
              "      <td>0.007748</td>\n",
              "      <td>0.128372</td>\n",
              "      <td>0.013328</td>\n",
              "    </tr>\n",
              "    <tr>\n",
              "      <th>AMT_CREDIT_SUM_LIMIT</th>\n",
              "      <td>0.019978</td>\n",
              "      <td>-0.000285</td>\n",
              "      <td>0.053891</td>\n",
              "      <td>0.002215</td>\n",
              "      <td>-0.000710</td>\n",
              "      <td>0.058664</td>\n",
              "      <td>0.002713</td>\n",
              "      <td>-0.015631</td>\n",
              "      <td>1.000000</td>\n",
              "      <td>-0.000506</td>\n",
              "      <td>0.037031</td>\n",
              "      <td>0.001756</td>\n",
              "    </tr>\n",
              "    <tr>\n",
              "      <th>AMT_CREDIT_SUM_OVERDUE</th>\n",
              "      <td>-0.000383</td>\n",
              "      <td>0.090951</td>\n",
              "      <td>0.001054</td>\n",
              "      <td>-0.000085</td>\n",
              "      <td>0.004589</td>\n",
              "      <td>0.000002</td>\n",
              "      <td>0.006342</td>\n",
              "      <td>0.007748</td>\n",
              "      <td>-0.000506</td>\n",
              "      <td>1.000000</td>\n",
              "      <td>0.003528</td>\n",
              "      <td>0.000093</td>\n",
              "    </tr>\n",
              "    <tr>\n",
              "      <th>DAYS_CREDIT_UPDATE</th>\n",
              "      <td>0.688771</td>\n",
              "      <td>-0.018461</td>\n",
              "      <td>0.244416</td>\n",
              "      <td>0.605661</td>\n",
              "      <td>-0.000554</td>\n",
              "      <td>0.017864</td>\n",
              "      <td>0.104628</td>\n",
              "      <td>0.128372</td>\n",
              "      <td>0.037031</td>\n",
              "      <td>0.003528</td>\n",
              "      <td>1.000000</td>\n",
              "      <td>0.003986</td>\n",
              "    </tr>\n",
              "    <tr>\n",
              "      <th>AMT_ANNUITY</th>\n",
              "      <td>0.002974</td>\n",
              "      <td>-0.000152</td>\n",
              "      <td>0.000263</td>\n",
              "      <td>0.002848</td>\n",
              "      <td>0.000320</td>\n",
              "      <td>-0.000239</td>\n",
              "      <td>0.023718</td>\n",
              "      <td>0.013328</td>\n",
              "      <td>0.001756</td>\n",
              "      <td>0.000093</td>\n",
              "      <td>0.003986</td>\n",
              "      <td>1.000000</td>\n",
              "    </tr>\n",
              "  </tbody>\n",
              "</table>\n",
              "</div>\n",
              "      <button class=\"colab-df-convert\" onclick=\"convertToInteractive('df-49171901-5287-4c2d-a5b5-e58d4a05e384')\"\n",
              "              title=\"Convert this dataframe to an interactive table.\"\n",
              "              style=\"display:none;\">\n",
              "        \n",
              "  <svg xmlns=\"http://www.w3.org/2000/svg\" height=\"24px\"viewBox=\"0 0 24 24\"\n",
              "       width=\"24px\">\n",
              "    <path d=\"M0 0h24v24H0V0z\" fill=\"none\"/>\n",
              "    <path d=\"M18.56 5.44l.94 2.06.94-2.06 2.06-.94-2.06-.94-.94-2.06-.94 2.06-2.06.94zm-11 1L8.5 8.5l.94-2.06 2.06-.94-2.06-.94L8.5 2.5l-.94 2.06-2.06.94zm10 10l.94 2.06.94-2.06 2.06-.94-2.06-.94-.94-2.06-.94 2.06-2.06.94z\"/><path d=\"M17.41 7.96l-1.37-1.37c-.4-.4-.92-.59-1.43-.59-.52 0-1.04.2-1.43.59L10.3 9.45l-7.72 7.72c-.78.78-.78 2.05 0 2.83L4 21.41c.39.39.9.59 1.41.59.51 0 1.02-.2 1.41-.59l7.78-7.78 2.81-2.81c.8-.78.8-2.07 0-2.86zM5.41 20L4 18.59l7.72-7.72 1.47 1.35L5.41 20z\"/>\n",
              "  </svg>\n",
              "      </button>\n",
              "      \n",
              "  <style>\n",
              "    .colab-df-container {\n",
              "      display:flex;\n",
              "      flex-wrap:wrap;\n",
              "      gap: 12px;\n",
              "    }\n",
              "\n",
              "    .colab-df-convert {\n",
              "      background-color: #E8F0FE;\n",
              "      border: none;\n",
              "      border-radius: 50%;\n",
              "      cursor: pointer;\n",
              "      display: none;\n",
              "      fill: #1967D2;\n",
              "      height: 32px;\n",
              "      padding: 0 0 0 0;\n",
              "      width: 32px;\n",
              "    }\n",
              "\n",
              "    .colab-df-convert:hover {\n",
              "      background-color: #E2EBFA;\n",
              "      box-shadow: 0px 1px 2px rgba(60, 64, 67, 0.3), 0px 1px 3px 1px rgba(60, 64, 67, 0.15);\n",
              "      fill: #174EA6;\n",
              "    }\n",
              "\n",
              "    [theme=dark] .colab-df-convert {\n",
              "      background-color: #3B4455;\n",
              "      fill: #D2E3FC;\n",
              "    }\n",
              "\n",
              "    [theme=dark] .colab-df-convert:hover {\n",
              "      background-color: #434B5C;\n",
              "      box-shadow: 0px 1px 3px 1px rgba(0, 0, 0, 0.15);\n",
              "      filter: drop-shadow(0px 1px 2px rgba(0, 0, 0, 0.3));\n",
              "      fill: #FFFFFF;\n",
              "    }\n",
              "  </style>\n",
              "\n",
              "      <script>\n",
              "        const buttonEl =\n",
              "          document.querySelector('#df-49171901-5287-4c2d-a5b5-e58d4a05e384 button.colab-df-convert');\n",
              "        buttonEl.style.display =\n",
              "          google.colab.kernel.accessAllowed ? 'block' : 'none';\n",
              "\n",
              "        async function convertToInteractive(key) {\n",
              "          const element = document.querySelector('#df-49171901-5287-4c2d-a5b5-e58d4a05e384');\n",
              "          const dataTable =\n",
              "            await google.colab.kernel.invokeFunction('convertToInteractive',\n",
              "                                                     [key], {});\n",
              "          if (!dataTable) return;\n",
              "\n",
              "          const docLinkHtml = 'Like what you see? Visit the ' +\n",
              "            '<a target=\"_blank\" href=https://colab.research.google.com/notebooks/data_table.ipynb>data table notebook</a>'\n",
              "            + ' to learn more about interactive tables.';\n",
              "          element.innerHTML = '';\n",
              "          dataTable['output_type'] = 'display_data';\n",
              "          await google.colab.output.renderOutput(dataTable, element);\n",
              "          const docLink = document.createElement('div');\n",
              "          docLink.innerHTML = docLinkHtml;\n",
              "          element.appendChild(docLink);\n",
              "        }\n",
              "      </script>\n",
              "    </div>\n",
              "  </div>\n",
              "  "
            ]
          },
          "metadata": {},
          "execution_count": 278
        }
      ]
    },
    {
      "cell_type": "code",
      "source": [
        "plt.figure(figsize=(8,8))\n",
        "sns.heatmap(data_bureau1.corr(), annot=True, cmap=\"coolwarm\").set_title('Seaborn')"
      ],
      "metadata": {
        "colab": {
          "base_uri": "https://localhost:8080/",
          "height": 651
        },
        "id": "isH0uAAO-sGt",
        "outputId": "e397f94f-d71d-4915-8ce4-896dffd0a3f0"
      },
      "execution_count": 279,
      "outputs": [
        {
          "output_type": "execute_result",
          "data": {
            "text/plain": [
              "Text(0.5, 1.0, 'Seaborn')"
            ]
          },
          "metadata": {},
          "execution_count": 279
        },
        {
          "output_type": "display_data",
          "data": {
            "text/plain": [
              "<Figure size 576x576 with 2 Axes>"
            ],
            "image/png": "[encoded data removed]"
          },
          "metadata": {
            "needs_background": "light"
          }
        }
      ]
    },
    {
      "cell_type": "markdown",
      "source": [
        "####Bureau Balance"
      ],
      "metadata": {
        "id": "KlCYHh69_TyH"
      }
    },
    {
      "cell_type": "code",
      "source": [
        "data_bureau_balance1 = data_bureau_balance[['MONTHS_BALANCE','STATUS']]\n",
        "data_bureau_balance1.head()"
      ],
      "metadata": {
        "colab": {
          "base_uri": "https://localhost:8080/",
          "height": 206
        },
        "id": "uXRkmmI5_Wxc",
        "outputId": "d6246442-b012-4b8f-ddf2-181ce96bb130"
      },
      "execution_count": 280,
      "outputs": [
        {
          "output_type": "execute_result",
          "data": {
            "text/plain": [
              "   MONTHS_BALANCE STATUS\n",
              "0               0      C\n",
              "1              -1      C\n",
              "2              -2      C\n",
              "3              -3      C\n",
              "4              -4      C"
            ],
            "text/html": [
              "\n",
              "  <div id=\"df-44d3dac3-d744-4b84-8f94-d08f887477f7\">\n",
              "    <div class=\"colab-df-container\">\n",
              "      <div>\n",
              "<style scoped>\n",
              "    .dataframe tbody tr th:only-of-type {\n",
              "        vertical-align: middle;\n",
              "    }\n",
              "\n",
              "    .dataframe tbody tr th {\n",
              "        vertical-align: top;\n",
              "    }\n",
              "\n",
              "    .dataframe thead th {\n",
              "        text-align: right;\n",
              "    }\n",
              "</style>\n",
              "<table border=\"1\" class=\"dataframe\">\n",
              "  <thead>\n",
              "    <tr style=\"text-align: right;\">\n",
              "      <th></th>\n",
              "      <th>MONTHS_BALANCE</th>\n",
              "      <th>STATUS</th>\n",
              "    </tr>\n",
              "  </thead>\n",
              "  <tbody>\n",
              "    <tr>\n",
              "      <th>0</th>\n",
              "      <td>0</td>\n",
              "      <td>C</td>\n",
              "    </tr>\n",
              "    <tr>\n",
              "      <th>1</th>\n",
              "      <td>-1</td>\n",
              "      <td>C</td>\n",
              "    </tr>\n",
              "    <tr>\n",
              "      <th>2</th>\n",
              "      <td>-2</td>\n",
              "      <td>C</td>\n",
              "    </tr>\n",
              "    <tr>\n",
              "      <th>3</th>\n",
              "      <td>-3</td>\n",
              "      <td>C</td>\n",
              "    </tr>\n",
              "    <tr>\n",
              "      <th>4</th>\n",
              "      <td>-4</td>\n",
              "      <td>C</td>\n",
              "    </tr>\n",
              "  </tbody>\n",
              "</table>\n",
              "</div>\n",
              "      <button class=\"colab-df-convert\" onclick=\"convertToInteractive('df-44d3dac3-d744-4b84-8f94-d08f887477f7')\"\n",
              "              title=\"Convert this dataframe to an interactive table.\"\n",
              "              style=\"display:none;\">\n",
              "        \n",
              "  <svg xmlns=\"http://www.w3.org/2000/svg\" height=\"24px\"viewBox=\"0 0 24 24\"\n",
              "       width=\"24px\">\n",
              "    <path d=\"M0 0h24v24H0V0z\" fill=\"none\"/>\n",
              "    <path d=\"M18.56 5.44l.94 2.06.94-2.06 2.06-.94-2.06-.94-.94-2.06-.94 2.06-2.06.94zm-11 1L8.5 8.5l.94-2.06 2.06-.94-2.06-.94L8.5 2.5l-.94 2.06-2.06.94zm10 10l.94 2.06.94-2.06 2.06-.94-2.06-.94-.94-2.06-.94 2.06-2.06.94z\"/><path d=\"M17.41 7.96l-1.37-1.37c-.4-.4-.92-.59-1.43-.59-.52 0-1.04.2-1.43.59L10.3 9.45l-7.72 7.72c-.78.78-.78 2.05 0 2.83L4 21.41c.39.39.9.59 1.41.59.51 0 1.02-.2 1.41-.59l7.78-7.78 2.81-2.81c.8-.78.8-2.07 0-2.86zM5.41 20L4 18.59l7.72-7.72 1.47 1.35L5.41 20z\"/>\n",
              "  </svg>\n",
              "      </button>\n",
              "      \n",
              "  <style>\n",
              "    .colab-df-container {\n",
              "      display:flex;\n",
              "      flex-wrap:wrap;\n",
              "      gap: 12px;\n",
              "    }\n",
              "\n",
              "    .colab-df-convert {\n",
              "      background-color: #E8F0FE;\n",
              "      border: none;\n",
              "      border-radius: 50%;\n",
              "      cursor: pointer;\n",
              "      display: none;\n",
              "      fill: #1967D2;\n",
              "      height: 32px;\n",
              "      padding: 0 0 0 0;\n",
              "      width: 32px;\n",
              "    }\n",
              "\n",
              "    .colab-df-convert:hover {\n",
              "      background-color: #E2EBFA;\n",
              "      box-shadow: 0px 1px 2px rgba(60, 64, 67, 0.3), 0px 1px 3px 1px rgba(60, 64, 67, 0.15);\n",
              "      fill: #174EA6;\n",
              "    }\n",
              "\n",
              "    [theme=dark] .colab-df-convert {\n",
              "      background-color: #3B4455;\n",
              "      fill: #D2E3FC;\n",
              "    }\n",
              "\n",
              "    [theme=dark] .colab-df-convert:hover {\n",
              "      background-color: #434B5C;\n",
              "      box-shadow: 0px 1px 3px 1px rgba(0, 0, 0, 0.15);\n",
              "      filter: drop-shadow(0px 1px 2px rgba(0, 0, 0, 0.3));\n",
              "      fill: #FFFFFF;\n",
              "    }\n",
              "  </style>\n",
              "\n",
              "      <script>\n",
              "        const buttonEl =\n",
              "          document.querySelector('#df-44d3dac3-d744-4b84-8f94-d08f887477f7 button.colab-df-convert');\n",
              "        buttonEl.style.display =\n",
              "          google.colab.kernel.accessAllowed ? 'block' : 'none';\n",
              "\n",
              "        async function convertToInteractive(key) {\n",
              "          const element = document.querySelector('#df-44d3dac3-d744-4b84-8f94-d08f887477f7');\n",
              "          const dataTable =\n",
              "            await google.colab.kernel.invokeFunction('convertToInteractive',\n",
              "                                                     [key], {});\n",
              "          if (!dataTable) return;\n",
              "\n",
              "          const docLinkHtml = 'Like what you see? Visit the ' +\n",
              "            '<a target=\"_blank\" href=https://colab.research.google.com/notebooks/data_table.ipynb>data table notebook</a>'\n",
              "            + ' to learn more about interactive tables.';\n",
              "          element.innerHTML = '';\n",
              "          dataTable['output_type'] = 'display_data';\n",
              "          await google.colab.output.renderOutput(dataTable, element);\n",
              "          const docLink = document.createElement('div');\n",
              "          docLink.innerHTML = docLinkHtml;\n",
              "          element.appendChild(docLink);\n",
              "        }\n",
              "      </script>\n",
              "    </div>\n",
              "  </div>\n",
              "  "
            ]
          },
          "metadata": {},
          "execution_count": 280
        }
      ]
    },
    {
      "cell_type": "code",
      "source": [
        "data_bureau_balance1.plot.scatter(x='STATUS', y='MONTHS_BALANCE')"
      ],
      "metadata": {
        "colab": {
          "base_uri": "https://localhost:8080/",
          "height": 297
        },
        "id": "Wy_QMiflBGlz",
        "outputId": "66fd60b9-5822-4db0-a432-5a80d6e880aa"
      },
      "execution_count": 281,
      "outputs": [
        {
          "output_type": "execute_result",
          "data": {
            "text/plain": [
              "<matplotlib.axes._subplots.AxesSubplot at 0x7f4e4e43c510>"
            ]
          },
          "metadata": {},
          "execution_count": 281
        },
        {
          "output_type": "display_data",
          "data": {
            "text/plain": [
              "<Figure size 432x288 with 1 Axes>"
            ],
            "image/png": "[encoded data removed]"
          },
          "metadata": {
            "needs_background": "light"
          }
        }
      ]
    },
    {
      "cell_type": "markdown",
      "source": [
        "####Credict Card Balance"
      ],
      "metadata": {
        "id": "ls6t8v9FBkmz"
      }
    },
    {
      "cell_type": "code",
      "source": [
        "data_credit_card_balance1 = data_credit_card_balance[['MONTHS_BALANCE','AMT_BALANCE','AMT_CREDIT_LIMIT_ACTUAL','AMT_DRAWINGS_ATM_CURRENT','AMT_DRAWINGS_ATM_CURRENT','AMT_DRAWINGS_CURRENT','AMT_DRAWINGS_OTHER_CURRENT','AMT_DRAWINGS_POS_CURRENT','AMT_INST_MIN_REGULARITY','AMT_PAYMENT_CURRENT','AMT_PAYMENT_TOTAL_CURRENT','AMT_RECEIVABLE_PRINCIPAL','AMT_RECIVABLE','AMT_TOTAL_RECEIVABLE']]\n",
        "data_credit_card_balance1.head()"
      ],
      "metadata": {
        "colab": {
          "base_uri": "https://localhost:8080/",
          "height": 270
        },
        "id": "Y_jTQWbTBmt9",
        "outputId": "064dc4ae-609a-43af-8242-2b726d2b5555"
      },
      "execution_count": 282,
      "outputs": [
        {
          "output_type": "execute_result",
          "data": {
            "text/plain": [
              "   MONTHS_BALANCE  AMT_BALANCE  AMT_CREDIT_LIMIT_ACTUAL  \\\n",
              "0              -6       56.970                   135000   \n",
              "1              -1    63975.555                    45000   \n",
              "2              -7    31815.225                   450000   \n",
              "3              -4   236572.110                   225000   \n",
              "4              -1   453919.455                   450000   \n",
              "\n",
              "   AMT_DRAWINGS_ATM_CURRENT  AMT_DRAWINGS_ATM_CURRENT  AMT_DRAWINGS_CURRENT  \\\n",
              "0                       0.0                       0.0                 877.5   \n",
              "1                    2250.0                    2250.0                2250.0   \n",
              "2                       0.0                       0.0                   0.0   \n",
              "3                    2250.0                    2250.0                2250.0   \n",
              "4                       0.0                       0.0               11547.0   \n",
              "\n",
              "   AMT_DRAWINGS_OTHER_CURRENT  AMT_DRAWINGS_POS_CURRENT  \\\n",
              "0                         0.0                     877.5   \n",
              "1                         0.0                       0.0   \n",
              "2                         0.0                       0.0   \n",
              "3                         0.0                       0.0   \n",
              "4                         0.0                   11547.0   \n",
              "\n",
              "   AMT_INST_MIN_REGULARITY  AMT_PAYMENT_CURRENT  AMT_PAYMENT_TOTAL_CURRENT  \\\n",
              "0                 1700.325               1800.0                     1800.0   \n",
              "1                 2250.000               2250.0                     2250.0   \n",
              "2                 2250.000               2250.0                     2250.0   \n",
              "3                11795.760              11925.0                    11925.0   \n",
              "4                22924.890              27000.0                    27000.0   \n",
              "\n",
              "   AMT_RECEIVABLE_PRINCIPAL  AMT_RECIVABLE  AMT_TOTAL_RECEIVABLE  \n",
              "0                     0.000          0.000                 0.000  \n",
              "1                 60175.080      64875.555             64875.555  \n",
              "2                 26926.425      31460.085             31460.085  \n",
              "3                224949.285     233048.970            233048.970  \n",
              "4                443044.395     453919.455            453919.455  "
            ],
            "text/html": [
              "\n",
              "  <div id=\"df-59f561d0-002a-4318-8258-49b43a97545f\">\n",
              "    <div class=\"colab-df-container\">\n",
              "      <div>\n",
              "<style scoped>\n",
              "    .dataframe tbody tr th:only-of-type {\n",
              "        vertical-align: middle;\n",
              "    }\n",
              "\n",
              "    .dataframe tbody tr th {\n",
              "        vertical-align: top;\n",
              "    }\n",
              "\n",
              "    .dataframe thead th {\n",
              "        text-align: right;\n",
              "    }\n",
              "</style>\n",
              "<table border=\"1\" class=\"dataframe\">\n",
              "  <thead>\n",
              "    <tr style=\"text-align: right;\">\n",
              "      <th></th>\n",
              "      <th>MONTHS_BALANCE</th>\n",
              "      <th>AMT_BALANCE</th>\n",
              "      <th>AMT_CREDIT_LIMIT_ACTUAL</th>\n",
              "      <th>AMT_DRAWINGS_ATM_CURRENT</th>\n",
              "      <th>AMT_DRAWINGS_ATM_CURRENT</th>\n",
              "      <th>AMT_DRAWINGS_CURRENT</th>\n",
              "      <th>AMT_DRAWINGS_OTHER_CURRENT</th>\n",
              "      <th>AMT_DRAWINGS_POS_CURRENT</th>\n",
              "      <th>AMT_INST_MIN_REGULARITY</th>\n",
              "      <th>AMT_PAYMENT_CURRENT</th>\n",
              "      <th>AMT_PAYMENT_TOTAL_CURRENT</th>\n",
              "      <th>AMT_RECEIVABLE_PRINCIPAL</th>\n",
              "      <th>AMT_RECIVABLE</th>\n",
              "      <th>AMT_TOTAL_RECEIVABLE</th>\n",
              "    </tr>\n",
              "  </thead>\n",
              "  <tbody>\n",
              "    <tr>\n",
              "      <th>0</th>\n",
              "      <td>-6</td>\n",
              "      <td>56.970</td>\n",
              "      <td>135000</td>\n",
              "      <td>0.0</td>\n",
              "      <td>0.0</td>\n",
              "      <td>877.5</td>\n",
              "      <td>0.0</td>\n",
              "      <td>877.5</td>\n",
              "      <td>1700.325</td>\n",
              "      <td>1800.0</td>\n",
              "      <td>1800.0</td>\n",
              "      <td>0.000</td>\n",
              "      <td>0.000</td>\n",
              "      <td>0.000</td>\n",
              "    </tr>\n",
              "    <tr>\n",
              "      <th>1</th>\n",
              "      <td>-1</td>\n",
              "      <td>63975.555</td>\n",
              "      <td>45000</td>\n",
              "      <td>2250.0</td>\n",
              "      <td>2250.0</td>\n",
              "      <td>2250.0</td>\n",
              "      <td>0.0</td>\n",
              "      <td>0.0</td>\n",
              "      <td>2250.000</td>\n",
              "      <td>2250.0</td>\n",
              "      <td>2250.0</td>\n",
              "      <td>60175.080</td>\n",
              "      <td>64875.555</td>\n",
              "      <td>64875.555</td>\n",
              "    </tr>\n",
              "    <tr>\n",
              "      <th>2</th>\n",
              "      <td>-7</td>\n",
              "      <td>31815.225</td>\n",
              "      <td>450000</td>\n",
              "      <td>0.0</td>\n",
              "      <td>0.0</td>\n",
              "      <td>0.0</td>\n",
              "      <td>0.0</td>\n",
              "      <td>0.0</td>\n",
              "      <td>2250.000</td>\n",
              "      <td>2250.0</td>\n",
              "      <td>2250.0</td>\n",
              "      <td>26926.425</td>\n",
              "      <td>31460.085</td>\n",
              "      <td>31460.085</td>\n",
              "    </tr>\n",
              "    <tr>\n",
              "      <th>3</th>\n",
              "      <td>-4</td>\n",
              "      <td>236572.110</td>\n",
              "      <td>225000</td>\n",
              "      <td>2250.0</td>\n",
              "      <td>2250.0</td>\n",
              "      <td>2250.0</td>\n",
              "      <td>0.0</td>\n",
              "      <td>0.0</td>\n",
              "      <td>11795.760</td>\n",
              "      <td>11925.0</td>\n",
              "      <td>11925.0</td>\n",
              "      <td>224949.285</td>\n",
              "      <td>233048.970</td>\n",
              "      <td>233048.970</td>\n",
              "    </tr>\n",
              "    <tr>\n",
              "      <th>4</th>\n",
              "      <td>-1</td>\n",
              "      <td>453919.455</td>\n",
              "      <td>450000</td>\n",
              "      <td>0.0</td>\n",
              "      <td>0.0</td>\n",
              "      <td>11547.0</td>\n",
              "      <td>0.0</td>\n",
              "      <td>11547.0</td>\n",
              "      <td>22924.890</td>\n",
              "      <td>27000.0</td>\n",
              "      <td>27000.0</td>\n",
              "      <td>443044.395</td>\n",
              "      <td>453919.455</td>\n",
              "      <td>453919.455</td>\n",
              "    </tr>\n",
              "  </tbody>\n",
              "</table>\n",
              "</div>\n",
              "      <button class=\"colab-df-convert\" onclick=\"convertToInteractive('df-59f561d0-002a-4318-8258-49b43a97545f')\"\n",
              "              title=\"Convert this dataframe to an interactive table.\"\n",
              "              style=\"display:none;\">\n",
              "        \n",
              "  <svg xmlns=\"http://www.w3.org/2000/svg\" height=\"24px\"viewBox=\"0 0 24 24\"\n",
              "       width=\"24px\">\n",
              "    <path d=\"M0 0h24v24H0V0z\" fill=\"none\"/>\n",
              "    <path d=\"M18.56 5.44l.94 2.06.94-2.06 2.06-.94-2.06-.94-.94-2.06-.94 2.06-2.06.94zm-11 1L8.5 8.5l.94-2.06 2.06-.94-2.06-.94L8.5 2.5l-.94 2.06-2.06.94zm10 10l.94 2.06.94-2.06 2.06-.94-2.06-.94-.94-2.06-.94 2.06-2.06.94z\"/><path d=\"M17.41 7.96l-1.37-1.37c-.4-.4-.92-.59-1.43-.59-.52 0-1.04.2-1.43.59L10.3 9.45l-7.72 7.72c-.78.78-.78 2.05 0 2.83L4 21.41c.39.39.9.59 1.41.59.51 0 1.02-.2 1.41-.59l7.78-7.78 2.81-2.81c.8-.78.8-2.07 0-2.86zM5.41 20L4 18.59l7.72-7.72 1.47 1.35L5.41 20z\"/>\n",
              "  </svg>\n",
              "      </button>\n",
              "      \n",
              "  <style>\n",
              "    .colab-df-container {\n",
              "      display:flex;\n",
              "      flex-wrap:wrap;\n",
              "      gap: 12px;\n",
              "    }\n",
              "\n",
              "    .colab-df-convert {\n",
              "      background-color: #E8F0FE;\n",
              "      border: none;\n",
              "      border-radius: 50%;\n",
              "      cursor: pointer;\n",
              "      display: none;\n",
              "      fill: #1967D2;\n",
              "      height: 32px;\n",
              "      padding: 0 0 0 0;\n",
              "      width: 32px;\n",
              "    }\n",
              "\n",
              "    .colab-df-convert:hover {\n",
              "      background-color: #E2EBFA;\n",
              "      box-shadow: 0px 1px 2px rgba(60, 64, 67, 0.3), 0px 1px 3px 1px rgba(60, 64, 67, 0.15);\n",
              "      fill: #174EA6;\n",
              "    }\n",
              "\n",
              "    [theme=dark] .colab-df-convert {\n",
              "      background-color: #3B4455;\n",
              "      fill: #D2E3FC;\n",
              "    }\n",
              "\n",
              "    [theme=dark] .colab-df-convert:hover {\n",
              "      background-color: #434B5C;\n",
              "      box-shadow: 0px 1px 3px 1px rgba(0, 0, 0, 0.15);\n",
              "      filter: drop-shadow(0px 1px 2px rgba(0, 0, 0, 0.3));\n",
              "      fill: #FFFFFF;\n",
              "    }\n",
              "  </style>\n",
              "\n",
              "      <script>\n",
              "        const buttonEl =\n",
              "          document.querySelector('#df-59f561d0-002a-4318-8258-49b43a97545f button.colab-df-convert');\n",
              "        buttonEl.style.display =\n",
              "          google.colab.kernel.accessAllowed ? 'block' : 'none';\n",
              "\n",
              "        async function convertToInteractive(key) {\n",
              "          const element = document.querySelector('#df-59f561d0-002a-4318-8258-49b43a97545f');\n",
              "          const dataTable =\n",
              "            await google.colab.kernel.invokeFunction('convertToInteractive',\n",
              "                                                     [key], {});\n",
              "          if (!dataTable) return;\n",
              "\n",
              "          const docLinkHtml = 'Like what you see? Visit the ' +\n",
              "            '<a target=\"_blank\" href=https://colab.research.google.com/notebooks/data_table.ipynb>data table notebook</a>'\n",
              "            + ' to learn more about interactive tables.';\n",
              "          element.innerHTML = '';\n",
              "          dataTable['output_type'] = 'display_data';\n",
              "          await google.colab.output.renderOutput(dataTable, element);\n",
              "          const docLink = document.createElement('div');\n",
              "          docLink.innerHTML = docLinkHtml;\n",
              "          element.appendChild(docLink);\n",
              "        }\n",
              "      </script>\n",
              "    </div>\n",
              "  </div>\n",
              "  "
            ]
          },
          "metadata": {},
          "execution_count": 282
        }
      ]
    },
    {
      "cell_type": "code",
      "source": [
        "data_credit_card_balance1.corr()"
      ],
      "metadata": {
        "colab": {
          "base_uri": "https://localhost:8080/",
          "height": 553
        },
        "id": "e247jBiPB01R",
        "outputId": "c9e8e1fd-195e-4722-96bb-ce53fefbc3f0"
      },
      "execution_count": 283,
      "outputs": [
        {
          "output_type": "execute_result",
          "data": {
            "text/plain": [
              "                            MONTHS_BALANCE  AMT_BALANCE  \\\n",
              "MONTHS_BALANCE                    1.000000     0.014558   \n",
              "AMT_BALANCE                       0.014558     1.000000   \n",
              "AMT_CREDIT_LIMIT_ACTUAL           0.199900     0.489386   \n",
              "AMT_DRAWINGS_ATM_CURRENT          0.033207     0.273009   \n",
              "AMT_DRAWINGS_ATM_CURRENT          0.033207     0.273009   \n",
              "AMT_DRAWINGS_CURRENT              0.065527     0.336965   \n",
              "AMT_DRAWINGS_OTHER_CURRENT        0.000365     0.062936   \n",
              "AMT_DRAWINGS_POS_CURRENT          0.106605     0.163149   \n",
              "AMT_INST_MIN_REGULARITY          -0.083314     0.882768   \n",
              "AMT_PAYMENT_CURRENT               0.069226     0.137779   \n",
              "AMT_PAYMENT_TOTAL_CURRENT         0.035614     0.151349   \n",
              "AMT_RECEIVABLE_PRINCIPAL          0.016266     0.999720   \n",
              "AMT_RECIVABLE                     0.013172     0.999917   \n",
              "AMT_TOTAL_RECEIVABLE              0.013084     0.999897   \n",
              "\n",
              "                            AMT_CREDIT_LIMIT_ACTUAL  AMT_DRAWINGS_ATM_CURRENT  \\\n",
              "MONTHS_BALANCE                             0.199900                  0.033207   \n",
              "AMT_BALANCE                                0.489386                  0.273009   \n",
              "AMT_CREDIT_LIMIT_ACTUAL                    1.000000                  0.204340   \n",
              "AMT_DRAWINGS_ATM_CURRENT                   0.204340                  1.000000   \n",
              "AMT_DRAWINGS_ATM_CURRENT                   0.204340                  1.000000   \n",
              "AMT_DRAWINGS_CURRENT                       0.263093                  0.795494   \n",
              "AMT_DRAWINGS_OTHER_CURRENT                 0.041806                  0.017899   \n",
              "AMT_DRAWINGS_POS_CURRENT                   0.194220                  0.078971   \n",
              "AMT_INST_MIN_REGULARITY                    0.453109                  0.081195   \n",
              "AMT_PAYMENT_CURRENT                        0.249290                  0.171215   \n",
              "AMT_PAYMENT_TOTAL_CURRENT                  0.226570                  0.157960   \n",
              "AMT_RECEIVABLE_PRINCIPAL                   0.490445                  0.270077   \n",
              "AMT_RECIVABLE                              0.488641                  0.267953   \n",
              "AMT_TOTAL_RECEIVABLE                       0.488598                  0.267921   \n",
              "\n",
              "                            AMT_DRAWINGS_ATM_CURRENT  AMT_DRAWINGS_CURRENT  \\\n",
              "MONTHS_BALANCE                              0.033207              0.065527   \n",
              "AMT_BALANCE                                 0.273009              0.336965   \n",
              "AMT_CREDIT_LIMIT_ACTUAL                     0.204340              0.263093   \n",
              "AMT_DRAWINGS_ATM_CURRENT                    1.000000              0.795494   \n",
              "AMT_DRAWINGS_ATM_CURRENT                    1.000000              0.795494   \n",
              "AMT_DRAWINGS_CURRENT                        0.795494              1.000000   \n",
              "AMT_DRAWINGS_OTHER_CURRENT                  0.017899              0.234910   \n",
              "AMT_DRAWINGS_POS_CURRENT                    0.078971              0.611979   \n",
              "AMT_INST_MIN_REGULARITY                     0.081195              0.116675   \n",
              "AMT_PAYMENT_CURRENT                         0.171215              0.308375   \n",
              "AMT_PAYMENT_TOTAL_CURRENT                   0.157960              0.305726   \n",
              "AMT_RECEIVABLE_PRINCIPAL                    0.270077              0.337117   \n",
              "AMT_RECIVABLE                               0.267953              0.332831   \n",
              "AMT_TOTAL_RECEIVABLE                        0.267921              0.332796   \n",
              "\n",
              "                            AMT_DRAWINGS_OTHER_CURRENT  \\\n",
              "MONTHS_BALANCE                                0.000365   \n",
              "AMT_BALANCE                                   0.062936   \n",
              "AMT_CREDIT_LIMIT_ACTUAL                       0.041806   \n",
              "AMT_DRAWINGS_ATM_CURRENT                      0.017899   \n",
              "AMT_DRAWINGS_ATM_CURRENT                      0.017899   \n",
              "AMT_DRAWINGS_CURRENT                          0.234910   \n",
              "AMT_DRAWINGS_OTHER_CURRENT                    1.000000   \n",
              "AMT_DRAWINGS_POS_CURRENT                      0.007382   \n",
              "AMT_INST_MIN_REGULARITY                       0.000927   \n",
              "AMT_PAYMENT_CURRENT                           0.027920   \n",
              "AMT_PAYMENT_TOTAL_CURRENT                     0.024930   \n",
              "AMT_RECEIVABLE_PRINCIPAL                      0.063674   \n",
              "AMT_RECIVABLE                                 0.062518   \n",
              "AMT_TOTAL_RECEIVABLE                          0.062511   \n",
              "\n",
              "                            AMT_DRAWINGS_POS_CURRENT  AMT_INST_MIN_REGULARITY  \\\n",
              "MONTHS_BALANCE                              0.106605                -0.083314   \n",
              "AMT_BALANCE                                 0.163149                 0.882768   \n",
              "AMT_CREDIT_LIMIT_ACTUAL                     0.194220                 0.453109   \n",
              "AMT_DRAWINGS_ATM_CURRENT                    0.078971                 0.081195   \n",
              "AMT_DRAWINGS_ATM_CURRENT                    0.078971                 0.081195   \n",
              "AMT_DRAWINGS_CURRENT                        0.611979                 0.116675   \n",
              "AMT_DRAWINGS_OTHER_CURRENT                  0.007382                 0.000927   \n",
              "AMT_DRAWINGS_POS_CURRENT                    1.000000                 0.060124   \n",
              "AMT_INST_MIN_REGULARITY                     0.060124                 1.000000   \n",
              "AMT_PAYMENT_CURRENT                         0.306697                 0.320919   \n",
              "AMT_PAYMENT_TOTAL_CURRENT                   0.299435                 0.332880   \n",
              "AMT_RECEIVABLE_PRINCIPAL                    0.167348                 0.882197   \n",
              "AMT_RECIVABLE                               0.162697                 0.883764   \n",
              "AMT_TOTAL_RECEIVABLE                        0.162673                 0.883733   \n",
              "\n",
              "                            AMT_PAYMENT_CURRENT  AMT_PAYMENT_TOTAL_CURRENT  \\\n",
              "MONTHS_BALANCE                         0.069226                   0.035614   \n",
              "AMT_BALANCE                            0.137779                   0.151349   \n",
              "AMT_CREDIT_LIMIT_ACTUAL                0.249290                   0.226570   \n",
              "AMT_DRAWINGS_ATM_CURRENT               0.171215                   0.157960   \n",
              "AMT_DRAWINGS_ATM_CURRENT               0.171215                   0.157960   \n",
              "AMT_DRAWINGS_CURRENT                   0.308375                   0.305726   \n",
              "AMT_DRAWINGS_OTHER_CURRENT             0.027920                   0.024930   \n",
              "AMT_DRAWINGS_POS_CURRENT               0.306697                   0.299435   \n",
              "AMT_INST_MIN_REGULARITY                0.320919                   0.332880   \n",
              "AMT_PAYMENT_CURRENT                    1.000000                   0.987749   \n",
              "AMT_PAYMENT_TOTAL_CURRENT              0.987749                   1.000000   \n",
              "AMT_RECEIVABLE_PRINCIPAL               0.137108                   0.149936   \n",
              "AMT_RECIVABLE                          0.136342                   0.149926   \n",
              "AMT_TOTAL_RECEIVABLE                   0.136324                   0.149914   \n",
              "\n",
              "                            AMT_RECEIVABLE_PRINCIPAL  AMT_RECIVABLE  \\\n",
              "MONTHS_BALANCE                              0.016266       0.013172   \n",
              "AMT_BALANCE                                 0.999720       0.999917   \n",
              "AMT_CREDIT_LIMIT_ACTUAL                     0.490445       0.488641   \n",
              "AMT_DRAWINGS_ATM_CURRENT                    0.270077       0.267953   \n",
              "AMT_DRAWINGS_ATM_CURRENT                    0.270077       0.267953   \n",
              "AMT_DRAWINGS_CURRENT                        0.337117       0.332831   \n",
              "AMT_DRAWINGS_OTHER_CURRENT                  0.063674       0.062518   \n",
              "AMT_DRAWINGS_POS_CURRENT                    0.167348       0.162697   \n",
              "AMT_INST_MIN_REGULARITY                     0.882197       0.883764   \n",
              "AMT_PAYMENT_CURRENT                         0.137108       0.136342   \n",
              "AMT_PAYMENT_TOTAL_CURRENT                   0.149936       0.149926   \n",
              "AMT_RECEIVABLE_PRINCIPAL                    1.000000       0.999727   \n",
              "AMT_RECIVABLE                               0.999727       1.000000   \n",
              "AMT_TOTAL_RECEIVABLE                        0.999702       0.999995   \n",
              "\n",
              "                            AMT_TOTAL_RECEIVABLE  \n",
              "MONTHS_BALANCE                          0.013084  \n",
              "AMT_BALANCE                             0.999897  \n",
              "AMT_CREDIT_LIMIT_ACTUAL                 0.488598  \n",
              "AMT_DRAWINGS_ATM_CURRENT                0.267921  \n",
              "AMT_DRAWINGS_ATM_CURRENT                0.267921  \n",
              "AMT_DRAWINGS_CURRENT                    0.332796  \n",
              "AMT_DRAWINGS_OTHER_CURRENT              0.062511  \n",
              "AMT_DRAWINGS_POS_CURRENT                0.162673  \n",
              "AMT_INST_MIN_REGULARITY                 0.883733  \n",
              "AMT_PAYMENT_CURRENT                     0.136324  \n",
              "AMT_PAYMENT_TOTAL_CURRENT               0.149914  \n",
              "AMT_RECEIVABLE_PRINCIPAL                0.999702  \n",
              "AMT_RECIVABLE                           0.999995  \n",
              "AMT_TOTAL_RECEIVABLE                    1.000000  "
            ],
            "text/html": [
              "\n",
              "  <div id=\"df-286c9ea3-5a0b-4aa8-8238-f51774eac938\">\n",
              "    <div class=\"colab-df-container\">\n",
              "      <div>\n",
              "<style scoped>\n",
              "    .dataframe tbody tr th:only-of-type {\n",
              "        vertical-align: middle;\n",
              "    }\n",
              "\n",
              "    .dataframe tbody tr th {\n",
              "        vertical-align: top;\n",
              "    }\n",
              "\n",
              "    .dataframe thead th {\n",
              "        text-align: right;\n",
              "    }\n",
              "</style>\n",
              "<table border=\"1\" class=\"dataframe\">\n",
              "  <thead>\n",
              "    <tr style=\"text-align: right;\">\n",
              "      <th></th>\n",
              "      <th>MONTHS_BALANCE</th>\n",
              "      <th>AMT_BALANCE</th>\n",
              "      <th>AMT_CREDIT_LIMIT_ACTUAL</th>\n",
              "      <th>AMT_DRAWINGS_ATM_CURRENT</th>\n",
              "      <th>AMT_DRAWINGS_ATM_CURRENT</th>\n",
              "      <th>AMT_DRAWINGS_CURRENT</th>\n",
              "      <th>AMT_DRAWINGS_OTHER_CURRENT</th>\n",
              "      <th>AMT_DRAWINGS_POS_CURRENT</th>\n",
              "      <th>AMT_INST_MIN_REGULARITY</th>\n",
              "      <th>AMT_PAYMENT_CURRENT</th>\n",
              "      <th>AMT_PAYMENT_TOTAL_CURRENT</th>\n",
              "      <th>AMT_RECEIVABLE_PRINCIPAL</th>\n",
              "      <th>AMT_RECIVABLE</th>\n",
              "      <th>AMT_TOTAL_RECEIVABLE</th>\n",
              "    </tr>\n",
              "  </thead>\n",
              "  <tbody>\n",
              "    <tr>\n",
              "      <th>MONTHS_BALANCE</th>\n",
              "      <td>1.000000</td>\n",
              "      <td>0.014558</td>\n",
              "      <td>0.199900</td>\n",
              "      <td>0.033207</td>\n",
              "      <td>0.033207</td>\n",
              "      <td>0.065527</td>\n",
              "      <td>0.000365</td>\n",
              "      <td>0.106605</td>\n",
              "      <td>-0.083314</td>\n",
              "      <td>0.069226</td>\n",
              "      <td>0.035614</td>\n",
              "      <td>0.016266</td>\n",
              "      <td>0.013172</td>\n",
              "      <td>0.013084</td>\n",
              "    </tr>\n",
              "    <tr>\n",
              "      <th>AMT_BALANCE</th>\n",
              "      <td>0.014558</td>\n",
              "      <td>1.000000</td>\n",
              "      <td>0.489386</td>\n",
              "      <td>0.273009</td>\n",
              "      <td>0.273009</td>\n",
              "      <td>0.336965</td>\n",
              "      <td>0.062936</td>\n",
              "      <td>0.163149</td>\n",
              "      <td>0.882768</td>\n",
              "      <td>0.137779</td>\n",
              "      <td>0.151349</td>\n",
              "      <td>0.999720</td>\n",
              "      <td>0.999917</td>\n",
              "      <td>0.999897</td>\n",
              "    </tr>\n",
              "    <tr>\n",
              "      <th>AMT_CREDIT_LIMIT_ACTUAL</th>\n",
              "      <td>0.199900</td>\n",
              "      <td>0.489386</td>\n",
              "      <td>1.000000</td>\n",
              "      <td>0.204340</td>\n",
              "      <td>0.204340</td>\n",
              "      <td>0.263093</td>\n",
              "      <td>0.041806</td>\n",
              "      <td>0.194220</td>\n",
              "      <td>0.453109</td>\n",
              "      <td>0.249290</td>\n",
              "      <td>0.226570</td>\n",
              "      <td>0.490445</td>\n",
              "      <td>0.488641</td>\n",
              "      <td>0.488598</td>\n",
              "    </tr>\n",
              "    <tr>\n",
              "      <th>AMT_DRAWINGS_ATM_CURRENT</th>\n",
              "      <td>0.033207</td>\n",
              "      <td>0.273009</td>\n",
              "      <td>0.204340</td>\n",
              "      <td>1.000000</td>\n",
              "      <td>1.000000</td>\n",
              "      <td>0.795494</td>\n",
              "      <td>0.017899</td>\n",
              "      <td>0.078971</td>\n",
              "      <td>0.081195</td>\n",
              "      <td>0.171215</td>\n",
              "      <td>0.157960</td>\n",
              "      <td>0.270077</td>\n",
              "      <td>0.267953</td>\n",
              "      <td>0.267921</td>\n",
              "    </tr>\n",
              "    <tr>\n",
              "      <th>AMT_DRAWINGS_ATM_CURRENT</th>\n",
              "      <td>0.033207</td>\n",
              "      <td>0.273009</td>\n",
              "      <td>0.204340</td>\n",
              "      <td>1.000000</td>\n",
              "      <td>1.000000</td>\n",
              "      <td>0.795494</td>\n",
              "      <td>0.017899</td>\n",
              "      <td>0.078971</td>\n",
              "      <td>0.081195</td>\n",
              "      <td>0.171215</td>\n",
              "      <td>0.157960</td>\n",
              "      <td>0.270077</td>\n",
              "      <td>0.267953</td>\n",
              "      <td>0.267921</td>\n",
              "    </tr>\n",
              "    <tr>\n",
              "      <th>AMT_DRAWINGS_CURRENT</th>\n",
              "      <td>0.065527</td>\n",
              "      <td>0.336965</td>\n",
              "      <td>0.263093</td>\n",
              "      <td>0.795494</td>\n",
              "      <td>0.795494</td>\n",
              "      <td>1.000000</td>\n",
              "      <td>0.234910</td>\n",
              "      <td>0.611979</td>\n",
              "      <td>0.116675</td>\n",
              "      <td>0.308375</td>\n",
              "      <td>0.305726</td>\n",
              "      <td>0.337117</td>\n",
              "      <td>0.332831</td>\n",
              "      <td>0.332796</td>\n",
              "    </tr>\n",
              "    <tr>\n",
              "      <th>AMT_DRAWINGS_OTHER_CURRENT</th>\n",
              "      <td>0.000365</td>\n",
              "      <td>0.062936</td>\n",
              "      <td>0.041806</td>\n",
              "      <td>0.017899</td>\n",
              "      <td>0.017899</td>\n",
              "      <td>0.234910</td>\n",
              "      <td>1.000000</td>\n",
              "      <td>0.007382</td>\n",
              "      <td>0.000927</td>\n",
              "      <td>0.027920</td>\n",
              "      <td>0.024930</td>\n",
              "      <td>0.063674</td>\n",
              "      <td>0.062518</td>\n",
              "      <td>0.062511</td>\n",
              "    </tr>\n",
              "    <tr>\n",
              "      <th>AMT_DRAWINGS_POS_CURRENT</th>\n",
              "      <td>0.106605</td>\n",
              "      <td>0.163149</td>\n",
              "      <td>0.194220</td>\n",
              "      <td>0.078971</td>\n",
              "      <td>0.078971</td>\n",
              "      <td>0.611979</td>\n",
              "      <td>0.007382</td>\n",
              "      <td>1.000000</td>\n",
              "      <td>0.060124</td>\n",
              "      <td>0.306697</td>\n",
              "      <td>0.299435</td>\n",
              "      <td>0.167348</td>\n",
              "      <td>0.162697</td>\n",
              "      <td>0.162673</td>\n",
              "    </tr>\n",
              "    <tr>\n",
              "      <th>AMT_INST_MIN_REGULARITY</th>\n",
              "      <td>-0.083314</td>\n",
              "      <td>0.882768</td>\n",
              "      <td>0.453109</td>\n",
              "      <td>0.081195</td>\n",
              "      <td>0.081195</td>\n",
              "      <td>0.116675</td>\n",
              "      <td>0.000927</td>\n",
              "      <td>0.060124</td>\n",
              "      <td>1.000000</td>\n",
              "      <td>0.320919</td>\n",
              "      <td>0.332880</td>\n",
              "      <td>0.882197</td>\n",
              "      <td>0.883764</td>\n",
              "      <td>0.883733</td>\n",
              "    </tr>\n",
              "    <tr>\n",
              "      <th>AMT_PAYMENT_CURRENT</th>\n",
              "      <td>0.069226</td>\n",
              "      <td>0.137779</td>\n",
              "      <td>0.249290</td>\n",
              "      <td>0.171215</td>\n",
              "      <td>0.171215</td>\n",
              "      <td>0.308375</td>\n",
              "      <td>0.027920</td>\n",
              "      <td>0.306697</td>\n",
              "      <td>0.320919</td>\n",
              "      <td>1.000000</td>\n",
              "      <td>0.987749</td>\n",
              "      <td>0.137108</td>\n",
              "      <td>0.136342</td>\n",
              "      <td>0.136324</td>\n",
              "    </tr>\n",
              "    <tr>\n",
              "      <th>AMT_PAYMENT_TOTAL_CURRENT</th>\n",
              "      <td>0.035614</td>\n",
              "      <td>0.151349</td>\n",
              "      <td>0.226570</td>\n",
              "      <td>0.157960</td>\n",
              "      <td>0.157960</td>\n",
              "      <td>0.305726</td>\n",
              "      <td>0.024930</td>\n",
              "      <td>0.299435</td>\n",
              "      <td>0.332880</td>\n",
              "      <td>0.987749</td>\n",
              "      <td>1.000000</td>\n",
              "      <td>0.149936</td>\n",
              "      <td>0.149926</td>\n",
              "      <td>0.149914</td>\n",
              "    </tr>\n",
              "    <tr>\n",
              "      <th>AMT_RECEIVABLE_PRINCIPAL</th>\n",
              "      <td>0.016266</td>\n",
              "      <td>0.999720</td>\n",
              "      <td>0.490445</td>\n",
              "      <td>0.270077</td>\n",
              "      <td>0.270077</td>\n",
              "      <td>0.337117</td>\n",
              "      <td>0.063674</td>\n",
              "      <td>0.167348</td>\n",
              "      <td>0.882197</td>\n",
              "      <td>0.137108</td>\n",
              "      <td>0.149936</td>\n",
              "      <td>1.000000</td>\n",
              "      <td>0.999727</td>\n",
              "      <td>0.999702</td>\n",
              "    </tr>\n",
              "    <tr>\n",
              "      <th>AMT_RECIVABLE</th>\n",
              "      <td>0.013172</td>\n",
              "      <td>0.999917</td>\n",
              "      <td>0.488641</td>\n",
              "      <td>0.267953</td>\n",
              "      <td>0.267953</td>\n",
              "      <td>0.332831</td>\n",
              "      <td>0.062518</td>\n",
              "      <td>0.162697</td>\n",
              "      <td>0.883764</td>\n",
              "      <td>0.136342</td>\n",
              "      <td>0.149926</td>\n",
              "      <td>0.999727</td>\n",
              "      <td>1.000000</td>\n",
              "      <td>0.999995</td>\n",
              "    </tr>\n",
              "    <tr>\n",
              "      <th>AMT_TOTAL_RECEIVABLE</th>\n",
              "      <td>0.013084</td>\n",
              "      <td>0.999897</td>\n",
              "      <td>0.488598</td>\n",
              "      <td>0.267921</td>\n",
              "      <td>0.267921</td>\n",
              "      <td>0.332796</td>\n",
              "      <td>0.062511</td>\n",
              "      <td>0.162673</td>\n",
              "      <td>0.883733</td>\n",
              "      <td>0.136324</td>\n",
              "      <td>0.149914</td>\n",
              "      <td>0.999702</td>\n",
              "      <td>0.999995</td>\n",
              "      <td>1.000000</td>\n",
              "    </tr>\n",
              "  </tbody>\n",
              "</table>\n",
              "</div>\n",
              "      <button class=\"colab-df-convert\" onclick=\"convertToInteractive('df-286c9ea3-5a0b-4aa8-8238-f51774eac938')\"\n",
              "              title=\"Convert this dataframe to an interactive table.\"\n",
              "              style=\"display:none;\">\n",
              "        \n",
              "  <svg xmlns=\"http://www.w3.org/2000/svg\" height=\"24px\"viewBox=\"0 0 24 24\"\n",
              "       width=\"24px\">\n",
              "    <path d=\"M0 0h24v24H0V0z\" fill=\"none\"/>\n",
              "    <path d=\"M18.56 5.44l.94 2.06.94-2.06 2.06-.94-2.06-.94-.94-2.06-.94 2.06-2.06.94zm-11 1L8.5 8.5l.94-2.06 2.06-.94-2.06-.94L8.5 2.5l-.94 2.06-2.06.94zm10 10l.94 2.06.94-2.06 2.06-.94-2.06-.94-.94-2.06-.94 2.06-2.06.94z\"/><path d=\"M17.41 7.96l-1.37-1.37c-.4-.4-.92-.59-1.43-.59-.52 0-1.04.2-1.43.59L10.3 9.45l-7.72 7.72c-.78.78-.78 2.05 0 2.83L4 21.41c.39.39.9.59 1.41.59.51 0 1.02-.2 1.41-.59l7.78-7.78 2.81-2.81c.8-.78.8-2.07 0-2.86zM5.41 20L4 18.59l7.72-7.72 1.47 1.35L5.41 20z\"/>\n",
              "  </svg>\n",
              "      </button>\n",
              "      \n",
              "  <style>\n",
              "    .colab-df-container {\n",
              "      display:flex;\n",
              "      flex-wrap:wrap;\n",
              "      gap: 12px;\n",
              "    }\n",
              "\n",
              "    .colab-df-convert {\n",
              "      background-color: #E8F0FE;\n",
              "      border: none;\n",
              "      border-radius: 50%;\n",
              "      cursor: pointer;\n",
              "      display: none;\n",
              "      fill: #1967D2;\n",
              "      height: 32px;\n",
              "      padding: 0 0 0 0;\n",
              "      width: 32px;\n",
              "    }\n",
              "\n",
              "    .colab-df-convert:hover {\n",
              "      background-color: #E2EBFA;\n",
              "      box-shadow: 0px 1px 2px rgba(60, 64, 67, 0.3), 0px 1px 3px 1px rgba(60, 64, 67, 0.15);\n",
              "      fill: #174EA6;\n",
              "    }\n",
              "\n",
              "    [theme=dark] .colab-df-convert {\n",
              "      background-color: #3B4455;\n",
              "      fill: #D2E3FC;\n",
              "    }\n",
              "\n",
              "    [theme=dark] .colab-df-convert:hover {\n",
              "      background-color: #434B5C;\n",
              "      box-shadow: 0px 1px 3px 1px rgba(0, 0, 0, 0.15);\n",
              "      filter: drop-shadow(0px 1px 2px rgba(0, 0, 0, 0.3));\n",
              "      fill: #FFFFFF;\n",
              "    }\n",
              "  </style>\n",
              "\n",
              "      <script>\n",
              "        const buttonEl =\n",
              "          document.querySelector('#df-286c9ea3-5a0b-4aa8-8238-f51774eac938 button.colab-df-convert');\n",
              "        buttonEl.style.display =\n",
              "          google.colab.kernel.accessAllowed ? 'block' : 'none';\n",
              "\n",
              "        async function convertToInteractive(key) {\n",
              "          const element = document.querySelector('#df-286c9ea3-5a0b-4aa8-8238-f51774eac938');\n",
              "          const dataTable =\n",
              "            await google.colab.kernel.invokeFunction('convertToInteractive',\n",
              "                                                     [key], {});\n",
              "          if (!dataTable) return;\n",
              "\n",
              "          const docLinkHtml = 'Like what you see? Visit the ' +\n",
              "            '<a target=\"_blank\" href=https://colab.research.google.com/notebooks/data_table.ipynb>data table notebook</a>'\n",
              "            + ' to learn more about interactive tables.';\n",
              "          element.innerHTML = '';\n",
              "          dataTable['output_type'] = 'display_data';\n",
              "          await google.colab.output.renderOutput(dataTable, element);\n",
              "          const docLink = document.createElement('div');\n",
              "          docLink.innerHTML = docLinkHtml;\n",
              "          element.appendChild(docLink);\n",
              "        }\n",
              "      </script>\n",
              "    </div>\n",
              "  </div>\n",
              "  "
            ]
          },
          "metadata": {},
          "execution_count": 283
        }
      ]
    },
    {
      "cell_type": "code",
      "source": [
        "plt.figure(figsize=(8,8))\n",
        "sns.heatmap(data_credit_card_balance1.corr(), annot=True, cmap=\"coolwarm\").set_title('Seaborn')"
      ],
      "metadata": {
        "colab": {
          "base_uri": "https://localhost:8080/",
          "height": 680
        },
        "id": "-o_PnSKKCyYh",
        "outputId": "764b3605-5628-4415-a501-88d9bf76c365"
      },
      "execution_count": 285,
      "outputs": [
        {
          "output_type": "execute_result",
          "data": {
            "text/plain": [
              "Text(0.5, 1.0, 'Seaborn')"
            ]
          },
          "metadata": {},
          "execution_count": 285
        },
        {
          "output_type": "display_data",
          "data": {
            "text/plain": [
              "<Figure size 576x576 with 2 Axes>"
            ],
            "image/png": "[encoded data removed]"
          },
          "metadata": {
            "needs_background": "light"
          }
        }
      ]
    },
    {
      "cell_type": "markdown",
      "source": [
        "####Installments Payments"
      ],
      "metadata": {
        "id": "gwzzy6LpDCQO"
      }
    },
    {
      "cell_type": "code",
      "source": [
        "data_installments_payments1 = data_installments_payments[['NUM_INSTALMENT_VERSION','NUM_INSTALMENT_NUMBER','DAYS_INSTALMENT','DAYS_ENTRY_PAYMENT','AMT_INSTALMENT','AMT_PAYMENT']]\n",
        "data_installments_payments1.head()"
      ],
      "metadata": {
        "colab": {
          "base_uri": "https://localhost:8080/",
          "height": 206
        },
        "id": "ND7ALGVRDJfG",
        "outputId": "8e00edd8-c9dd-4569-84ef-0b7b2ec05835"
      },
      "execution_count": 286,
      "outputs": [
        {
          "output_type": "execute_result",
          "data": {
            "text/plain": [
              "   NUM_INSTALMENT_VERSION  NUM_INSTALMENT_NUMBER  DAYS_INSTALMENT  \\\n",
              "0                     1.0                      6          -1180.0   \n",
              "1                     0.0                     34          -2156.0   \n",
              "2                     2.0                      1            -63.0   \n",
              "3                     1.0                      3          -2418.0   \n",
              "4                     1.0                      2          -1383.0   \n",
              "\n",
              "   DAYS_ENTRY_PAYMENT  AMT_INSTALMENT  AMT_PAYMENT  \n",
              "0             -1187.0        6948.360     6948.360  \n",
              "1             -2156.0        1716.525     1716.525  \n",
              "2               -63.0       25425.000    25425.000  \n",
              "3             -2426.0       24350.130    24350.130  \n",
              "4             -1366.0        2165.040     2160.585  "
            ],
            "text/html": [
              "\n",
              "  <div id=\"df-b0549f5d-8bfb-444b-bbd6-cce0ce6b23fa\">\n",
              "    <div class=\"colab-df-container\">\n",
              "      <div>\n",
              "<style scoped>\n",
              "    .dataframe tbody tr th:only-of-type {\n",
              "        vertical-align: middle;\n",
              "    }\n",
              "\n",
              "    .dataframe tbody tr th {\n",
              "        vertical-align: top;\n",
              "    }\n",
              "\n",
              "    .dataframe thead th {\n",
              "        text-align: right;\n",
              "    }\n",
              "</style>\n",
              "<table border=\"1\" class=\"dataframe\">\n",
              "  <thead>\n",
              "    <tr style=\"text-align: right;\">\n",
              "      <th></th>\n",
              "      <th>NUM_INSTALMENT_VERSION</th>\n",
              "      <th>NUM_INSTALMENT_NUMBER</th>\n",
              "      <th>DAYS_INSTALMENT</th>\n",
              "      <th>DAYS_ENTRY_PAYMENT</th>\n",
              "      <th>AMT_INSTALMENT</th>\n",
              "      <th>AMT_PAYMENT</th>\n",
              "    </tr>\n",
              "  </thead>\n",
              "  <tbody>\n",
              "    <tr>\n",
              "      <th>0</th>\n",
              "      <td>1.0</td>\n",
              "      <td>6</td>\n",
              "      <td>-1180.0</td>\n",
              "      <td>-1187.0</td>\n",
              "      <td>6948.360</td>\n",
              "      <td>6948.360</td>\n",
              "    </tr>\n",
              "    <tr>\n",
              "      <th>1</th>\n",
              "      <td>0.0</td>\n",
              "      <td>34</td>\n",
              "      <td>-2156.0</td>\n",
              "      <td>-2156.0</td>\n",
              "      <td>1716.525</td>\n",
              "      <td>1716.525</td>\n",
              "    </tr>\n",
              "    <tr>\n",
              "      <th>2</th>\n",
              "      <td>2.0</td>\n",
              "      <td>1</td>\n",
              "      <td>-63.0</td>\n",
              "      <td>-63.0</td>\n",
              "      <td>25425.000</td>\n",
              "      <td>25425.000</td>\n",
              "    </tr>\n",
              "    <tr>\n",
              "      <th>3</th>\n",
              "      <td>1.0</td>\n",
              "      <td>3</td>\n",
              "      <td>-2418.0</td>\n",
              "      <td>-2426.0</td>\n",
              "      <td>24350.130</td>\n",
              "      <td>24350.130</td>\n",
              "    </tr>\n",
              "    <tr>\n",
              "      <th>4</th>\n",
              "      <td>1.0</td>\n",
              "      <td>2</td>\n",
              "      <td>-1383.0</td>\n",
              "      <td>-1366.0</td>\n",
              "      <td>2165.040</td>\n",
              "      <td>2160.585</td>\n",
              "    </tr>\n",
              "  </tbody>\n",
              "</table>\n",
              "</div>\n",
              "      <button class=\"colab-df-convert\" onclick=\"convertToInteractive('df-b0549f5d-8bfb-444b-bbd6-cce0ce6b23fa')\"\n",
              "              title=\"Convert this dataframe to an interactive table.\"\n",
              "              style=\"display:none;\">\n",
              "        \n",
              "  <svg xmlns=\"http://www.w3.org/2000/svg\" height=\"24px\"viewBox=\"0 0 24 24\"\n",
              "       width=\"24px\">\n",
              "    <path d=\"M0 0h24v24H0V0z\" fill=\"none\"/>\n",
              "    <path d=\"M18.56 5.44l.94 2.06.94-2.06 2.06-.94-2.06-.94-.94-2.06-.94 2.06-2.06.94zm-11 1L8.5 8.5l.94-2.06 2.06-.94-2.06-.94L8.5 2.5l-.94 2.06-2.06.94zm10 10l.94 2.06.94-2.06 2.06-.94-2.06-.94-.94-2.06-.94 2.06-2.06.94z\"/><path d=\"M17.41 7.96l-1.37-1.37c-.4-.4-.92-.59-1.43-.59-.52 0-1.04.2-1.43.59L10.3 9.45l-7.72 7.72c-.78.78-.78 2.05 0 2.83L4 21.41c.39.39.9.59 1.41.59.51 0 1.02-.2 1.41-.59l7.78-7.78 2.81-2.81c.8-.78.8-2.07 0-2.86zM5.41 20L4 18.59l7.72-7.72 1.47 1.35L5.41 20z\"/>\n",
              "  </svg>\n",
              "      </button>\n",
              "      \n",
              "  <style>\n",
              "    .colab-df-container {\n",
              "      display:flex;\n",
              "      flex-wrap:wrap;\n",
              "      gap: 12px;\n",
              "    }\n",
              "\n",
              "    .colab-df-convert {\n",
              "      background-color: #E8F0FE;\n",
              "      border: none;\n",
              "      border-radius: 50%;\n",
              "      cursor: pointer;\n",
              "      display: none;\n",
              "      fill: #1967D2;\n",
              "      height: 32px;\n",
              "      padding: 0 0 0 0;\n",
              "      width: 32px;\n",
              "    }\n",
              "\n",
              "    .colab-df-convert:hover {\n",
              "      background-color: #E2EBFA;\n",
              "      box-shadow: 0px 1px 2px rgba(60, 64, 67, 0.3), 0px 1px 3px 1px rgba(60, 64, 67, 0.15);\n",
              "      fill: #174EA6;\n",
              "    }\n",
              "\n",
              "    [theme=dark] .colab-df-convert {\n",
              "      background-color: #3B4455;\n",
              "      fill: #D2E3FC;\n",
              "    }\n",
              "\n",
              "    [theme=dark] .colab-df-convert:hover {\n",
              "      background-color: #434B5C;\n",
              "      box-shadow: 0px 1px 3px 1px rgba(0, 0, 0, 0.15);\n",
              "      filter: drop-shadow(0px 1px 2px rgba(0, 0, 0, 0.3));\n",
              "      fill: #FFFFFF;\n",
              "    }\n",
              "  </style>\n",
              "\n",
              "      <script>\n",
              "        const buttonEl =\n",
              "          document.querySelector('#df-b0549f5d-8bfb-444b-bbd6-cce0ce6b23fa button.colab-df-convert');\n",
              "        buttonEl.style.display =\n",
              "          google.colab.kernel.accessAllowed ? 'block' : 'none';\n",
              "\n",
              "        async function convertToInteractive(key) {\n",
              "          const element = document.querySelector('#df-b0549f5d-8bfb-444b-bbd6-cce0ce6b23fa');\n",
              "          const dataTable =\n",
              "            await google.colab.kernel.invokeFunction('convertToInteractive',\n",
              "                                                     [key], {});\n",
              "          if (!dataTable) return;\n",
              "\n",
              "          const docLinkHtml = 'Like what you see? Visit the ' +\n",
              "            '<a target=\"_blank\" href=https://colab.research.google.com/notebooks/data_table.ipynb>data table notebook</a>'\n",
              "            + ' to learn more about interactive tables.';\n",
              "          element.innerHTML = '';\n",
              "          dataTable['output_type'] = 'display_data';\n",
              "          await google.colab.output.renderOutput(dataTable, element);\n",
              "          const docLink = document.createElement('div');\n",
              "          docLink.innerHTML = docLinkHtml;\n",
              "          element.appendChild(docLink);\n",
              "        }\n",
              "      </script>\n",
              "    </div>\n",
              "  </div>\n",
              "  "
            ]
          },
          "metadata": {},
          "execution_count": 286
        }
      ]
    },
    {
      "cell_type": "code",
      "source": [
        "data_installments_payments1.corr()"
      ],
      "metadata": {
        "colab": {
          "base_uri": "https://localhost:8080/",
          "height": 238
        },
        "id": "etSkId2LDgDs",
        "outputId": "70031e2f-e0c4-45db-aed6-cb22e176ed19"
      },
      "execution_count": 287,
      "outputs": [
        {
          "output_type": "execute_result",
          "data": {
            "text/plain": [
              "                        NUM_INSTALMENT_VERSION  NUM_INSTALMENT_NUMBER  \\\n",
              "NUM_INSTALMENT_VERSION                1.000000              -0.323414   \n",
              "NUM_INSTALMENT_NUMBER                -0.323414               1.000000   \n",
              "DAYS_INSTALMENT                       0.130244               0.090286   \n",
              "DAYS_ENTRY_PAYMENT                    0.127673               0.094285   \n",
              "AMT_INSTALMENT                        0.168109              -0.089640   \n",
              "AMT_PAYMENT                           0.176553              -0.087646   \n",
              "\n",
              "                        DAYS_INSTALMENT  DAYS_ENTRY_PAYMENT  AMT_INSTALMENT  \\\n",
              "NUM_INSTALMENT_VERSION         0.130244            0.127673        0.168109   \n",
              "NUM_INSTALMENT_NUMBER          0.090286            0.094285       -0.089640   \n",
              "DAYS_INSTALMENT                1.000000            0.999384        0.125985   \n",
              "DAYS_ENTRY_PAYMENT             0.999384            1.000000        0.125538   \n",
              "AMT_INSTALMENT                 0.125985            0.125538        1.000000   \n",
              "AMT_PAYMENT                    0.127004            0.126602        0.937061   \n",
              "\n",
              "                        AMT_PAYMENT  \n",
              "NUM_INSTALMENT_VERSION     0.176553  \n",
              "NUM_INSTALMENT_NUMBER     -0.087646  \n",
              "DAYS_INSTALMENT            0.127004  \n",
              "DAYS_ENTRY_PAYMENT         0.126602  \n",
              "AMT_INSTALMENT             0.937061  \n",
              "AMT_PAYMENT                1.000000  "
            ],
            "text/html": [
              "\n",
              "  <div id=\"df-3bbb8113-bcf9-46b0-84b1-0862690a448a\">\n",
              "    <div class=\"colab-df-container\">\n",
              "      <div>\n",
              "<style scoped>\n",
              "    .dataframe tbody tr th:only-of-type {\n",
              "        vertical-align: middle;\n",
              "    }\n",
              "\n",
              "    .dataframe tbody tr th {\n",
              "        vertical-align: top;\n",
              "    }\n",
              "\n",
              "    .dataframe thead th {\n",
              "        text-align: right;\n",
              "    }\n",
              "</style>\n",
              "<table border=\"1\" class=\"dataframe\">\n",
              "  <thead>\n",
              "    <tr style=\"text-align: right;\">\n",
              "      <th></th>\n",
              "      <th>NUM_INSTALMENT_VERSION</th>\n",
              "      <th>NUM_INSTALMENT_NUMBER</th>\n",
              "      <th>DAYS_INSTALMENT</th>\n",
              "      <th>DAYS_ENTRY_PAYMENT</th>\n",
              "      <th>AMT_INSTALMENT</th>\n",
              "      <th>AMT_PAYMENT</th>\n",
              "    </tr>\n",
              "  </thead>\n",
              "  <tbody>\n",
              "    <tr>\n",
              "      <th>NUM_INSTALMENT_VERSION</th>\n",
              "      <td>1.000000</td>\n",
              "      <td>-0.323414</td>\n",
              "      <td>0.130244</td>\n",
              "      <td>0.127673</td>\n",
              "      <td>0.168109</td>\n",
              "      <td>0.176553</td>\n",
              "    </tr>\n",
              "    <tr>\n",
              "      <th>NUM_INSTALMENT_NUMBER</th>\n",
              "      <td>-0.323414</td>\n",
              "      <td>1.000000</td>\n",
              "      <td>0.090286</td>\n",
              "      <td>0.094285</td>\n",
              "      <td>-0.089640</td>\n",
              "      <td>-0.087646</td>\n",
              "    </tr>\n",
              "    <tr>\n",
              "      <th>DAYS_INSTALMENT</th>\n",
              "      <td>0.130244</td>\n",
              "      <td>0.090286</td>\n",
              "      <td>1.000000</td>\n",
              "      <td>0.999384</td>\n",
              "      <td>0.125985</td>\n",
              "      <td>0.127004</td>\n",
              "    </tr>\n",
              "    <tr>\n",
              "      <th>DAYS_ENTRY_PAYMENT</th>\n",
              "      <td>0.127673</td>\n",
              "      <td>0.094285</td>\n",
              "      <td>0.999384</td>\n",
              "      <td>1.000000</td>\n",
              "      <td>0.125538</td>\n",
              "      <td>0.126602</td>\n",
              "    </tr>\n",
              "    <tr>\n",
              "      <th>AMT_INSTALMENT</th>\n",
              "      <td>0.168109</td>\n",
              "      <td>-0.089640</td>\n",
              "      <td>0.125985</td>\n",
              "      <td>0.125538</td>\n",
              "      <td>1.000000</td>\n",
              "      <td>0.937061</td>\n",
              "    </tr>\n",
              "    <tr>\n",
              "      <th>AMT_PAYMENT</th>\n",
              "      <td>0.176553</td>\n",
              "      <td>-0.087646</td>\n",
              "      <td>0.127004</td>\n",
              "      <td>0.126602</td>\n",
              "      <td>0.937061</td>\n",
              "      <td>1.000000</td>\n",
              "    </tr>\n",
              "  </tbody>\n",
              "</table>\n",
              "</div>\n",
              "      <button class=\"colab-df-convert\" onclick=\"convertToInteractive('df-3bbb8113-bcf9-46b0-84b1-0862690a448a')\"\n",
              "              title=\"Convert this dataframe to an interactive table.\"\n",
              "              style=\"display:none;\">\n",
              "        \n",
              "  <svg xmlns=\"http://www.w3.org/2000/svg\" height=\"24px\"viewBox=\"0 0 24 24\"\n",
              "       width=\"24px\">\n",
              "    <path d=\"M0 0h24v24H0V0z\" fill=\"none\"/>\n",
              "    <path d=\"M18.56 5.44l.94 2.06.94-2.06 2.06-.94-2.06-.94-.94-2.06-.94 2.06-2.06.94zm-11 1L8.5 8.5l.94-2.06 2.06-.94-2.06-.94L8.5 2.5l-.94 2.06-2.06.94zm10 10l.94 2.06.94-2.06 2.06-.94-2.06-.94-.94-2.06-.94 2.06-2.06.94z\"/><path d=\"M17.41 7.96l-1.37-1.37c-.4-.4-.92-.59-1.43-.59-.52 0-1.04.2-1.43.59L10.3 9.45l-7.72 7.72c-.78.78-.78 2.05 0 2.83L4 21.41c.39.39.9.59 1.41.59.51 0 1.02-.2 1.41-.59l7.78-7.78 2.81-2.81c.8-.78.8-2.07 0-2.86zM5.41 20L4 18.59l7.72-7.72 1.47 1.35L5.41 20z\"/>\n",
              "  </svg>\n",
              "      </button>\n",
              "      \n",
              "  <style>\n",
              "    .colab-df-container {\n",
              "      display:flex;\n",
              "      flex-wrap:wrap;\n",
              "      gap: 12px;\n",
              "    }\n",
              "\n",
              "    .colab-df-convert {\n",
              "      background-color: #E8F0FE;\n",
              "      border: none;\n",
              "      border-radius: 50%;\n",
              "      cursor: pointer;\n",
              "      display: none;\n",
              "      fill: #1967D2;\n",
              "      height: 32px;\n",
              "      padding: 0 0 0 0;\n",
              "      width: 32px;\n",
              "    }\n",
              "\n",
              "    .colab-df-convert:hover {\n",
              "      background-color: #E2EBFA;\n",
              "      box-shadow: 0px 1px 2px rgba(60, 64, 67, 0.3), 0px 1px 3px 1px rgba(60, 64, 67, 0.15);\n",
              "      fill: #174EA6;\n",
              "    }\n",
              "\n",
              "    [theme=dark] .colab-df-convert {\n",
              "      background-color: #3B4455;\n",
              "      fill: #D2E3FC;\n",
              "    }\n",
              "\n",
              "    [theme=dark] .colab-df-convert:hover {\n",
              "      background-color: #434B5C;\n",
              "      box-shadow: 0px 1px 3px 1px rgba(0, 0, 0, 0.15);\n",
              "      filter: drop-shadow(0px 1px 2px rgba(0, 0, 0, 0.3));\n",
              "      fill: #FFFFFF;\n",
              "    }\n",
              "  </style>\n",
              "\n",
              "      <script>\n",
              "        const buttonEl =\n",
              "          document.querySelector('#df-3bbb8113-bcf9-46b0-84b1-0862690a448a button.colab-df-convert');\n",
              "        buttonEl.style.display =\n",
              "          google.colab.kernel.accessAllowed ? 'block' : 'none';\n",
              "\n",
              "        async function convertToInteractive(key) {\n",
              "          const element = document.querySelector('#df-3bbb8113-bcf9-46b0-84b1-0862690a448a');\n",
              "          const dataTable =\n",
              "            await google.colab.kernel.invokeFunction('convertToInteractive',\n",
              "                                                     [key], {});\n",
              "          if (!dataTable) return;\n",
              "\n",
              "          const docLinkHtml = 'Like what you see? Visit the ' +\n",
              "            '<a target=\"_blank\" href=https://colab.research.google.com/notebooks/data_table.ipynb>data table notebook</a>'\n",
              "            + ' to learn more about interactive tables.';\n",
              "          element.innerHTML = '';\n",
              "          dataTable['output_type'] = 'display_data';\n",
              "          await google.colab.output.renderOutput(dataTable, element);\n",
              "          const docLink = document.createElement('div');\n",
              "          docLink.innerHTML = docLinkHtml;\n",
              "          element.appendChild(docLink);\n",
              "        }\n",
              "      </script>\n",
              "    </div>\n",
              "  </div>\n",
              "  "
            ]
          },
          "metadata": {},
          "execution_count": 287
        }
      ]
    },
    {
      "cell_type": "code",
      "source": [
        "plt.figure(figsize=(8,8))\n",
        "sns.heatmap(data_installments_payments1.corr(), annot=True, cmap=\"coolwarm\").set_title('Seaborn')"
      ],
      "metadata": {
        "colab": {
          "base_uri": "https://localhost:8080/",
          "height": 647
        },
        "id": "bmNQUzo1DjUg",
        "outputId": "cf1792c6-1081-4e65-efaa-395fe2ee1f5e"
      },
      "execution_count": 288,
      "outputs": [
        {
          "output_type": "execute_result",
          "data": {
            "text/plain": [
              "Text(0.5, 1.0, 'Seaborn')"
            ]
          },
          "metadata": {},
          "execution_count": 288
        },
        {
          "output_type": "display_data",
          "data": {
            "text/plain": [
              "<Figure size 576x576 with 2 Axes>"
            ],
            "image/png": "[encoded data removed]"
          },
          "metadata": {
            "needs_background": "light"
          }
        }
      ]
    }
  ]
}